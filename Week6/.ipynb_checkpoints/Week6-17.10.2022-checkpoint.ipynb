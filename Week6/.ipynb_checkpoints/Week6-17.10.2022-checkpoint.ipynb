{
 "cells": [
  {
   "cell_type": "markdown",
   "id": "d0218241-f73b-43cd-9d63-906ef6d90600",
   "metadata": {},
   "source": [
    "# [autocorrect](https://github.com/filyp/autocorrect)"
   ]
  },
  {
   "cell_type": "code",
   "execution_count": 1,
   "id": "32790f2f-9a96-44bb-9059-7df9ee11730f",
   "metadata": {},
   "outputs": [],
   "source": [
    "#pip install autocorrect"
   ]
  },
  {
   "cell_type": "code",
   "execution_count": 2,
   "id": "88206502-38b9-4f47-a510-c4168cbe5192",
   "metadata": {},
   "outputs": [],
   "source": [
    "from autocorrect import spell"
   ]
  },
  {
   "cell_type": "code",
   "execution_count": 3,
   "id": "2a39e586-07eb-4aa2-a093-6138bc010a9e",
   "metadata": {},
   "outputs": [
    {
     "name": "stdout",
     "output_type": "stream",
     "text": [
      "autocorrect.spell is deprecated,             use autocorrect.Speller instead\n"
     ]
    },
    {
     "data": {
      "text/plain": [
       "'The'"
      ]
     },
     "execution_count": 3,
     "metadata": {},
     "output_type": "execute_result"
    }
   ],
   "source": [
    "spell('Tghe')"
   ]
  },
  {
   "cell_type": "code",
   "execution_count": 4,
   "id": "efe39d52-043a-4298-bfc2-7723bc52316e",
   "metadata": {},
   "outputs": [
    {
     "name": "stdout",
     "output_type": "stream",
     "text": [
      "autocorrect.spell is deprecated,             use autocorrect.Speller instead\n"
     ]
    },
    {
     "data": {
      "text/plain": [
       "'arabia'"
      ]
     },
     "execution_count": 4,
     "metadata": {},
     "output_type": "execute_result"
    }
   ],
   "source": [
    "spell('arabaa')"
   ]
  },
  {
   "cell_type": "markdown",
   "id": "d2bda5af-b4c5-43df-854f-4325c6e3b53c",
   "metadata": {},
   "source": [
    "# [Textblob](https://textblob.readthedocs.io/en/dev/index.html)\n",
    "- It is a python library for textual data processing. It provides an interface for common natural language processing task."
   ]
  },
  {
   "cell_type": "code",
   "execution_count": 5,
   "id": "3b3121a0-85b1-4891-8d76-8e8f044594f5",
   "metadata": {},
   "outputs": [],
   "source": [
    "#pip install textblob"
   ]
  },
  {
   "cell_type": "code",
   "execution_count": 6,
   "id": "fbae3d5a-9fff-4623-aa7e-3ce4e9ed43e2",
   "metadata": {},
   "outputs": [
    {
     "name": "stdout",
     "output_type": "stream",
     "text": [
      "I have gooooooooooooood spelling\n"
     ]
    }
   ],
   "source": [
    "from textblob import TextBlob\n",
    "b = TextBlob('I havv gooooooooooooood spellliing')\n",
    "#print(b.detect_language())\n",
    "print(b.correct())\n",
    "\n",
    "#print(b.translate(to='es'))"
   ]
  },
  {
   "cell_type": "code",
   "execution_count": 7,
   "id": "eda283a1-f163-4038-881f-be618a2892f7",
   "metadata": {},
   "outputs": [
    {
     "data": {
      "text/plain": [
       "[('fallibility', 0.3333333333333333),\n",
       " ('capability', 0.3333333333333333),\n",
       " ('affability', 0.3333333333333333)]"
      ]
     },
     "execution_count": 7,
     "metadata": {},
     "output_type": "execute_result"
    }
   ],
   "source": [
    "from textblob import Word\n",
    "w = Word('falability')\n",
    "w.spellcheck()"
   ]
  },
  {
   "cell_type": "code",
   "execution_count": 8,
   "id": "ca166319-6763-4101-a8a8-0bbc12a2fc98",
   "metadata": {},
   "outputs": [],
   "source": [
    "#pip install langdetect"
   ]
  },
  {
   "cell_type": "code",
   "execution_count": 9,
   "id": "58a5fed1-ba99-4553-bcbb-5b87b2a94d87",
   "metadata": {},
   "outputs": [
    {
     "name": "stdout",
     "output_type": "stream",
     "text": [
      "en\n",
      "de\n",
      "pt\n",
      "tr\n"
     ]
    }
   ],
   "source": [
    "from langdetect import detect\n",
    "print(detect(\"War doesn't show who's right, just who's left.\"))\n",
    "print(detect(\"Ein, zwei, drei, vier\"))\n",
    "print(detect(\"Eu gosto de mulher\"))\n",
    "print(detect(\"Nasılsınız?\"))"
   ]
  },
  {
   "cell_type": "code",
   "execution_count": 10,
   "id": "0b2015c7-ebdb-4aba-a672-d32c950287f7",
   "metadata": {},
   "outputs": [
    {
     "data": {
      "text/plain": [
       "TextBlob(\"Ben İsa Mesih tarafından sevilen özgür bir siyah adamım.\")"
      ]
     },
     "execution_count": 10,
     "metadata": {},
     "output_type": "execute_result"
    }
   ],
   "source": [
    "en_blob = TextBlob(u'I am a free black man loved by Jesus Christ.')\n",
    "en_blob.translate(from_lang='en', to='tr')"
   ]
  },
  {
   "cell_type": "code",
   "execution_count": 11,
   "id": "505c79e4-498d-4587-8733-b46cf16b0cb9",
   "metadata": {},
   "outputs": [
    {
     "data": {
      "text/plain": [
       "TextBlob(\"Ich habe viel Arbeit\")"
      ]
     },
     "execution_count": 11,
     "metadata": {},
     "output_type": "execute_result"
    }
   ],
   "source": [
    "tr_blob = TextBlob(u'Benim çok işim var')\n",
    "tr_blob.translate(from_lang='tr', to='de')"
   ]
  },
  {
   "cell_type": "markdown",
   "id": "ac35f325-68a4-4765-ab6c-7243785002c3",
   "metadata": {},
   "source": [
    "# TF-IDF term Frequency - Inverse Document Frequency"
   ]
  },
  {
   "cell_type": "code",
   "execution_count": 12,
   "id": "c90e5355-93ba-4379-a7da-f48093853ca2",
   "metadata": {},
   "outputs": [],
   "source": [
    "#pip install pandas"
   ]
  },
  {
   "cell_type": "code",
   "execution_count": 13,
   "id": "9e3c7844-d4da-4fd9-950a-94892d17020e",
   "metadata": {},
   "outputs": [],
   "source": [
    "import numpy as np\n",
    "import scipy as sp\n",
    "import pandas as pd"
   ]
  },
  {
   "cell_type": "code",
   "execution_count": 14,
   "id": "6f01c5c9-219b-4279-bd60-bbc89ada6104",
   "metadata": {},
   "outputs": [
    {
     "name": "stderr",
     "output_type": "stream",
     "text": [
      "C:\\Users\\nepes\\miniconda3\\envs\\yapay-zeka\\lib\\site-packages\\sklearn\\utils\\deprecation.py:87: FutureWarning: Function get_feature_names is deprecated; get_feature_names is deprecated in 1.0 and will be removed in 1.2. Please use get_feature_names_out instead.\n",
      "  warnings.warn(msg, category=FutureWarning)\n"
     ]
    },
    {
     "data": {
      "text/html": [
       "<div>\n",
       "<style scoped>\n",
       "    .dataframe tbody tr th:only-of-type {\n",
       "        vertical-align: middle;\n",
       "    }\n",
       "\n",
       "    .dataframe tbody tr th {\n",
       "        vertical-align: top;\n",
       "    }\n",
       "\n",
       "    .dataframe thead th {\n",
       "        text-align: right;\n",
       "    }\n",
       "</style>\n",
       "<table border=\"1\" class=\"dataframe\">\n",
       "  <thead>\n",
       "    <tr style=\"text-align: right;\">\n",
       "      <th></th>\n",
       "      <th>cab</th>\n",
       "      <th>call</th>\n",
       "      <th>me</th>\n",
       "      <th>please</th>\n",
       "      <th>tonight</th>\n",
       "      <th>you</th>\n",
       "    </tr>\n",
       "  </thead>\n",
       "  <tbody>\n",
       "    <tr>\n",
       "      <th>0</th>\n",
       "      <td>0</td>\n",
       "      <td>1</td>\n",
       "      <td>0</td>\n",
       "      <td>0</td>\n",
       "      <td>1</td>\n",
       "      <td>1</td>\n",
       "    </tr>\n",
       "    <tr>\n",
       "      <th>1</th>\n",
       "      <td>1</td>\n",
       "      <td>1</td>\n",
       "      <td>1</td>\n",
       "      <td>0</td>\n",
       "      <td>0</td>\n",
       "      <td>0</td>\n",
       "    </tr>\n",
       "    <tr>\n",
       "      <th>2</th>\n",
       "      <td>0</td>\n",
       "      <td>1</td>\n",
       "      <td>1</td>\n",
       "      <td>2</td>\n",
       "      <td>0</td>\n",
       "      <td>0</td>\n",
       "    </tr>\n",
       "  </tbody>\n",
       "</table>\n",
       "</div>"
      ],
      "text/plain": [
       "   cab  call  me  please  tonight  you\n",
       "0    0     1   0       0        1    1\n",
       "1    1     1   1       0        0    0\n",
       "2    0     1   1       2        0    0"
      ]
     },
     "execution_count": 14,
     "metadata": {},
     "output_type": "execute_result"
    }
   ],
   "source": [
    "\n",
    "from sklearn.feature_extraction.text import CountVectorizer, TfidfVectorizer\n",
    "simple_train = ['call you tonight', 'Call me a cab', 'please call me... please']\n",
    "\n",
    "vect = CountVectorizer()\n",
    "tf = pd.DataFrame(vect.fit_transform(simple_train).toarray(), columns=vect.get_feature_names())\n",
    "# Take the text or the document and learn the vocabulary\n",
    "tf"
   ]
  },
  {
   "cell_type": "code",
   "execution_count": 15,
   "id": "7c515ba3-97e2-4359-bf88-23425a378295",
   "metadata": {},
   "outputs": [
    {
     "name": "stderr",
     "output_type": "stream",
     "text": [
      "C:\\Users\\nepes\\miniconda3\\envs\\yapay-zeka\\lib\\site-packages\\sklearn\\utils\\deprecation.py:87: FutureWarning: Function get_feature_names is deprecated; get_feature_names is deprecated in 1.0 and will be removed in 1.2. Please use get_feature_names_out instead.\n",
      "  warnings.warn(msg, category=FutureWarning)\n"
     ]
    },
    {
     "data": {
      "text/html": [
       "<div>\n",
       "<style scoped>\n",
       "    .dataframe tbody tr th:only-of-type {\n",
       "        vertical-align: middle;\n",
       "    }\n",
       "\n",
       "    .dataframe tbody tr th {\n",
       "        vertical-align: top;\n",
       "    }\n",
       "\n",
       "    .dataframe thead th {\n",
       "        text-align: right;\n",
       "    }\n",
       "</style>\n",
       "<table border=\"1\" class=\"dataframe\">\n",
       "  <thead>\n",
       "    <tr style=\"text-align: right;\">\n",
       "      <th></th>\n",
       "      <th>cab</th>\n",
       "      <th>call</th>\n",
       "      <th>me</th>\n",
       "      <th>please</th>\n",
       "      <th>tonight</th>\n",
       "      <th>you</th>\n",
       "    </tr>\n",
       "  </thead>\n",
       "  <tbody>\n",
       "    <tr>\n",
       "      <th>0</th>\n",
       "      <td>1</td>\n",
       "      <td>3</td>\n",
       "      <td>2</td>\n",
       "      <td>1</td>\n",
       "      <td>1</td>\n",
       "      <td>1</td>\n",
       "    </tr>\n",
       "  </tbody>\n",
       "</table>\n",
       "</div>"
      ],
      "text/plain": [
       "   cab  call  me  please  tonight  you\n",
       "0    1     3   2       1        1    1"
      ]
     },
     "execution_count": 15,
     "metadata": {},
     "output_type": "execute_result"
    }
   ],
   "source": [
    "vect = CountVectorizer(binary=True)\n",
    "df = vect.fit_transform(simple_train).toarray().sum(axis=0) #why\n",
    "pd.DataFrame(df.reshape(1,6), columns=vect.get_feature_names())\n",
    "# this is about the document frequency"
   ]
  },
  {
   "cell_type": "code",
   "execution_count": 16,
   "id": "f0a1eac9-82f6-4ac5-8f62-30f513d1b0dc",
   "metadata": {},
   "outputs": [
    {
     "data": {
      "text/html": [
       "<div>\n",
       "<style scoped>\n",
       "    .dataframe tbody tr th:only-of-type {\n",
       "        vertical-align: middle;\n",
       "    }\n",
       "\n",
       "    .dataframe tbody tr th {\n",
       "        vertical-align: top;\n",
       "    }\n",
       "\n",
       "    .dataframe thead th {\n",
       "        text-align: right;\n",
       "    }\n",
       "</style>\n",
       "<table border=\"1\" class=\"dataframe\">\n",
       "  <thead>\n",
       "    <tr style=\"text-align: right;\">\n",
       "      <th></th>\n",
       "      <th>cab</th>\n",
       "      <th>call</th>\n",
       "      <th>me</th>\n",
       "      <th>please</th>\n",
       "      <th>tonight</th>\n",
       "      <th>you</th>\n",
       "    </tr>\n",
       "  </thead>\n",
       "  <tbody>\n",
       "    <tr>\n",
       "      <th>0</th>\n",
       "      <td>0.0</td>\n",
       "      <td>0.333333</td>\n",
       "      <td>0.0</td>\n",
       "      <td>0.0</td>\n",
       "      <td>1.0</td>\n",
       "      <td>1.0</td>\n",
       "    </tr>\n",
       "    <tr>\n",
       "      <th>1</th>\n",
       "      <td>1.0</td>\n",
       "      <td>0.333333</td>\n",
       "      <td>0.5</td>\n",
       "      <td>0.0</td>\n",
       "      <td>0.0</td>\n",
       "      <td>0.0</td>\n",
       "    </tr>\n",
       "    <tr>\n",
       "      <th>2</th>\n",
       "      <td>0.0</td>\n",
       "      <td>0.333333</td>\n",
       "      <td>0.5</td>\n",
       "      <td>2.0</td>\n",
       "      <td>0.0</td>\n",
       "      <td>0.0</td>\n",
       "    </tr>\n",
       "  </tbody>\n",
       "</table>\n",
       "</div>"
      ],
      "text/plain": [
       "   cab      call   me  please  tonight  you\n",
       "0  0.0  0.333333  0.0     0.0      1.0  1.0\n",
       "1  1.0  0.333333  0.5     0.0      0.0  0.0\n",
       "2  0.0  0.333333  0.5     2.0      0.0  0.0"
      ]
     },
     "execution_count": 16,
     "metadata": {},
     "output_type": "execute_result"
    }
   ],
   "source": [
    "tf/df # Hangi cümledeki kelimenin yüzde kaçının o cümlede yüzde kaçının diğer"
   ]
  },
  {
   "cell_type": "code",
   "execution_count": 17,
   "id": "bb0f1afb-9b1f-468e-a8e9-6c86518efe31",
   "metadata": {},
   "outputs": [
    {
     "name": "stderr",
     "output_type": "stream",
     "text": [
      "C:\\Users\\nepes\\miniconda3\\envs\\yapay-zeka\\lib\\site-packages\\sklearn\\utils\\deprecation.py:87: FutureWarning: Function get_feature_names is deprecated; get_feature_names is deprecated in 1.0 and will be removed in 1.2. Please use get_feature_names_out instead.\n",
      "  warnings.warn(msg, category=FutureWarning)\n"
     ]
    },
    {
     "data": {
      "text/html": [
       "<div>\n",
       "<style scoped>\n",
       "    .dataframe tbody tr th:only-of-type {\n",
       "        vertical-align: middle;\n",
       "    }\n",
       "\n",
       "    .dataframe tbody tr th {\n",
       "        vertical-align: top;\n",
       "    }\n",
       "\n",
       "    .dataframe thead th {\n",
       "        text-align: right;\n",
       "    }\n",
       "</style>\n",
       "<table border=\"1\" class=\"dataframe\">\n",
       "  <thead>\n",
       "    <tr style=\"text-align: right;\">\n",
       "      <th></th>\n",
       "      <th>cab</th>\n",
       "      <th>call</th>\n",
       "      <th>me</th>\n",
       "      <th>please</th>\n",
       "      <th>tonight</th>\n",
       "      <th>you</th>\n",
       "    </tr>\n",
       "  </thead>\n",
       "  <tbody>\n",
       "    <tr>\n",
       "      <th>0</th>\n",
       "      <td>0.000000</td>\n",
       "      <td>0.385372</td>\n",
       "      <td>0.000000</td>\n",
       "      <td>0.000000</td>\n",
       "      <td>0.652491</td>\n",
       "      <td>0.652491</td>\n",
       "    </tr>\n",
       "    <tr>\n",
       "      <th>1</th>\n",
       "      <td>0.720333</td>\n",
       "      <td>0.425441</td>\n",
       "      <td>0.547832</td>\n",
       "      <td>0.000000</td>\n",
       "      <td>0.000000</td>\n",
       "      <td>0.000000</td>\n",
       "    </tr>\n",
       "    <tr>\n",
       "      <th>2</th>\n",
       "      <td>0.000000</td>\n",
       "      <td>0.266075</td>\n",
       "      <td>0.342620</td>\n",
       "      <td>0.901008</td>\n",
       "      <td>0.000000</td>\n",
       "      <td>0.000000</td>\n",
       "    </tr>\n",
       "  </tbody>\n",
       "</table>\n",
       "</div>"
      ],
      "text/plain": [
       "        cab      call        me    please   tonight       you\n",
       "0  0.000000  0.385372  0.000000  0.000000  0.652491  0.652491\n",
       "1  0.720333  0.425441  0.547832  0.000000  0.000000  0.000000\n",
       "2  0.000000  0.266075  0.342620  0.901008  0.000000  0.000000"
      ]
     },
     "execution_count": 17,
     "metadata": {},
     "output_type": "execute_result"
    }
   ],
   "source": [
    "vect = TfidfVectorizer()\n",
    "pd.DataFrame(vect.fit_transform(simple_train).toarray(), columns=vect.get_feature_names())"
   ]
  },
  {
   "cell_type": "code",
   "execution_count": 18,
   "id": "670ce5e5-909a-4b11-bc6c-77892a827b56",
   "metadata": {},
   "outputs": [
    {
     "name": "stderr",
     "output_type": "stream",
     "text": [
      "C:\\Users\\nepes\\miniconda3\\envs\\yapay-zeka\\lib\\site-packages\\sklearn\\utils\\deprecation.py:87: FutureWarning: Function get_feature_names is deprecated; get_feature_names is deprecated in 1.0 and will be removed in 1.2. Please use get_feature_names_out instead.\n",
      "  warnings.warn(msg, category=FutureWarning)\n"
     ]
    },
    {
     "name": "stdout",
     "output_type": "stream",
     "text": [
      "CountVectorizer()\n"
     ]
    },
    {
     "data": {
      "text/html": [
       "<div>\n",
       "<style scoped>\n",
       "    .dataframe tbody tr th:only-of-type {\n",
       "        vertical-align: middle;\n",
       "    }\n",
       "\n",
       "    .dataframe tbody tr th {\n",
       "        vertical-align: top;\n",
       "    }\n",
       "\n",
       "    .dataframe thead th {\n",
       "        text-align: right;\n",
       "    }\n",
       "</style>\n",
       "<table border=\"1\" class=\"dataframe\">\n",
       "  <thead>\n",
       "    <tr style=\"text-align: right;\">\n",
       "      <th></th>\n",
       "      <th>and</th>\n",
       "      <th>document</th>\n",
       "      <th>first</th>\n",
       "      <th>is</th>\n",
       "      <th>one</th>\n",
       "      <th>second</th>\n",
       "      <th>the</th>\n",
       "      <th>third</th>\n",
       "      <th>this</th>\n",
       "    </tr>\n",
       "  </thead>\n",
       "  <tbody>\n",
       "    <tr>\n",
       "      <th>0</th>\n",
       "      <td>0</td>\n",
       "      <td>1</td>\n",
       "      <td>1</td>\n",
       "      <td>1</td>\n",
       "      <td>0</td>\n",
       "      <td>0</td>\n",
       "      <td>1</td>\n",
       "      <td>0</td>\n",
       "      <td>1</td>\n",
       "    </tr>\n",
       "    <tr>\n",
       "      <th>1</th>\n",
       "      <td>0</td>\n",
       "      <td>1</td>\n",
       "      <td>0</td>\n",
       "      <td>1</td>\n",
       "      <td>0</td>\n",
       "      <td>1</td>\n",
       "      <td>1</td>\n",
       "      <td>0</td>\n",
       "      <td>1</td>\n",
       "    </tr>\n",
       "    <tr>\n",
       "      <th>2</th>\n",
       "      <td>1</td>\n",
       "      <td>0</td>\n",
       "      <td>0</td>\n",
       "      <td>0</td>\n",
       "      <td>1</td>\n",
       "      <td>0</td>\n",
       "      <td>1</td>\n",
       "      <td>1</td>\n",
       "      <td>0</td>\n",
       "    </tr>\n",
       "    <tr>\n",
       "      <th>3</th>\n",
       "      <td>0</td>\n",
       "      <td>1</td>\n",
       "      <td>1</td>\n",
       "      <td>1</td>\n",
       "      <td>0</td>\n",
       "      <td>0</td>\n",
       "      <td>1</td>\n",
       "      <td>0</td>\n",
       "      <td>1</td>\n",
       "    </tr>\n",
       "  </tbody>\n",
       "</table>\n",
       "</div>"
      ],
      "text/plain": [
       "   and  document  first  is  one  second  the  third  this\n",
       "0    0         1      1   1    0       0    1      0     1\n",
       "1    0         1      0   1    0       1    1      0     1\n",
       "2    1         0      0   0    1       0    1      1     0\n",
       "3    0         1      1   1    0       0    1      0     1"
      ]
     },
     "execution_count": 18,
     "metadata": {},
     "output_type": "execute_result"
    }
   ],
   "source": [
    "import pandas as pd\n",
    "from sklearn.feature_extraction.text import CountVectorizer\n",
    "\n",
    "vectorizer = CountVectorizer(min_df=1) #min represents a threshold.\n",
    "\n",
    "print(vectorizer)\n",
    "\n",
    "corpus = ['This is the first document', 'This is the second document', 'and the third one', 'Is this the first document?']\n",
    "\n",
    "X = vectorizer.fit_transform(corpus)\n",
    "tf = pd.DataFrame(X.toarray(), columns=vectorizer.get_feature_names())\n",
    "tf"
   ]
  },
  {
   "cell_type": "code",
   "execution_count": 19,
   "id": "345e7dfc-a123-43f2-ac3c-1938f1616f94",
   "metadata": {},
   "outputs": [
    {
     "name": "stdout",
     "output_type": "stream",
     "text": [
      "  (0, 8)\t1\n",
      "  (0, 3)\t1\n",
      "  (0, 6)\t1\n",
      "  (0, 2)\t1\n",
      "  (0, 1)\t1\n",
      "  (1, 8)\t1\n",
      "  (1, 3)\t1\n",
      "  (1, 6)\t1\n",
      "  (1, 1)\t1\n",
      "  (1, 5)\t1\n",
      "  (2, 6)\t1\n",
      "  (2, 0)\t1\n",
      "  (2, 7)\t1\n",
      "  (2, 4)\t1\n",
      "  (3, 8)\t1\n",
      "  (3, 3)\t1\n",
      "  (3, 6)\t1\n",
      "  (3, 2)\t1\n",
      "  (3, 1)\t1\n"
     ]
    }
   ],
   "source": [
    "print(X)"
   ]
  },
  {
   "cell_type": "code",
   "execution_count": 20,
   "id": "865ab90c-533b-45cb-8641-b6cd93b38f09",
   "metadata": {},
   "outputs": [],
   "source": [
    "import pandas as pd\n",
    "import numpy as np\n",
    "import scipy as sp\n",
    "from sklearn.model_selection import train_test_split\n",
    "from sklearn.feature_extraction.text import CountVectorizer, TfidfVectorizer\n",
    "from sklearn.naive_bayes import MultinomialNB\n",
    "from sklearn.linear_model import LogisticRegression\n",
    "from sklearn import metrics\n",
    "from textblob import TextBlob, Word\n",
    "from nltk.stem.snowball import SnowballStemmer\n",
    "%matplotlib inline"
   ]
  },
  {
   "cell_type": "code",
   "execution_count": 21,
   "id": "c108125f-2515-4d67-a83a-f1724dc68407",
   "metadata": {},
   "outputs": [
    {
     "data": {
      "text/html": [
       "<div>\n",
       "<style scoped>\n",
       "    .dataframe tbody tr th:only-of-type {\n",
       "        vertical-align: middle;\n",
       "    }\n",
       "\n",
       "    .dataframe tbody tr th {\n",
       "        vertical-align: top;\n",
       "    }\n",
       "\n",
       "    .dataframe thead th {\n",
       "        text-align: right;\n",
       "    }\n",
       "</style>\n",
       "<table border=\"1\" class=\"dataframe\">\n",
       "  <thead>\n",
       "    <tr style=\"text-align: right;\">\n",
       "      <th></th>\n",
       "      <th>business_id</th>\n",
       "      <th>date</th>\n",
       "      <th>review_id</th>\n",
       "      <th>stars</th>\n",
       "      <th>text</th>\n",
       "      <th>type</th>\n",
       "      <th>user_id</th>\n",
       "      <th>cool</th>\n",
       "      <th>useful</th>\n",
       "      <th>funny</th>\n",
       "    </tr>\n",
       "  </thead>\n",
       "  <tbody>\n",
       "    <tr>\n",
       "      <th>0</th>\n",
       "      <td>9yKzy9PApeiPPOUJEtnvkg</td>\n",
       "      <td>2011-01-26</td>\n",
       "      <td>fWKvX83p0-ka4JS3dc6E5A</td>\n",
       "      <td>5</td>\n",
       "      <td>My wife took me here on my birthday for breakf...</td>\n",
       "      <td>review</td>\n",
       "      <td>rLtl8ZkDX5vH5nAx9C3q5Q</td>\n",
       "      <td>2</td>\n",
       "      <td>5</td>\n",
       "      <td>0</td>\n",
       "    </tr>\n",
       "    <tr>\n",
       "      <th>1</th>\n",
       "      <td>ZRJwVLyzEJq1VAihDhYiow</td>\n",
       "      <td>2011-07-27</td>\n",
       "      <td>IjZ33sJrzXqU-0X6U8NwyA</td>\n",
       "      <td>5</td>\n",
       "      <td>I have no idea why some people give bad review...</td>\n",
       "      <td>review</td>\n",
       "      <td>0a2KyEL0d3Yb1V6aivbIuQ</td>\n",
       "      <td>0</td>\n",
       "      <td>0</td>\n",
       "      <td>0</td>\n",
       "    </tr>\n",
       "    <tr>\n",
       "      <th>2</th>\n",
       "      <td>6oRAC4uyJCsJl1X0WZpVSA</td>\n",
       "      <td>2012-06-14</td>\n",
       "      <td>IESLBzqUCLdSzSqm0eCSxQ</td>\n",
       "      <td>4</td>\n",
       "      <td>love the gyro plate. Rice is so good and I als...</td>\n",
       "      <td>review</td>\n",
       "      <td>0hT2KtfLiobPvh6cDC8JQg</td>\n",
       "      <td>0</td>\n",
       "      <td>1</td>\n",
       "      <td>0</td>\n",
       "    </tr>\n",
       "    <tr>\n",
       "      <th>3</th>\n",
       "      <td>_1QQZuf4zZOyFCvXc0o6Vg</td>\n",
       "      <td>2010-05-27</td>\n",
       "      <td>G-WvGaISbqqaMHlNnByodA</td>\n",
       "      <td>5</td>\n",
       "      <td>Rosie, Dakota, and I LOVE Chaparral Dog Park!!...</td>\n",
       "      <td>review</td>\n",
       "      <td>uZetl9T0NcROGOyFfughhg</td>\n",
       "      <td>1</td>\n",
       "      <td>2</td>\n",
       "      <td>0</td>\n",
       "    </tr>\n",
       "    <tr>\n",
       "      <th>4</th>\n",
       "      <td>6ozycU1RpktNG2-1BroVtw</td>\n",
       "      <td>2012-01-05</td>\n",
       "      <td>1uJFq2r5QfJG_6ExMRCaGw</td>\n",
       "      <td>5</td>\n",
       "      <td>General Manager Scott Petello is a good egg!!!...</td>\n",
       "      <td>review</td>\n",
       "      <td>vYmM4KTsC8ZfQBg-j5MWkw</td>\n",
       "      <td>0</td>\n",
       "      <td>0</td>\n",
       "      <td>0</td>\n",
       "    </tr>\n",
       "  </tbody>\n",
       "</table>\n",
       "</div>"
      ],
      "text/plain": [
       "              business_id        date               review_id  stars  \\\n",
       "0  9yKzy9PApeiPPOUJEtnvkg  2011-01-26  fWKvX83p0-ka4JS3dc6E5A      5   \n",
       "1  ZRJwVLyzEJq1VAihDhYiow  2011-07-27  IjZ33sJrzXqU-0X6U8NwyA      5   \n",
       "2  6oRAC4uyJCsJl1X0WZpVSA  2012-06-14  IESLBzqUCLdSzSqm0eCSxQ      4   \n",
       "3  _1QQZuf4zZOyFCvXc0o6Vg  2010-05-27  G-WvGaISbqqaMHlNnByodA      5   \n",
       "4  6ozycU1RpktNG2-1BroVtw  2012-01-05  1uJFq2r5QfJG_6ExMRCaGw      5   \n",
       "\n",
       "                                                text    type  \\\n",
       "0  My wife took me here on my birthday for breakf...  review   \n",
       "1  I have no idea why some people give bad review...  review   \n",
       "2  love the gyro plate. Rice is so good and I als...  review   \n",
       "3  Rosie, Dakota, and I LOVE Chaparral Dog Park!!...  review   \n",
       "4  General Manager Scott Petello is a good egg!!!...  review   \n",
       "\n",
       "                  user_id  cool  useful  funny  \n",
       "0  rLtl8ZkDX5vH5nAx9C3q5Q     2       5      0  \n",
       "1  0a2KyEL0d3Yb1V6aivbIuQ     0       0      0  \n",
       "2  0hT2KtfLiobPvh6cDC8JQg     0       1      0  \n",
       "3  uZetl9T0NcROGOyFfughhg     1       2      0  \n",
       "4  vYmM4KTsC8ZfQBg-j5MWkw     0       0      0  "
      ]
     },
     "execution_count": 21,
     "metadata": {},
     "output_type": "execute_result"
    }
   ],
   "source": [
    "yelp = pd.read_csv('yelp.csv')\n",
    "yelp.head()"
   ]
  },
  {
   "cell_type": "code",
   "execution_count": 22,
   "id": "43dd5b54-c1fb-4a1b-9ef7-ed497be3b74a",
   "metadata": {},
   "outputs": [
    {
     "name": "stdout",
     "output_type": "stream",
     "text": [
      "<class 'pandas.core.frame.DataFrame'>\n",
      "RangeIndex: 10000 entries, 0 to 9999\n",
      "Data columns (total 10 columns):\n",
      " #   Column       Non-Null Count  Dtype \n",
      "---  ------       --------------  ----- \n",
      " 0   business_id  10000 non-null  object\n",
      " 1   date         10000 non-null  object\n",
      " 2   review_id    10000 non-null  object\n",
      " 3   stars        10000 non-null  int64 \n",
      " 4   text         10000 non-null  object\n",
      " 5   type         10000 non-null  object\n",
      " 6   user_id      10000 non-null  object\n",
      " 7   cool         10000 non-null  int64 \n",
      " 8   useful       10000 non-null  int64 \n",
      " 9   funny        10000 non-null  int64 \n",
      "dtypes: int64(4), object(6)\n",
      "memory usage: 781.4+ KB\n"
     ]
    }
   ],
   "source": [
    "yelp.info()"
   ]
  },
  {
   "cell_type": "markdown",
   "id": "1bf16a7a-f680-42c9-8f25-75990d0a7ad8",
   "metadata": {},
   "source": [
    "- First lowercasing, deleting punctuations, numbers, satır sonlarını \\n \\r\n",
    "- stop words kaldır\n",
    "- lemma "
   ]
  },
  {
   "cell_type": "code",
   "execution_count": 23,
   "id": "edb6a71c-7731-4e6d-950f-f8f5b8734cc9",
   "metadata": {},
   "outputs": [],
   "source": [
    "yelp['text'] = yelp['text'].str.lower()"
   ]
  },
  {
   "cell_type": "code",
   "execution_count": 24,
   "id": "9f2d4a0a-f6f0-4af4-b21b-0cddd99140b9",
   "metadata": {},
   "outputs": [
    {
     "name": "stderr",
     "output_type": "stream",
     "text": [
      "C:\\Users\\nepes\\AppData\\Local\\Temp\\ipykernel_6792\\2426746439.py:1: FutureWarning: The default value of regex will change from True to False in a future version.\n",
      "  yelp['text'] = yelp['text'].str.replace('[^\\w\\s]', '')\n"
     ]
    }
   ],
   "source": [
    "yelp['text'] = yelp['text'].str.replace('[^\\w\\s]', '')"
   ]
  },
  {
   "cell_type": "code",
   "execution_count": 25,
   "id": "6af5d01c-49b1-4b3a-abcf-51755bd3f9d4",
   "metadata": {},
   "outputs": [
    {
     "name": "stderr",
     "output_type": "stream",
     "text": [
      "C:\\Users\\nepes\\AppData\\Local\\Temp\\ipykernel_6792\\1768632182.py:1: FutureWarning: The default value of regex will change from True to False in a future version.\n",
      "  yelp['text'] = yelp['text'].str.replace('\\d+', '').replace('\\r', '')\n"
     ]
    }
   ],
   "source": [
    "yelp['text'] = yelp['text'].str.replace('\\d+', '').replace('\\r', '')"
   ]
  },
  {
   "cell_type": "code",
   "execution_count": 26,
   "id": "167f4229-e5b0-4c5a-86eb-f2a9a12a6a33",
   "metadata": {},
   "outputs": [
    {
     "name": "stdout",
     "output_type": "stream",
     "text": [
      "(4086,)\n"
     ]
    }
   ],
   "source": [
    "#Create a new DataFrame that only contains the 5-star and 1-star reviews\n",
    "yelp_best_worst = yelp[(yelp.stars==5) | (yelp.stars==1)]\n",
    "\n",
    "yelp_best_worst.reset_index(drop=True, inplace=True) #reset the indices\n",
    "\n",
    "x = yelp_best_worst.text  #reviews\n",
    "y = yelp_best_worst.stars #raitings\n",
    "#print(x) #to look at x\n",
    "\n",
    "\n",
    "print(x.shape)\n",
    "\n",
    "x_train, x_test, y_train, y_test = train_test_split(x,y,random_state=11)"
   ]
  },
  {
   "cell_type": "code",
   "execution_count": 27,
   "id": "c1f7420d-2409-48e1-8b34-24eeb3d5d169",
   "metadata": {},
   "outputs": [
    {
     "data": {
      "text/plain": [
       "0       my wife took me here on my birthday for breakf...\n",
       "1       i have no idea why some people give bad review...\n",
       "2       rosie dakota and i love chaparral dog park its...\n",
       "3       general manager scott petello is a good egg no...\n",
       "4       drop what youre doing and drive here after i a...\n",
       "                              ...                        \n",
       "4081    yes i do rock the hipster joints  i dig this p...\n",
       "4082    only  stars \\n\\na few notes the folks that rat...\n",
       "4083    im not normally one to jump at reviewing a cha...\n",
       "4084    lets seewhat is there not to like about surpri...\n",
       "4085     locations all  star average i think arizona r...\n",
       "Name: text, Length: 4086, dtype: object"
      ]
     },
     "execution_count": 27,
     "metadata": {},
     "output_type": "execute_result"
    }
   ],
   "source": [
    "x"
   ]
  },
  {
   "cell_type": "markdown",
   "id": "95a615cb-e90f-418e-84ef-e1aadcdc62df",
   "metadata": {},
   "source": [
    "# Tokenization"
   ]
  },
  {
   "cell_type": "code",
   "execution_count": 28,
   "id": "5f8ce5eb-9638-4825-bce5-f5c7359f44d0",
   "metadata": {},
   "outputs": [],
   "source": [
    "# use CountVectorizer to create document - term matrices from x_train and"
   ]
  },
  {
   "cell_type": "code",
   "execution_count": 29,
   "id": "1570c828-4dab-4b98-ba3f-08c6ef5a3c97",
   "metadata": {},
   "outputs": [
    {
     "name": "stdout",
     "output_type": "stream",
     "text": [
      "  (0, 12590)\t0.07483405747642684\n",
      "  (0, 2700)\t0.05078877736680007\n",
      "  (0, 6827)\t0.039776877486206605\n",
      "  (0, 18142)\t0.06771906517791913\n",
      "  (0, 12709)\t0.05071087822851628\n",
      "  (0, 7489)\t0.05624454742143107\n",
      "  (0, 11289)\t0.060095373658947675\n",
      "  (0, 6496)\t0.07700077694201425\n",
      "  (0, 747)\t0.04743404042384581\n",
      "  (0, 7211)\t0.07587222480495558\n",
      "  (0, 17730)\t0.04496914305532136\n",
      "  (0, 5254)\t0.05648474257357189\n",
      "  (0, 8669)\t0.029453570306464706\n",
      "  (0, 5460)\t0.10284292998102725\n",
      "  (0, 784)\t0.08895928935707077\n",
      "  (0, 8656)\t0.09621743605930551\n",
      "  (0, 13973)\t0.0938526949223367\n",
      "  (0, 1595)\t0.0637733926856775\n",
      "  (0, 11245)\t0.08858759495934725\n",
      "  (0, 10491)\t0.11578350937514897\n",
      "  (0, 4167)\t0.10284292998102725\n",
      "  (0, 4541)\t0.05436472883917374\n",
      "  (0, 1323)\t0.026607712161360597\n",
      "  (0, 17926)\t0.05318480963483412\n",
      "  (0, 6728)\t0.06068606848863576\n",
      "  :\t:\n",
      "  (3063, 4541)\t0.05570194521880519\n",
      "  (3063, 1323)\t0.05452437110812491\n",
      "  (3063, 17878)\t0.04582007620958273\n",
      "  (3063, 6609)\t0.09331783678101906\n",
      "  (3063, 7298)\t0.023467069825044182\n",
      "  (3063, 16179)\t0.031803299499800146\n",
      "  (3063, 18124)\t0.024126647518446415\n",
      "  (3063, 746)\t0.025487660645105617\n",
      "  (3063, 381)\t0.05757123115817841\n",
      "  (3063, 10869)\t0.04274685131261793\n",
      "  (3063, 8388)\t0.018995624172292794\n",
      "  (3063, 16412)\t0.13414750322782526\n",
      "  (3063, 17082)\t0.03291365203410338\n",
      "  (3063, 11162)\t0.06533823279139764\n",
      "  (3063, 6165)\t0.03917633841358098\n",
      "  (3063, 17817)\t0.0667938976038971\n",
      "  (3063, 16160)\t0.06937926172548067\n",
      "  (3063, 5617)\t0.06032187505821065\n",
      "  (3063, 8415)\t0.020676272316491724\n",
      "  (3063, 10978)\t0.07511040458020869\n",
      "  (3063, 536)\t0.1042356020538036\n",
      "  (3063, 16168)\t0.17676438467649844\n",
      "  (3063, 16253)\t0.020661162370064625\n",
      "  (3063, 916)\t0.05263280945275569\n",
      "  (3063, 10488)\t0.02173808590012136\n"
     ]
    }
   ],
   "source": [
    "x_train_dtm = vect.fit_transform(x_train) #learn the vocabulary dictionary\n",
    "print(x_train_dtm)\n",
    "#print(x_train_dtm.shape)\n",
    "x_test_dtm = vect.transform(x_test)\n",
    "#print(x_test_dtm)\n",
    "#"
   ]
  },
  {
   "cell_type": "markdown",
   "id": "fd71395b-2c52-4a2f-b084-f704fa25dd0a",
   "metadata": {},
   "source": [
    "# Day 2-19.10.2022"
   ]
  },
  {
   "cell_type": "markdown",
   "id": "c0c3bd90-a18b-46bc-903c-889b5f31ebfd",
   "metadata": {},
   "source": [
    "### yelp review analyze"
   ]
  },
  {
   "cell_type": "markdown",
   "id": "3ddaf8f5-0c95-455a-ae01-f07c6afd7305",
   "metadata": {},
   "source": [
    "# tokenization"
   ]
  },
  {
   "cell_type": "code",
   "execution_count": 30,
   "id": "b513edb6-0ca0-4087-812b-e9c08b97a67d",
   "metadata": {},
   "outputs": [
    {
     "name": "stdout",
     "output_type": "stream",
     "text": [
      "  (0, 1634)\t4\n",
      "  (0, 17566)\t1\n",
      "  (0, 10333)\t1\n",
      "  (0, 1014)\t1\n",
      "  (0, 12093)\t1\n",
      "  (0, 9161)\t1\n",
      "  (0, 11816)\t3\n",
      "  (0, 6516)\t2\n",
      "  (0, 17666)\t2\n",
      "  (0, 13931)\t2\n",
      "  (0, 13437)\t1\n",
      "  (0, 9297)\t1\n",
      "  (0, 10134)\t1\n",
      "  (0, 4307)\t1\n",
      "  (0, 5530)\t1\n",
      "  (0, 15230)\t1\n",
      "  (0, 10984)\t2\n",
      "  (0, 1549)\t1\n",
      "  (0, 2562)\t1\n",
      "  (0, 4029)\t1\n",
      "  (0, 12276)\t1\n",
      "  (0, 3409)\t1\n",
      "  (0, 10171)\t1\n",
      "  (0, 12659)\t1\n",
      "  (0, 14971)\t1\n",
      "  :\t:\n",
      "  (3063, 17687)\t1\n",
      "  (3063, 17262)\t2\n",
      "  (3063, 3542)\t2\n",
      "  (3063, 13812)\t1\n",
      "  (3063, 3515)\t1\n",
      "  (3063, 5902)\t1\n",
      "  (3063, 10182)\t3\n",
      "  (3063, 16540)\t1\n",
      "  (3063, 1201)\t2\n",
      "  (3063, 13004)\t2\n",
      "  (3063, 16321)\t2\n",
      "  (3063, 8931)\t1\n",
      "  (3063, 13340)\t3\n",
      "  (3063, 10219)\t1\n",
      "  (3063, 2040)\t1\n",
      "  (3063, 2805)\t1\n",
      "  (3063, 2933)\t1\n",
      "  (3063, 4466)\t1\n",
      "  (3063, 4075)\t1\n",
      "  (3063, 8014)\t2\n",
      "  (3063, 974)\t1\n",
      "  (3063, 4759)\t1\n",
      "  (3063, 4233)\t1\n",
      "  (3063, 3568)\t2\n",
      "  (3063, 15476)\t1\n"
     ]
    }
   ],
   "source": [
    "#\n",
    "vect = CountVectorizer(stop_words='english')\n",
    "\n",
    "\n",
    "x_train_dtm = vect.fit_transform(x_train)\n",
    "\n",
    "\n",
    "print(x_train_dtm)\n",
    "\n",
    "x_test_dtm = vect.transform(x_test)\n"
   ]
  },
  {
   "cell_type": "code",
   "execution_count": 31,
   "id": "475b98f1-136c-4a26-91d7-0c79bf9d1c41",
   "metadata": {},
   "outputs": [
    {
     "name": "stdout",
     "output_type": "stream",
     "text": [
      "2885    never thought id review a supermarket but sinc...\n",
      "2674    the best pad thai ive ever tasted  crab wonton...\n",
      "576     okay so i have a little bit of bias towards no...\n",
      "3229    we went on a friday night and even though it i...\n",
      "1223    treachery seek it out\\n\\nlet me begin this rev...\n",
      "                              ...                        \n",
      "286     came here instead of starbucks to get some muc...\n",
      "3764    i eat there about  times a week the antipasto ...\n",
      "2898    place is alright but for the waitress poor ser...\n",
      "635     this place is a gem the food is amazing its ch...\n",
      "962     being my first review there is only one place ...\n",
      "Name: text, Length: 1022, dtype: object\n"
     ]
    }
   ],
   "source": [
    "print(x_test)"
   ]
  },
  {
   "cell_type": "code",
   "execution_count": 32,
   "id": "9e45d674-417d-4772-a204-a7bf485e1d7f",
   "metadata": {},
   "outputs": [
    {
     "name": "stderr",
     "output_type": "stream",
     "text": [
      "C:\\Users\\nepes\\miniconda3\\envs\\yapay-zeka\\lib\\site-packages\\sklearn\\utils\\deprecation.py:87: FutureWarning: Function get_feature_names is deprecated; get_feature_names is deprecated in 1.0 and will be removed in 1.2. Please use get_feature_names_out instead.\n",
      "  warnings.warn(msg, category=FutureWarning)\n"
     ]
    },
    {
     "data": {
      "text/html": [
       "<div>\n",
       "<style scoped>\n",
       "    .dataframe tbody tr th:only-of-type {\n",
       "        vertical-align: middle;\n",
       "    }\n",
       "\n",
       "    .dataframe tbody tr th {\n",
       "        vertical-align: top;\n",
       "    }\n",
       "\n",
       "    .dataframe thead th {\n",
       "        text-align: right;\n",
       "    }\n",
       "</style>\n",
       "<table border=\"1\" class=\"dataframe\">\n",
       "  <thead>\n",
       "    <tr style=\"text-align: right;\">\n",
       "      <th></th>\n",
       "      <th>______</th>\n",
       "      <th>_______________</th>\n",
       "      <th>aa</th>\n",
       "      <th>aaaamazing</th>\n",
       "      <th>aaammmazzing</th>\n",
       "      <th>aaron</th>\n",
       "      <th>ab</th>\n",
       "      <th>aback</th>\n",
       "      <th>abandoned</th>\n",
       "      <th>abandoning</th>\n",
       "      <th>...</th>\n",
       "      <th>zoyo</th>\n",
       "      <th>zucca</th>\n",
       "      <th>zucchini</th>\n",
       "      <th>zumba</th>\n",
       "      <th>zupas</th>\n",
       "      <th>zuzu</th>\n",
       "      <th>zuzus</th>\n",
       "      <th>zwiebelkräuter</th>\n",
       "      <th>éclairs</th>\n",
       "      <th>ém</th>\n",
       "    </tr>\n",
       "  </thead>\n",
       "  <tbody>\n",
       "    <tr>\n",
       "      <th>0</th>\n",
       "      <td>0</td>\n",
       "      <td>0</td>\n",
       "      <td>0</td>\n",
       "      <td>0</td>\n",
       "      <td>0</td>\n",
       "      <td>0</td>\n",
       "      <td>0</td>\n",
       "      <td>0</td>\n",
       "      <td>0</td>\n",
       "      <td>0</td>\n",
       "      <td>...</td>\n",
       "      <td>0</td>\n",
       "      <td>0</td>\n",
       "      <td>0</td>\n",
       "      <td>0</td>\n",
       "      <td>0</td>\n",
       "      <td>0</td>\n",
       "      <td>0</td>\n",
       "      <td>0</td>\n",
       "      <td>0</td>\n",
       "      <td>0</td>\n",
       "    </tr>\n",
       "    <tr>\n",
       "      <th>1</th>\n",
       "      <td>0</td>\n",
       "      <td>0</td>\n",
       "      <td>0</td>\n",
       "      <td>0</td>\n",
       "      <td>0</td>\n",
       "      <td>0</td>\n",
       "      <td>0</td>\n",
       "      <td>0</td>\n",
       "      <td>0</td>\n",
       "      <td>0</td>\n",
       "      <td>...</td>\n",
       "      <td>0</td>\n",
       "      <td>0</td>\n",
       "      <td>0</td>\n",
       "      <td>0</td>\n",
       "      <td>0</td>\n",
       "      <td>0</td>\n",
       "      <td>0</td>\n",
       "      <td>0</td>\n",
       "      <td>0</td>\n",
       "      <td>0</td>\n",
       "    </tr>\n",
       "    <tr>\n",
       "      <th>2</th>\n",
       "      <td>0</td>\n",
       "      <td>0</td>\n",
       "      <td>0</td>\n",
       "      <td>0</td>\n",
       "      <td>0</td>\n",
       "      <td>0</td>\n",
       "      <td>0</td>\n",
       "      <td>0</td>\n",
       "      <td>0</td>\n",
       "      <td>0</td>\n",
       "      <td>...</td>\n",
       "      <td>0</td>\n",
       "      <td>0</td>\n",
       "      <td>0</td>\n",
       "      <td>0</td>\n",
       "      <td>0</td>\n",
       "      <td>0</td>\n",
       "      <td>0</td>\n",
       "      <td>0</td>\n",
       "      <td>0</td>\n",
       "      <td>0</td>\n",
       "    </tr>\n",
       "    <tr>\n",
       "      <th>3</th>\n",
       "      <td>0</td>\n",
       "      <td>0</td>\n",
       "      <td>0</td>\n",
       "      <td>0</td>\n",
       "      <td>0</td>\n",
       "      <td>0</td>\n",
       "      <td>0</td>\n",
       "      <td>0</td>\n",
       "      <td>0</td>\n",
       "      <td>0</td>\n",
       "      <td>...</td>\n",
       "      <td>0</td>\n",
       "      <td>0</td>\n",
       "      <td>0</td>\n",
       "      <td>0</td>\n",
       "      <td>0</td>\n",
       "      <td>0</td>\n",
       "      <td>0</td>\n",
       "      <td>0</td>\n",
       "      <td>0</td>\n",
       "      <td>0</td>\n",
       "    </tr>\n",
       "    <tr>\n",
       "      <th>4</th>\n",
       "      <td>0</td>\n",
       "      <td>0</td>\n",
       "      <td>0</td>\n",
       "      <td>0</td>\n",
       "      <td>0</td>\n",
       "      <td>0</td>\n",
       "      <td>0</td>\n",
       "      <td>0</td>\n",
       "      <td>0</td>\n",
       "      <td>0</td>\n",
       "      <td>...</td>\n",
       "      <td>0</td>\n",
       "      <td>0</td>\n",
       "      <td>0</td>\n",
       "      <td>0</td>\n",
       "      <td>0</td>\n",
       "      <td>0</td>\n",
       "      <td>0</td>\n",
       "      <td>0</td>\n",
       "      <td>0</td>\n",
       "      <td>0</td>\n",
       "    </tr>\n",
       "  </tbody>\n",
       "</table>\n",
       "<p>5 rows × 17931 columns</p>\n",
       "</div>"
      ],
      "text/plain": [
       "   ______  _______________  aa  aaaamazing  aaammmazzing  aaron  ab  aback  \\\n",
       "0       0                0   0           0             0      0   0      0   \n",
       "1       0                0   0           0             0      0   0      0   \n",
       "2       0                0   0           0             0      0   0      0   \n",
       "3       0                0   0           0             0      0   0      0   \n",
       "4       0                0   0           0             0      0   0      0   \n",
       "\n",
       "   abandoned  abandoning  ...  zoyo  zucca  zucchini  zumba  zupas  zuzu  \\\n",
       "0          0           0  ...     0      0         0      0      0     0   \n",
       "1          0           0  ...     0      0         0      0      0     0   \n",
       "2          0           0  ...     0      0         0      0      0     0   \n",
       "3          0           0  ...     0      0         0      0      0     0   \n",
       "4          0           0  ...     0      0         0      0      0     0   \n",
       "\n",
       "   zuzus  zwiebelkräuter  éclairs  ém  \n",
       "0      0               0        0   0  \n",
       "1      0               0        0   0  \n",
       "2      0               0        0   0  \n",
       "3      0               0        0   0  \n",
       "4      0               0        0   0  \n",
       "\n",
       "[5 rows x 17931 columns]"
      ]
     },
     "execution_count": 32,
     "metadata": {},
     "output_type": "execute_result"
    }
   ],
   "source": [
    "tf = pd.DataFrame(x_train_dtm.toarray(), columns=vect.get_feature_names())\n",
    "tf.head()"
   ]
  },
  {
   "cell_type": "code",
   "execution_count": 33,
   "id": "e6b7c32d-e0a6-46cf-9b58-4a0c9e522a79",
   "metadata": {},
   "outputs": [
    {
     "data": {
      "text/plain": [
       "(3064, 18230)"
      ]
     },
     "execution_count": 33,
     "metadata": {},
     "output_type": "execute_result"
    }
   ],
   "source": [
    "#don't lowercase\n",
    "vect = CountVectorizer(lowercase=False)\n",
    "x_train_dtm = vect.fit_transform(x_train)\n",
    "x_train_dtm.shape"
   ]
  },
  {
   "cell_type": "code",
   "execution_count": 34,
   "id": "b238a26b-a5d2-49c4-9549-eb0b67b8092b",
   "metadata": {},
   "outputs": [
    {
     "name": "stdout",
     "output_type": "stream",
     "text": [
      "['yusefs', 'yuuuummmmae', 'yuuuuummmmmyyy', 'yuuuuuuum', 'yuyuyummy', 'yyyeeaahhhhsooooothe', 'zach', 'zam', 'zanella', 'zankou', 'zappos', 'zatsiki', 'zen', 'zenlike', 'zero', 'zest', 'zesty', 'zexperience', 'zgrill', 'zha', 'zhou', 'zilch', 'zillion', 'zin', 'zinburger', 'zinc', 'zing', 'zip', 'ziploc', 'zipper', 'zippers', 'zipps', 'ziti', 'zombi', 'zombies', 'zone', 'zoners', 'zones', 'zoning', 'zoo', 'zoyo', 'zucca', 'zucchini', 'zumba', 'zupas', 'zuzu', 'zuzus', 'zwiebelkräuter', 'éclairs', 'ém']\n"
     ]
    },
    {
     "name": "stderr",
     "output_type": "stream",
     "text": [
      "C:\\Users\\nepes\\miniconda3\\envs\\yapay-zeka\\lib\\site-packages\\sklearn\\utils\\deprecation.py:87: FutureWarning: Function get_feature_names is deprecated; get_feature_names is deprecated in 1.0 and will be removed in 1.2. Please use get_feature_names_out instead.\n",
      "  warnings.warn(msg, category=FutureWarning)\n"
     ]
    }
   ],
   "source": [
    "print(vect.get_feature_names()[-50:])"
   ]
  },
  {
   "cell_type": "code",
   "execution_count": 35,
   "id": "0e46ba34-43b7-4c99-81ae-28d645969bce",
   "metadata": {},
   "outputs": [
    {
     "data": {
      "text/plain": [
       "(3064, 169595)"
      ]
     },
     "execution_count": 35,
     "metadata": {},
     "output_type": "execute_result"
    }
   ],
   "source": [
    "#Include 1-grams and 2-grams (an n-gram is N-grams is just all combination)\n",
    "#or\n",
    "vect = CountVectorizer(ngram_range=(1,2))\n",
    "x_train_dtm = vect.fit_transform(x_train)\n",
    "x_train_dtm.shape"
   ]
  },
  {
   "cell_type": "code",
   "execution_count": 36,
   "id": "52a9bb8d-524e-4b58-97a1-4806627b9a48",
   "metadata": {},
   "outputs": [
    {
     "name": "stdout",
     "output_type": "stream",
     "text": [
      "['zoners', 'zoners out', 'zones', 'zones dolls', 'zones so', 'zoning', 'zoning issues', 'zoo', 'zoo but', 'zoo if', 'zoo is', 'zoo not', 'zoo the', 'zoo tour', 'zoyo', 'zoyo for', 'zucca', 'zucca appetizer', 'zucchini', 'zucchini and', 'zucchini bread', 'zucchini broccoli', 'zucchini carrots', 'zucchini fires', 'zucchini fries', 'zucchini pieces', 'zucchini strips', 'zucchini veal', 'zucchini very', 'zucchini we', 'zucchini with', 'zumba', 'zumba class', 'zumba or', 'zumba yogalates', 'zupas', 'zupas cater', 'zuzu', 'zuzu in', 'zuzu is', 'zuzu the', 'zuzu was', 'zuzus', 'zuzus room', 'zwiebelkräuter', 'zwiebelkräuter salat', 'éclairs', 'éclairs napoleons', 'ém', 'ém all']\n"
     ]
    }
   ],
   "source": [
    "print(vect.get_feature_names()[-50:]) #the last 50 words"
   ]
  },
  {
   "cell_type": "markdown",
   "id": "c9e97ba3-8cd0-4175-8461-7e61ea321703",
   "metadata": {},
   "source": [
    "### Predict the star rating"
   ]
  },
  {
   "cell_type": "code",
   "execution_count": 37,
   "id": "6d78a1ea-89fd-4385-a8d2-2f2468e096f1",
   "metadata": {},
   "outputs": [
    {
     "name": "stdout",
     "output_type": "stream",
     "text": [
      "0.9129158512720157\n"
     ]
    }
   ],
   "source": [
    "vect = CountVectorizer()\n",
    "\n",
    "x_train_dtm = vect.fit_transform(x_train)\n",
    "x_test_dtm = vect.transform(x_test)\n",
    "\n",
    "#naive bayes\n",
    "nb = MultinomialNB()\n",
    "nb.fit(x_train_dtm, y_train)\n",
    "y_pred_class = nb.predict(x_test_dtm)\n",
    "\n",
    "print(metrics.accuracy_score(y_test, y_pred_class))"
   ]
  },
  {
   "cell_type": "code",
   "execution_count": null,
   "id": "a7578b58-97c4-4362-bb18-13a01d803141",
   "metadata": {},
   "outputs": [],
   "source": []
  }
 ],
 "metadata": {
  "kernelspec": {
   "display_name": "Python 3 (ipykernel)",
   "language": "python",
   "name": "python3"
  },
  "language_info": {
   "codemirror_mode": {
    "name": "ipython",
    "version": 3
   },
   "file_extension": ".py",
   "mimetype": "text/x-python",
   "name": "python",
   "nbconvert_exporter": "python",
   "pygments_lexer": "ipython3",
   "version": "3.10.6"
  }
 },
 "nbformat": 4,
 "nbformat_minor": 5
}
