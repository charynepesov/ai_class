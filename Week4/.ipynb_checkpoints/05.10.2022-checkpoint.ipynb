{
 "cells": [
  {
   "cell_type": "code",
   "execution_count": 2,
   "id": "7ece6c56-a347-4e8b-ac4c-9696e192c5f8",
   "metadata": {},
   "outputs": [],
   "source": [
    "import pandas as pd\n",
    "import matplotlib.pyplot as plt\n",
    "%matplotlib inline\n",
    "import numpy as np\n",
    "import seaborn as sns\n",
    "#seaborn.set_style(\"whitegrid\")\n",
    "import warnings\n",
    "warnings.filterwarnings(\"ignore\")"
   ]
  },
  {
   "cell_type": "code",
   "execution_count": null,
   "id": "d670d470-86b6-4431-8ac5-917998c78ce3",
   "metadata": {},
   "outputs": [],
   "source": [
    "df = pd.read_csv('supermarket.csv')"
   ]
  },
  {
   "cell_type": "markdown",
   "id": "37a2e530-da48-4201-8d61-3e458a44c766",
   "metadata": {},
   "source": [
    "# EDA"
   ]
  },
  {
   "cell_type": "code",
   "execution_count": null,
   "id": "d96a3ac6-1682-4f70-a852-8a8800aa1d96",
   "metadata": {},
   "outputs": [],
   "source": [
    "df.head()"
   ]
  },
  {
   "cell_type": "code",
   "execution_count": null,
   "id": "d0128f3b-743d-491d-aa11-f63bffd0ae17",
   "metadata": {},
   "outputs": [],
   "source": [
    "df.tail()"
   ]
  },
  {
   "cell_type": "code",
   "execution_count": null,
   "id": "3855c219-3f9f-4ca0-9376-b65e46ae15f2",
   "metadata": {},
   "outputs": [],
   "source": [
    "df.info()"
   ]
  },
  {
   "cell_type": "code",
   "execution_count": null,
   "id": "6713fe54-e18b-4045-b17d-707a4118a495",
   "metadata": {},
   "outputs": [],
   "source": [
    "df.isnull().sum()"
   ]
  },
  {
   "cell_type": "code",
   "execution_count": null,
   "id": "0deabd44-ea2f-44c1-b3ef-90e2dcdef4e9",
   "metadata": {},
   "outputs": [],
   "source": [
    "df.sample(10)"
   ]
  },
  {
   "cell_type": "code",
   "execution_count": null,
   "id": "03391e2d-feea-48c8-a089-72efb6a89c4a",
   "metadata": {},
   "outputs": [],
   "source": [
    "df['City'].unique()"
   ]
  },
  {
   "cell_type": "code",
   "execution_count": null,
   "id": "65635f4b-359e-4bab-9124-2a90981ad917",
   "metadata": {},
   "outputs": [],
   "source": [
    "df['Branch'].nunique()"
   ]
  },
  {
   "cell_type": "code",
   "execution_count": null,
   "id": "875a3fd9-14bd-4858-8b97-b4df57b09073",
   "metadata": {},
   "outputs": [],
   "source": [
    "df.Total.max()"
   ]
  },
  {
   "cell_type": "code",
   "execution_count": null,
   "id": "c9de7272-a794-429b-980c-ae1dd72bac89",
   "metadata": {},
   "outputs": [],
   "source": [
    "df['Total'].max()"
   ]
  },
  {
   "cell_type": "code",
   "execution_count": null,
   "id": "31b188ae-55a3-455d-ad86-9721152698e0",
   "metadata": {},
   "outputs": [],
   "source": [
    "df['Total'].max(),\n",
    "df['Total'].min(),\n",
    "df['Total'].std(),\n",
    "df['Total'].var(), df['Total'].mean"
   ]
  },
  {
   "cell_type": "code",
   "execution_count": null,
   "id": "9cebfcee-76de-45f6-9337-49ca9df2f040",
   "metadata": {},
   "outputs": [],
   "source": [
    "df['Date'] = pd.to_datetime(df['Date'])"
   ]
  },
  {
   "cell_type": "code",
   "execution_count": null,
   "id": "4df4c430-d875-4fd4-9b42-1cac24daf7e9",
   "metadata": {},
   "outputs": [],
   "source": [
    "df['day'] = (df['Date']).dt.day\n",
    "df['month'] = (df['Date']).dt.month\n",
    "df['year'] = (df['Date']).dt.year"
   ]
  },
  {
   "cell_type": "code",
   "execution_count": null,
   "id": "5a84215b-44d8-4a33-896d-3b1413f4633a",
   "metadata": {},
   "outputs": [],
   "source": [
    "df['month_name'] = df['Date'].dt.month_name()"
   ]
  },
  {
   "cell_type": "code",
   "execution_count": null,
   "id": "c1631b23-775d-44fd-bd36-fc7483abcab5",
   "metadata": {},
   "outputs": [],
   "source": [
    "df['weekday'] = df['Date'].dt.day_name()"
   ]
  },
  {
   "cell_type": "code",
   "execution_count": null,
   "id": "97f74228-fc07-4bbe-b5f5-e8e690865875",
   "metadata": {},
   "outputs": [],
   "source": [
    "df['Time'] = pd.to_datetime(df['Time'])"
   ]
  },
  {
   "cell_type": "code",
   "execution_count": null,
   "id": "43bf9336-3284-4732-b57a-c9224acb51d0",
   "metadata": {},
   "outputs": [],
   "source": [
    "df['Hour'] = (df['Time']).dt.hour"
   ]
  },
  {
   "cell_type": "code",
   "execution_count": null,
   "id": "83e0ef23-a1cf-48f9-93ce-07ef349ca779",
   "metadata": {},
   "outputs": [],
   "source": [
    "plt.figure(figsize=(10,6))\n",
    "plt.title('Monthly transaction')\n",
    "sns.countplot(df['month_name'])\n",
    "plt.xticks(rotation=45)"
   ]
  },
  {
   "cell_type": "code",
   "execution_count": null,
   "id": "0b0e91cb-80eb-4223-a432-ae5b4b78038c",
   "metadata": {},
   "outputs": [],
   "source": [
    "plt.figure(figsize=(8,6))\n",
    "plt.title('Male vs Female Customers')\n",
    "sns.countplot(df['Gender']);"
   ]
  },
  {
   "cell_type": "code",
   "execution_count": null,
   "id": "4cf49f08-fae3-47a2-b47a-01b974b62e47",
   "metadata": {},
   "outputs": [],
   "source": [
    "df['month_name'].value_counts()"
   ]
  },
  {
   "cell_type": "code",
   "execution_count": null,
   "id": "4e48d776-b40d-459b-8185-911e7e3af6de",
   "metadata": {},
   "outputs": [],
   "source": [
    "df['weekday'].value_counts()"
   ]
  },
  {
   "cell_type": "code",
   "execution_count": null,
   "id": "bd27f10a-4ff2-4b0f-bdc1-83a5ba3d2778",
   "metadata": {},
   "outputs": [],
   "source": [
    "sns.countplot(df['weekday']);"
   ]
  },
  {
   "cell_type": "code",
   "execution_count": null,
   "id": "3ba19380-f623-4def-9746-9f12a90f53cb",
   "metadata": {},
   "outputs": [],
   "source": [
    "sns.countplot(df['weekday'])\n",
    "plt.xticks(rotation=45);"
   ]
  },
  {
   "cell_type": "code",
   "execution_count": null,
   "id": "8e1422bf-9652-471d-b07f-409e754590aa",
   "metadata": {},
   "outputs": [],
   "source": [
    "plt.figure(figsize=(8,8))\n",
    "explode = (0.1,0.0,0.0)\n",
    "df['month_name'].value_counts().plot.pie(autopct='%1.2f%%', startangle=60, explode=explode)\n",
    "plt.title('Transaction per month')"
   ]
  },
  {
   "cell_type": "code",
   "execution_count": null,
   "id": "1c5302f9-e196-4983-a622-c709ea78bd78",
   "metadata": {},
   "outputs": [],
   "source": [
    "plt.figure(figsize=(8, 8))\n",
    "explode = (0.1,0.0,0.0,0,0,0)\n",
    "df['Product line'].value_counts().plot.pie(autopct='%1.2f%%', startangle=60, explode=explode)\n",
    "plt.title('Transaction per month')"
   ]
  },
  {
   "cell_type": "code",
   "execution_count": null,
   "id": "6764897a-4b41-4a95-acec-a0cea8e919a9",
   "metadata": {},
   "outputs": [],
   "source": [
    "sns.countplot(df['Product line']);"
   ]
  },
  {
   "cell_type": "code",
   "execution_count": null,
   "id": "83a4fa07-9fb9-497d-984d-694b98e6c58e",
   "metadata": {},
   "outputs": [],
   "source": [
    "sns.countplot(df['Product line'])\n",
    "plt.xticks(rotation=90);"
   ]
  },
  {
   "cell_type": "code",
   "execution_count": null,
   "id": "a098b089-97a3-4e1d-ada9-2b5b81458a29",
   "metadata": {},
   "outputs": [],
   "source": [
    "plt.figure(figsize=(12, 6))\n",
    "plt.title('Total monthly transaction')\n",
    "sns.countplot(df['Product line'])"
   ]
  },
  {
   "cell_type": "code",
   "execution_count": null,
   "id": "a86ad0f7-ed56-43d9-8352-08d4ccbf15e6",
   "metadata": {},
   "outputs": [],
   "source": [
    "plt.figure(figsize=(12, 6))\n",
    "plt.title('Total monthly transaction')\n",
    "sns.countplot(df['Product line'], hue=df.Gender)\n",
    "plt.xticks(rotation=45);"
   ]
  },
  {
   "cell_type": "code",
   "execution_count": null,
   "id": "3119cf0e-46ce-469a-9521-8935eff7b122",
   "metadata": {},
   "outputs": [],
   "source": [
    "plt.figure(figsize=(12, 6))\n",
    "plt.title('Total monthly transaction')\n",
    "sns.countplot(df['City'], hue)"
   ]
  }
 ],
 "metadata": {
  "kernelspec": {
   "display_name": "Python 3 (ipykernel)",
   "language": "python",
   "name": "python3"
  },
  "language_info": {
   "codemirror_mode": {
    "name": "ipython",
    "version": 3
   },
   "file_extension": ".py",
   "mimetype": "text/x-python",
   "name": "python",
   "nbconvert_exporter": "python",
   "pygments_lexer": "ipython3",
   "version": "3.10.6"
  }
 },
 "nbformat": 4,
 "nbformat_minor": 5
}
