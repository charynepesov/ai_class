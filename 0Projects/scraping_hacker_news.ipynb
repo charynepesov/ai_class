{
 "cells": [
  {
   "cell_type": "code",
   "execution_count": 1,
   "id": "ed52004e-4b70-4f49-bc6e-a00af44ddea5",
   "metadata": {},
   "outputs": [],
   "source": [
    "import requests\n",
    "import re\n",
    "from bs4 import BeautifulSoup"
   ]
  },
  {
   "cell_type": "code",
   "execution_count": 2,
   "id": "e893a5de-94d9-4657-8a12-16dba70bc609",
   "metadata": {},
   "outputs": [],
   "source": [
    "articles = []\n",
    "url = 'https://news.ycombinator.com/news'"
   ]
  },
  {
   "cell_type": "code",
   "execution_count": 3,
   "id": "795200dc-02e0-4c83-bd9e-07de50767517",
   "metadata": {},
   "outputs": [],
   "source": [
    "r = requests.get(url)\n",
    "html_soup = BeautifulSoup(r.text, 'html.parser')"
   ]
  },
  {
   "cell_type": "code",
   "execution_count": 5,
   "id": "975c9b90-5eae-449a-8728-a92b14d092ea",
   "metadata": {},
   "outputs": [
    {
     "name": "stdout",
     "output_type": "stream",
     "text": [
      "{'link': None, 'title': None, 'score': '85 points', 'comments': '44 comments'}\n",
      "{'link': None, 'title': None, 'score': '60 points', 'comments': '22 comments'}\n",
      "{'link': None, 'title': None, 'score': '29 points', 'comments': '11 comments'}\n",
      "{'link': None, 'title': None, 'score': '14 points', 'comments': '0 comments'}\n",
      "{'link': None, 'title': None, 'score': '56 points', 'comments': '3 comments'}\n",
      "{'link': None, 'title': None, 'score': '12 points', 'comments': '4 comments'}\n",
      "{'link': None, 'title': None, 'score': '186 points', 'comments': '36 comments'}\n",
      "{'link': None, 'title': None, 'score': '138 points', 'comments': '41 comments'}\n",
      "{'link': None, 'title': None, 'score': '52 points', 'comments': '44 comments'}\n",
      "{'link': None, 'title': None, 'score': '66 points', 'comments': '58 comments'}\n",
      "{'link': None, 'title': None, 'score': '114 points', 'comments': '25 comments'}\n",
      "{'link': None, 'title': None, 'score': '10 points', 'comments': '3 comments'}\n",
      "{'link': None, 'title': None, 'score': '13 points', 'comments': '10 comments'}\n",
      "{'link': None, 'title': None, 'score': '38 points', 'comments': '12 comments'}\n",
      "{'link': None, 'title': None, 'score': '26 points', 'comments': '0 comments'}\n",
      "{'link': None, 'title': None, 'score': '76 points', 'comments': '4 comments'}\n",
      "{'link': None, 'title': None, 'score': '22 points', 'comments': '3 comments'}\n",
      "{'link': None, 'title': None, 'score': '92 points', 'comments': '16 comments'}\n",
      "{'link': None, 'title': None, 'score': '105 points', 'comments': '47 comments'}\n",
      "{'link': None, 'title': None, 'score': '21 points', 'comments': '12 comments'}\n",
      "{'link': None, 'title': None, 'score': '169 points', 'comments': '183 comments'}\n",
      "{'link': None, 'title': None, 'score': '25 points', 'comments': '17 comments'}\n",
      "{'link': None, 'title': None, 'score': '84 points', 'comments': '36 comments'}\n",
      "{'link': None, 'title': None, 'score': '187 points', 'comments': '94 comments'}\n",
      "{'link': None, 'title': None, 'score': '224 points', 'comments': '94 comments'}\n",
      "{'link': None, 'title': None, 'score': '91 points', 'comments': '21 comments'}\n",
      "{'link': None, 'title': None, 'score': '217 points', 'comments': '206 comments'}\n",
      "{'link': None, 'title': None, 'score': '88 points', 'comments': '21 comments'}\n",
      "{'link': None, 'title': None, 'score': '236 points', 'comments': '202 comments'}\n",
      "{'link': None, 'title': None, 'score': '60 points', 'comments': '22 comments'}\n",
      "{'link': None, 'title': None, 'score': '85 points', 'comments': '44 comments'}\n",
      "{'link': None, 'title': None, 'score': '60 points', 'comments': '22 comments'}\n",
      "{'link': None, 'title': None, 'score': '29 points', 'comments': '11 comments'}\n",
      "{'link': None, 'title': None, 'score': '14 points', 'comments': '0 comments'}\n",
      "{'link': None, 'title': None, 'score': '56 points', 'comments': '3 comments'}\n",
      "{'link': None, 'title': None, 'score': '12 points', 'comments': '4 comments'}\n",
      "{'link': None, 'title': None, 'score': '186 points', 'comments': '36 comments'}\n",
      "{'link': None, 'title': None, 'score': '138 points', 'comments': '41 comments'}\n",
      "{'link': None, 'title': None, 'score': '52 points', 'comments': '44 comments'}\n",
      "{'link': None, 'title': None, 'score': '66 points', 'comments': '58 comments'}\n",
      "{'link': None, 'title': None, 'score': '114 points', 'comments': '25 comments'}\n",
      "{'link': None, 'title': None, 'score': '10 points', 'comments': '3 comments'}\n",
      "{'link': None, 'title': None, 'score': '13 points', 'comments': '10 comments'}\n",
      "{'link': None, 'title': None, 'score': '38 points', 'comments': '12 comments'}\n",
      "{'link': None, 'title': None, 'score': '26 points', 'comments': '0 comments'}\n",
      "{'link': None, 'title': None, 'score': '76 points', 'comments': '4 comments'}\n",
      "{'link': None, 'title': None, 'score': '22 points', 'comments': '3 comments'}\n",
      "{'link': None, 'title': None, 'score': '92 points', 'comments': '16 comments'}\n",
      "{'link': None, 'title': None, 'score': '105 points', 'comments': '47 comments'}\n",
      "{'link': None, 'title': None, 'score': '21 points', 'comments': '12 comments'}\n",
      "{'link': None, 'title': None, 'score': '169 points', 'comments': '183 comments'}\n",
      "{'link': None, 'title': None, 'score': '25 points', 'comments': '17 comments'}\n",
      "{'link': None, 'title': None, 'score': '84 points', 'comments': '36 comments'}\n",
      "{'link': None, 'title': None, 'score': '187 points', 'comments': '94 comments'}\n",
      "{'link': None, 'title': None, 'score': '224 points', 'comments': '94 comments'}\n",
      "{'link': None, 'title': None, 'score': '91 points', 'comments': '21 comments'}\n",
      "{'link': None, 'title': None, 'score': '217 points', 'comments': '206 comments'}\n",
      "{'link': None, 'title': None, 'score': '88 points', 'comments': '21 comments'}\n",
      "{'link': None, 'title': None, 'score': '236 points', 'comments': '202 comments'}\n",
      "{'link': None, 'title': None, 'score': '60 points', 'comments': '22 comments'}\n"
     ]
    }
   ],
   "source": [
    "for item in html_soup.find_all('tr', class_='athing'):\n",
    "    item_a = item.find('a', class_='titleline')\n",
    "    item_link = item_a.get('href') if item_a else None\n",
    "    item_text = item_a.get_text(strip=True) if item_a else None\n",
    "    \n",
    "    next_row = item.find_next_sibling('tr')\n",
    "    item_score = next_row.find('span', class_='score')\n",
    "    item_score = item_score.get_text(strip=True) if item_score else '0 points'\n",
    "    # We use regex here to find the correct element\n",
    "    item_comments = next_row.find('a', string=re.compile('\\d+(&nbsp;|\\s)comments(s?)'))\n",
    "    item_comments = item_comments.get_text(strip=True).replace('\\xa0', ' ') if item_comments else '0 comments'    \n",
    "    articles.append({\n",
    "        'link' : item_link,\n",
    "        'title' : item_text,\n",
    "        'score' : item_score,\n",
    "        'comments' : item_comments})\n",
    "    \n",
    "for article in articles:\n",
    "    print(article)"
   ]
  }
 ],
 "metadata": {
  "kernelspec": {
   "display_name": "Python 3 (ipykernel)",
   "language": "python",
   "name": "python3"
  },
  "language_info": {
   "codemirror_mode": {
    "name": "ipython",
    "version": 3
   },
   "file_extension": ".py",
   "mimetype": "text/x-python",
   "name": "python",
   "nbconvert_exporter": "python",
   "pygments_lexer": "ipython3",
   "version": "3.10.8"
  }
 },
 "nbformat": 4,
 "nbformat_minor": 5
}
