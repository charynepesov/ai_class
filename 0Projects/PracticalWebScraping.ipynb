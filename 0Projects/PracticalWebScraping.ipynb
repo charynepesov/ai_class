{
 "cells": [
  {
   "cell_type": "code",
   "execution_count": 1,
   "id": "b15ead40-734b-4d66-a640-724f0099829d",
   "metadata": {},
   "outputs": [],
   "source": [
    "import requests"
   ]
  },
  {
   "cell_type": "code",
   "execution_count": 4,
   "id": "350f0355-ebef-41b0-bb4b-119693058adc",
   "metadata": {},
   "outputs": [
    {
     "name": "stdout",
     "output_type": "stream",
     "text": [
      "<Response [200]>\n"
     ]
    }
   ],
   "source": [
    "url = 'http://www.webscrapingfordatascience.com/basichttp/'\n",
    "r = requests.get(url)\n",
    "print(r)"
   ]
  },
  {
   "cell_type": "code",
   "execution_count": 5,
   "id": "5fff1935-2d60-4ca7-8b2a-e13f2ff85b28",
   "metadata": {},
   "outputs": [
    {
     "data": {
      "text/plain": [
       "200"
      ]
     },
     "execution_count": 5,
     "metadata": {},
     "output_type": "execute_result"
    }
   ],
   "source": [
    "r.status_code"
   ]
  },
  {
   "cell_type": "code",
   "execution_count": 6,
   "id": "6c1c4970-bf7d-46b3-b3b2-f4f8a8bb5d0b",
   "metadata": {},
   "outputs": [
    {
     "data": {
      "text/plain": [
       "'OK'"
      ]
     },
     "execution_count": 6,
     "metadata": {},
     "output_type": "execute_result"
    }
   ],
   "source": [
    "r.reason"
   ]
  },
  {
   "cell_type": "code",
   "execution_count": 7,
   "id": "05de1941-238f-492e-9f47-09c4690019c3",
   "metadata": {},
   "outputs": [
    {
     "data": {
      "text/plain": [
       "{'Date': 'Thu, 24 Nov 2022 15:05:51 GMT', 'Server': 'Apache/2.4.41 (Ubuntu)', 'Content-Length': '21', 'Keep-Alive': 'timeout=5, max=100', 'Connection': 'Keep-Alive', 'Content-Type': 'text/html; charset=UTF-8'}"
      ]
     },
     "execution_count": 7,
     "metadata": {},
     "output_type": "execute_result"
    }
   ],
   "source": [
    "r.headers"
   ]
  },
  {
   "cell_type": "code",
   "execution_count": 8,
   "id": "ff0a12cb-a27d-4529-9963-e372ff1d3907",
   "metadata": {},
   "outputs": [
    {
     "data": {
      "text/plain": [
       "<PreparedRequest [GET]>"
      ]
     },
     "execution_count": 8,
     "metadata": {},
     "output_type": "execute_result"
    }
   ],
   "source": [
    "r.request"
   ]
  },
  {
   "cell_type": "code",
   "execution_count": 9,
   "id": "45febc87-6734-4442-9d2a-9940df522a1b",
   "metadata": {},
   "outputs": [
    {
     "data": {
      "text/plain": [
       "{'User-Agent': 'python-requests/2.28.1', 'Accept-Encoding': 'gzip, deflate, br', 'Accept': '*/*', 'Connection': 'keep-alive'}"
      ]
     },
     "execution_count": 9,
     "metadata": {},
     "output_type": "execute_result"
    }
   ],
   "source": [
    "r.request.headers"
   ]
  },
  {
   "cell_type": "code",
   "execution_count": 10,
   "id": "cbfb12ba-a14f-4ba2-8109-c5927ab83303",
   "metadata": {},
   "outputs": [
    {
     "data": {
      "text/plain": [
       "'Hello from the web!\\r\\n'"
      ]
     },
     "execution_count": 10,
     "metadata": {},
     "output_type": "execute_result"
    }
   ],
   "source": [
    "r.text"
   ]
  },
  {
   "cell_type": "code",
   "execution_count": 11,
   "id": "9e1acc7c-e04a-42f2-b681-7e74ce7dd176",
   "metadata": {},
   "outputs": [],
   "source": [
    "r1 = requests.get('http://www.webscrapingfordatascience.com/paramhttp/?query=test')"
   ]
  },
  {
   "cell_type": "code",
   "execution_count": 12,
   "id": "9758cd0e-3ed7-4cbf-9101-fead797eaea7",
   "metadata": {},
   "outputs": [
    {
     "data": {
      "text/plain": [
       "{'Date': 'Thu, 24 Nov 2022 16:22:00 GMT', 'Server': 'Apache/2.4.41 (Ubuntu)', 'Content-Length': '38', 'Keep-Alive': 'timeout=5, max=100', 'Connection': 'Keep-Alive', 'Content-Type': 'text/html; charset=UTF-8'}"
      ]
     },
     "execution_count": 12,
     "metadata": {},
     "output_type": "execute_result"
    }
   ],
   "source": [
    "r1.headers"
   ]
  },
  {
   "cell_type": "code",
   "execution_count": 13,
   "id": "5c0172c1-35c2-4900-ace6-f1f86cf437ad",
   "metadata": {},
   "outputs": [
    {
     "data": {
      "text/plain": [
       "'I don\\'t have any information on \"test\"'"
      ]
     },
     "execution_count": 13,
     "metadata": {},
     "output_type": "execute_result"
    }
   ],
   "source": [
    "r1.text"
   ]
  },
  {
   "cell_type": "code",
   "execution_count": 14,
   "id": "0fd4b944-e2e5-45b9-babf-756d636e09f4",
   "metadata": {},
   "outputs": [],
   "source": [
    "r2 = requests.get('http://www.webscrapingfordatascience.com/paramhttp/?query=anothertest')"
   ]
  },
  {
   "cell_type": "code",
   "execution_count": 15,
   "id": "21098f65-e2e1-49d2-8197-131d48a2712b",
   "metadata": {},
   "outputs": [
    {
     "data": {
      "text/plain": [
       "'I don\\'t have any information on \"anothertest\"'"
      ]
     },
     "execution_count": 15,
     "metadata": {},
     "output_type": "execute_result"
    }
   ],
   "source": [
    "r2.text"
   ]
  },
  {
   "cell_type": "code",
   "execution_count": 16,
   "id": "1b4f3365-47a9-418e-971d-1115e6919eb5",
   "metadata": {},
   "outputs": [
    {
     "data": {
      "text/plain": [
       "'I don\\'t have any information on \"complex?\"'"
      ]
     },
     "execution_count": 16,
     "metadata": {},
     "output_type": "execute_result"
    }
   ],
   "source": [
    "r3 = requests.get('http://www.webscrapingfordatascience.com/paramhttp/?query=complex?&')\n",
    "r3.text"
   ]
  },
  {
   "cell_type": "code",
   "execution_count": 17,
   "id": "ee4f1cf4-9531-4260-8758-f952a244b034",
   "metadata": {},
   "outputs": [],
   "source": [
    "from urllib.parse import quote, quote_plus"
   ]
  },
  {
   "cell_type": "code",
   "execution_count": 18,
   "id": "57b08122-ba9e-4421-9965-584f1024843e",
   "metadata": {},
   "outputs": [
    {
     "name": "stdout",
     "output_type": "stream",
     "text": [
      "a%20query%20with%20/%2C%20spaces%20and%20%3F%26\n",
      "a+query+with+%2F%2C+spaces+and+%3F%26\n"
     ]
    }
   ],
   "source": [
    "raw_string = 'a query with /, spaces and ?&'\n",
    "print(quote(raw_string))\n",
    "print(quote_plus(raw_string))"
   ]
  },
  {
   "cell_type": "code",
   "execution_count": 19,
   "id": "6b4ac0e9-cdef-4dea-b796-a475ce7a9406",
   "metadata": {},
   "outputs": [],
   "source": [
    "r4 = requests.get('https://en.wikipedia.org/w/index.php' + \\\n",
    "      '?title=List_of_Game_of_Thrones_episodes&oldid=802553687')"
   ]
  },
  {
   "cell_type": "code",
   "execution_count": 21,
   "id": "c2185f8e-b5d6-4834-93d6-638c7e154d87",
   "metadata": {},
   "outputs": [
    {
     "data": {
      "text/plain": [
       "200"
      ]
     },
     "execution_count": 21,
     "metadata": {},
     "output_type": "execute_result"
    }
   ],
   "source": [
    "r4.status_code"
   ]
  },
  {
   "cell_type": "code",
   "execution_count": 22,
   "id": "39c4ccc3-f63d-46ff-ad09-8d91a822ccd0",
   "metadata": {},
   "outputs": [],
   "source": [
    "from bs4 import BeautifulSoup"
   ]
  },
  {
   "cell_type": "code",
   "execution_count": 35,
   "id": "43d5e70d-6a27-4e57-883d-3508ca909a5d",
   "metadata": {},
   "outputs": [],
   "source": [
    "html_contents = r4.text\n",
    "html_soup = BeautifulSoup(html_contents, \"html.parser\")"
   ]
  },
  {
   "cell_type": "code",
   "execution_count": 40,
   "id": "f665cfbf-57aa-41ac-b2c2-e619a2a98489",
   "metadata": {},
   "outputs": [],
   "source": [
    "first_h1 = html_soup.find('h1')"
   ]
  },
  {
   "cell_type": "code",
   "execution_count": 38,
   "id": "309f35d7-a039-4382-83e0-be97e8aebbc5",
   "metadata": {},
   "outputs": [
    {
     "name": "stdout",
     "output_type": "stream",
     "text": [
      "None\n"
     ]
    }
   ],
   "source": [
    "print(html_soup.find('', {'id': 'p-logo'}))"
   ]
  },
  {
   "cell_type": "code",
   "execution_count": 39,
   "id": "6e19dc59-e67e-47e0-bf4a-7d82aaf75fa5",
   "metadata": {},
   "outputs": [
    {
     "name": "stdout",
     "output_type": "stream",
     "text": [
      "<h1 class=\"firstHeading mw-first-heading\" id=\"firstHeading\">List of <i>Game of Thrones</i> episodes</h1>\n",
      "<h2 id=\"mw-toc-heading\">Contents</h2>\n",
      "<h2><span class=\"mw-headline\" id=\"Series_overview\">Series overview</span></h2>\n",
      "<h2><span class=\"mw-headline\" id=\"Episodes\">Episodes</span></h2>\n",
      "<h2><span class=\"mw-headline\" id=\"Home_media_releases\">Home media releases</span></h2>\n",
      "<h2><span class=\"mw-headline\" id=\"Ratings\">Ratings</span></h2>\n",
      "<h2><span class=\"mw-headline\" id=\"References\">References</span></h2>\n",
      "<h2><span class=\"mw-headline\" id=\"External_links\">External links</span></h2>\n",
      "<h2>Navigation menu</h2>\n"
     ]
    }
   ],
   "source": [
    "for found in html_soup.find_all(['h1', 'h2']):\n",
    "    print(found)"
   ]
  },
  {
   "cell_type": "code",
   "execution_count": 41,
   "id": "86778344-07b1-43c5-b2a5-95ddd0f74d2a",
   "metadata": {},
   "outputs": [
    {
     "data": {
      "text/plain": [
       "'h1'"
      ]
     },
     "execution_count": 41,
     "metadata": {},
     "output_type": "execute_result"
    }
   ],
   "source": [
    "first_h1.name"
   ]
  },
  {
   "cell_type": "code",
   "execution_count": 42,
   "id": "c52e2862-8118-45f5-bb4b-f6ab4af9dd89",
   "metadata": {},
   "outputs": [
    {
     "data": {
      "text/plain": [
       "['List of ', <i>Game of Thrones</i>, ' episodes']"
      ]
     },
     "execution_count": 42,
     "metadata": {},
     "output_type": "execute_result"
    }
   ],
   "source": [
    "first_h1.contents"
   ]
  },
  {
   "cell_type": "code",
   "execution_count": 43,
   "id": "3ce9949a-685f-4ce9-8807-e667de47ed1c",
   "metadata": {},
   "outputs": [
    {
     "data": {
      "text/plain": [
       "'<h1 class=\"firstHeading mw-first-heading\" id=\"firstHeading\">List of <i>Game of Thrones</i> episodes</h1>'"
      ]
     },
     "execution_count": 43,
     "metadata": {},
     "output_type": "execute_result"
    }
   ],
   "source": [
    "str(first_h1)"
   ]
  },
  {
   "cell_type": "code",
   "execution_count": 44,
   "id": "2ae6286c-4bc9-4a26-9b72-9212ccf2eda7",
   "metadata": {},
   "outputs": [
    {
     "data": {
      "text/plain": [
       "'List of Game of Thrones episodes'"
      ]
     },
     "execution_count": 44,
     "metadata": {},
     "output_type": "execute_result"
    }
   ],
   "source": [
    "first_h1.text"
   ]
  },
  {
   "cell_type": "code",
   "execution_count": 45,
   "id": "d7d02066-8622-4a1c-80fc-9121e546374b",
   "metadata": {},
   "outputs": [
    {
     "data": {
      "text/plain": [
       "{'id': 'firstHeading', 'class': ['firstHeading', 'mw-first-heading']}"
      ]
     },
     "execution_count": 45,
     "metadata": {},
     "output_type": "execute_result"
    }
   ],
   "source": [
    "first_h1.attrs"
   ]
  },
  {
   "cell_type": "code",
   "execution_count": 46,
   "id": "5e291bca-2d1d-4f8e-bd7e-1b13f312a07b",
   "metadata": {},
   "outputs": [],
   "source": [
    "cites = html_soup.find_all('cite', class_='citation', limit=5)"
   ]
  },
  {
   "cell_type": "code",
   "execution_count": 48,
   "id": "b807eebc-b5e5-4605-bb3c-e3315af2e09a",
   "metadata": {},
   "outputs": [
    {
     "name": "stdout",
     "output_type": "stream",
     "text": [
      "Fowler, Matt (April 8, 2011). \"Game of Thrones: \"Winter is Coming\" Review\". IGN. Archived from the original on August 17, 2012. Retrieved September 22, 2016.\n",
      "https://web.archive.org/web/20120817073932/http://tv.ign.com/articles/116/1160215p1.html\n",
      "Fleming, Michael (January 16, 2007). \"HBO turns Fire into fantasy series\". Variety. Archived from the original on May 16, 2012. Retrieved September 3, 2016.\n",
      "https://web.archive.org/web/20120516224747/http://www.variety.com/article/VR1117957532?refCatId=14\n",
      "\"Game of Thrones\". Emmys.com. Retrieved September 17, 2016.\n",
      "http://www.emmys.com/shows/game-thrones\n",
      "Roberts, Josh (April 1, 2012). \"Where HBO's hit 'Game of Thrones' was filmed\". USA Today. Archived from the original on April 1, 2012. Retrieved March 8, 2013.\n",
      "https://web.archive.org/web/20120401123724/http://travel.usatoday.com/destinations/story/2012-04-01/Where-the-HBO-hit-Game-of-Thrones-was-filmed/53876876/1\n",
      "Schwartz, Terri (January 28, 2013). \"'Game of Thrones' casts a bear and shoots in Los Angeles for major Season 3 scene\". Zap2it. Archived from the original on October 16, 2013. Retrieved March 8, 2013.\n",
      "https://web.archive.org/web/20131016062544/http://blog.zap2it.com/frominsidethebox/2013/01/game-of-thrones-casts-a-bear-and-shoots-in-los-angeles-for-major-season-3-scene.html\n"
     ]
    }
   ],
   "source": [
    "for citation in cites:\n",
    "    print(citation.get_text())\n",
    "    link = citation.find('a')\n",
    "    print(link.get('href'))"
   ]
  },
  {
   "cell_type": "code",
   "execution_count": null,
   "id": "5359cfbb-f7f4-4371-9eba-d91e5930fe4f",
   "metadata": {},
   "outputs": [],
   "source": []
  }
 ],
 "metadata": {
  "kernelspec": {
   "display_name": "Python 3 (ipykernel)",
   "language": "python",
   "name": "python3"
  },
  "language_info": {
   "codemirror_mode": {
    "name": "ipython",
    "version": 3
   },
   "file_extension": ".py",
   "mimetype": "text/x-python",
   "name": "python",
   "nbconvert_exporter": "python",
   "pygments_lexer": "ipython3",
   "version": "3.10.8"
  }
 },
 "nbformat": 4,
 "nbformat_minor": 5
}
