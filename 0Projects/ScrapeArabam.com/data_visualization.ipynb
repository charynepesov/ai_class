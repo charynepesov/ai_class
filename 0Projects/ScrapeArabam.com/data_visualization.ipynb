{
 "cells": [
  {
   "cell_type": "code",
   "execution_count": 15,
   "id": "b877fee8-eaca-404b-beb7-69f9ff91aff3",
   "metadata": {},
   "outputs": [],
   "source": [
    "import pandas as pd\n",
    "import matplotlib.pyplot as plt\n",
    "import seaborn as sns"
   ]
  },
  {
   "cell_type": "code",
   "execution_count": 56,
   "id": "527f2588-3560-4783-8e7b-a79a61778851",
   "metadata": {},
   "outputs": [
    {
     "data": {
      "text/html": [
       "<div>\n",
       "<style scoped>\n",
       "    .dataframe tbody tr th:only-of-type {\n",
       "        vertical-align: middle;\n",
       "    }\n",
       "\n",
       "    .dataframe tbody tr th {\n",
       "        vertical-align: top;\n",
       "    }\n",
       "\n",
       "    .dataframe thead th {\n",
       "        text-align: right;\n",
       "    }\n",
       "</style>\n",
       "<table border=\"1\" class=\"dataframe\">\n",
       "  <thead>\n",
       "    <tr style=\"text-align: right;\">\n",
       "      <th></th>\n",
       "      <th>link</th>\n",
       "      <th>fiyat</th>\n",
       "      <th>adres</th>\n",
       "      <th>ilan_no</th>\n",
       "      <th>ilan_tarihi</th>\n",
       "      <th>marka</th>\n",
       "      <th>seri</th>\n",
       "      <th>model</th>\n",
       "      <th>yil</th>\n",
       "      <th>kilometre</th>\n",
       "      <th>vites_tipi</th>\n",
       "      <th>yakit_tipi</th>\n",
       "      <th>kasa_tipi</th>\n",
       "      <th>motor_hacmi</th>\n",
       "      <th>motor_gucu</th>\n",
       "    </tr>\n",
       "  </thead>\n",
       "  <tbody>\n",
       "    <tr>\n",
       "      <th>0</th>\n",
       "      <td>https://www.arabam.com/ilan/sahibinden-satilik...</td>\n",
       "      <td>475.000 TL</td>\n",
       "      <td>ESKİŞEHİR / TEPEBAŞI / ŞEKER MAHALLESİ</td>\n",
       "      <td>21500987</td>\n",
       "      <td>11 Aralık 2022</td>\n",
       "      <td>Fiat</td>\n",
       "      <td>Egea Cross</td>\n",
       "      <td>1.4 Fire Urban</td>\n",
       "      <td>2021</td>\n",
       "      <td>31.500 km</td>\n",
       "      <td>Düz</td>\n",
       "      <td>Benzin</td>\n",
       "      <td>Crossover</td>\n",
       "      <td>1368 cc</td>\n",
       "      <td>95 hp</td>\n",
       "    </tr>\n",
       "    <tr>\n",
       "      <th>1</th>\n",
       "      <td>https://www.arabam.com/ilan/sahibinden-satilik...</td>\n",
       "      <td>250.000 TL</td>\n",
       "      <td>ANKARA / ÇANKAYA / ÇAMLITEPE MAHALLESİ</td>\n",
       "      <td>21536416</td>\n",
       "      <td>11 Aralık 2022</td>\n",
       "      <td>Peugeot</td>\n",
       "      <td>308</td>\n",
       "      <td>1.6 VTi Comfort</td>\n",
       "      <td>2009</td>\n",
       "      <td>143.600 km</td>\n",
       "      <td>Düz</td>\n",
       "      <td>Benzin</td>\n",
       "      <td>Hatchback/5</td>\n",
       "      <td>1598 cc</td>\n",
       "      <td>122 hp</td>\n",
       "    </tr>\n",
       "    <tr>\n",
       "      <th>2</th>\n",
       "      <td>https://www.arabam.com/ilan/sahibinden-satilik...</td>\n",
       "      <td>345.000 TL</td>\n",
       "      <td>MERSİN / MEZİTLİ / YENİ MAHALLESİ</td>\n",
       "      <td>21535167</td>\n",
       "      <td>11 Aralık 2022</td>\n",
       "      <td>Volkswagen</td>\n",
       "      <td>Jetta</td>\n",
       "      <td>1.6 TDi Comfortline</td>\n",
       "      <td>2011</td>\n",
       "      <td>199.000 km</td>\n",
       "      <td>Yarı Otomatik</td>\n",
       "      <td>Dizel</td>\n",
       "      <td>Sedan</td>\n",
       "      <td>1598 cc</td>\n",
       "      <td>105 hp</td>\n",
       "    </tr>\n",
       "    <tr>\n",
       "      <th>3</th>\n",
       "      <td>https://www.arabam.com/ilan/sahibinden-satilik...</td>\n",
       "      <td>177.250 TL</td>\n",
       "      <td>ELAZIĞ / MERKEZ / DOĞU KENT MAHALLESİ</td>\n",
       "      <td>21528526</td>\n",
       "      <td>11 Aralık 2022</td>\n",
       "      <td>Nissan</td>\n",
       "      <td>Skystar</td>\n",
       "      <td>4x2</td>\n",
       "      <td>2004</td>\n",
       "      <td>417.000 km</td>\n",
       "      <td>Düz</td>\n",
       "      <td>Dizel</td>\n",
       "      <td>Hard top</td>\n",
       "      <td>2488 cc</td>\n",
       "      <td>133 hp</td>\n",
       "    </tr>\n",
       "    <tr>\n",
       "      <th>4</th>\n",
       "      <td>https://www.arabam.com/ilan/sahibinden-satilik...</td>\n",
       "      <td>705.000 TL</td>\n",
       "      <td>İSTANBUL / ÜSKÜDAR / AZİZ MAHMUT HÜDAYİ MAHALLESİ</td>\n",
       "      <td>21400876</td>\n",
       "      <td>11 Aralık 2022</td>\n",
       "      <td>BMW</td>\n",
       "      <td>3 Serisi</td>\n",
       "      <td>316i Sport Line</td>\n",
       "      <td>2012</td>\n",
       "      <td>126.000 km</td>\n",
       "      <td>Otomatik</td>\n",
       "      <td>Benzin</td>\n",
       "      <td>Sedan</td>\n",
       "      <td>1598 cc</td>\n",
       "      <td>136 hp</td>\n",
       "    </tr>\n",
       "  </tbody>\n",
       "</table>\n",
       "</div>"
      ],
      "text/plain": [
       "                                                link       fiyat  \\\n",
       "0  https://www.arabam.com/ilan/sahibinden-satilik...  475.000 TL   \n",
       "1  https://www.arabam.com/ilan/sahibinden-satilik...  250.000 TL   \n",
       "2  https://www.arabam.com/ilan/sahibinden-satilik...  345.000 TL   \n",
       "3  https://www.arabam.com/ilan/sahibinden-satilik...  177.250 TL   \n",
       "4  https://www.arabam.com/ilan/sahibinden-satilik...  705.000 TL   \n",
       "\n",
       "                                               adres   ilan_no  \\\n",
       "0             ESKİŞEHİR / TEPEBAŞI / ŞEKER MAHALLESİ  21500987   \n",
       "1             ANKARA / ÇANKAYA / ÇAMLITEPE MAHALLESİ  21536416   \n",
       "2                  MERSİN / MEZİTLİ / YENİ MAHALLESİ  21535167   \n",
       "3              ELAZIĞ / MERKEZ / DOĞU KENT MAHALLESİ  21528526   \n",
       "4  İSTANBUL / ÜSKÜDAR / AZİZ MAHMUT HÜDAYİ MAHALLESİ  21400876   \n",
       "\n",
       "      ilan_tarihi       marka        seri                model   yil  \\\n",
       "0  11 Aralık 2022        Fiat  Egea Cross       1.4 Fire Urban  2021   \n",
       "1  11 Aralık 2022     Peugeot         308      1.6 VTi Comfort  2009   \n",
       "2  11 Aralık 2022  Volkswagen       Jetta  1.6 TDi Comfortline  2011   \n",
       "3  11 Aralık 2022      Nissan     Skystar                  4x2  2004   \n",
       "4  11 Aralık 2022         BMW    3 Serisi      316i Sport Line  2012   \n",
       "\n",
       "    kilometre     vites_tipi yakit_tipi    kasa_tipi motor_hacmi motor_gucu  \n",
       "0   31.500 km            Düz     Benzin    Crossover     1368 cc      95 hp  \n",
       "1  143.600 km            Düz     Benzin  Hatchback/5     1598 cc     122 hp  \n",
       "2  199.000 km  Yarı Otomatik      Dizel        Sedan     1598 cc     105 hp  \n",
       "3  417.000 km            Düz      Dizel     Hard top     2488 cc     133 hp  \n",
       "4  126.000 km       Otomatik     Benzin        Sedan     1598 cc     136 hp  "
      ]
     },
     "execution_count": 56,
     "metadata": {},
     "output_type": "execute_result"
    }
   ],
   "source": [
    "data = pd.read_csv(\"arabalar_data.csv\")\n",
    "data.head()"
   ]
  },
  {
   "cell_type": "code",
   "execution_count": 59,
   "id": "f7f82d34-168c-40fe-83f1-74b441b496fb",
   "metadata": {},
   "outputs": [
    {
     "data": {
      "text/html": [
       "<div>\n",
       "<style scoped>\n",
       "    .dataframe tbody tr th:only-of-type {\n",
       "        vertical-align: middle;\n",
       "    }\n",
       "\n",
       "    .dataframe tbody tr th {\n",
       "        vertical-align: top;\n",
       "    }\n",
       "\n",
       "    .dataframe thead th {\n",
       "        text-align: right;\n",
       "    }\n",
       "</style>\n",
       "<table border=\"1\" class=\"dataframe\">\n",
       "  <thead>\n",
       "    <tr style=\"text-align: right;\">\n",
       "      <th></th>\n",
       "      <th>link</th>\n",
       "      <th>fiyat</th>\n",
       "      <th>adres</th>\n",
       "      <th>ilan_no</th>\n",
       "      <th>ilan_tarihi</th>\n",
       "      <th>marka</th>\n",
       "      <th>seri</th>\n",
       "      <th>model</th>\n",
       "      <th>yil</th>\n",
       "      <th>kilometre</th>\n",
       "      <th>vites_tipi</th>\n",
       "      <th>yakit_tipi</th>\n",
       "      <th>kasa_tipi</th>\n",
       "      <th>motor_hacmi</th>\n",
       "      <th>motor_gucu</th>\n",
       "    </tr>\n",
       "  </thead>\n",
       "  <tbody>\n",
       "    <tr>\n",
       "      <th>1562</th>\n",
       "      <td>https://www.arabam.com/ilan/sahibinden-satilik...</td>\n",
       "      <td>1.050.000 TL</td>\n",
       "      <td>İSTANBUL / KADIKÖY / SUADİYE MAHALLESİ</td>\n",
       "      <td>21527978</td>\n",
       "      <td>10 Aralık 2022</td>\n",
       "      <td>BMW</td>\n",
       "      <td>X1</td>\n",
       "      <td>18i sDrive X Line</td>\n",
       "      <td>2016</td>\n",
       "      <td>42.000 km</td>\n",
       "      <td>Otomatik</td>\n",
       "      <td>Benzin</td>\n",
       "      <td>SUV</td>\n",
       "      <td>1499 cc</td>\n",
       "      <td>136 hp</td>\n",
       "    </tr>\n",
       "    <tr>\n",
       "      <th>1563</th>\n",
       "      <td>https://www.arabam.com/ilan/sahibinden-satilik...</td>\n",
       "      <td>665.000 TL</td>\n",
       "      <td>AYDIN / NAZİLLİ / TURAN MAHALLESİ</td>\n",
       "      <td>21527559</td>\n",
       "      <td>10 Aralık 2022</td>\n",
       "      <td>Volvo</td>\n",
       "      <td>S60</td>\n",
       "      <td>1.5 T3 Premium</td>\n",
       "      <td>2016</td>\n",
       "      <td>114.000 km</td>\n",
       "      <td>Otomatik</td>\n",
       "      <td>Benzin</td>\n",
       "      <td>Sedan</td>\n",
       "      <td>1498 cc</td>\n",
       "      <td>152 hp</td>\n",
       "    </tr>\n",
       "    <tr>\n",
       "      <th>1564</th>\n",
       "      <td>https://www.arabam.com/ilan/sahibinden-satilik...</td>\n",
       "      <td>210.000 TL</td>\n",
       "      <td>İSTANBUL / ESENYURT / SAADETDERE MAHALLESİ</td>\n",
       "      <td>21520586</td>\n",
       "      <td>09 Aralık 2022</td>\n",
       "      <td>Renault</td>\n",
       "      <td>Megane</td>\n",
       "      <td>1.4 Authentique</td>\n",
       "      <td>2007</td>\n",
       "      <td>242.500 km</td>\n",
       "      <td>Düz</td>\n",
       "      <td>LPG &amp; Benzin</td>\n",
       "      <td>Hatchback/5</td>\n",
       "      <td>1390 cc</td>\n",
       "      <td>98 hp</td>\n",
       "    </tr>\n",
       "    <tr>\n",
       "      <th>1565</th>\n",
       "      <td>https://www.arabam.com/ilan/sahibinden-satilik...</td>\n",
       "      <td>300.000 TL</td>\n",
       "      <td>MUĞLA / BODRUM / MUMCULAR MAHALLESİ</td>\n",
       "      <td>21518741</td>\n",
       "      <td>08 Aralık 2022</td>\n",
       "      <td>Land Rover</td>\n",
       "      <td>Range Rover</td>\n",
       "      <td>4.6 Vogue</td>\n",
       "      <td>2000</td>\n",
       "      <td>232.200 km</td>\n",
       "      <td>Otomatik</td>\n",
       "      <td>LPG &amp; Benzin</td>\n",
       "      <td>Crossover</td>\n",
       "      <td>4553 cc</td>\n",
       "      <td>225 hp</td>\n",
       "    </tr>\n",
       "    <tr>\n",
       "      <th>1566</th>\n",
       "      <td>https://www.arabam.com/ilan/sahibinden-satilik...</td>\n",
       "      <td>399.500 TL</td>\n",
       "      <td>ANKARA / ETİMESGUT / BAĞLICA MAHALLESİ</td>\n",
       "      <td>20005220</td>\n",
       "      <td>08 Aralık 2022</td>\n",
       "      <td>Volkswagen</td>\n",
       "      <td>Passat</td>\n",
       "      <td>2.0 Comfortline</td>\n",
       "      <td>2005</td>\n",
       "      <td>249.000 km</td>\n",
       "      <td>Otomatik</td>\n",
       "      <td>Benzin</td>\n",
       "      <td>Sedan</td>\n",
       "      <td>1801 - 2000 cm3</td>\n",
       "      <td>126 - 150 HP</td>\n",
       "    </tr>\n",
       "  </tbody>\n",
       "</table>\n",
       "</div>"
      ],
      "text/plain": [
       "                                                   link         fiyat  \\\n",
       "1562  https://www.arabam.com/ilan/sahibinden-satilik...  1.050.000 TL   \n",
       "1563  https://www.arabam.com/ilan/sahibinden-satilik...    665.000 TL   \n",
       "1564  https://www.arabam.com/ilan/sahibinden-satilik...    210.000 TL   \n",
       "1565  https://www.arabam.com/ilan/sahibinden-satilik...    300.000 TL   \n",
       "1566  https://www.arabam.com/ilan/sahibinden-satilik...    399.500 TL   \n",
       "\n",
       "                                           adres   ilan_no     ilan_tarihi  \\\n",
       "1562      İSTANBUL / KADIKÖY / SUADİYE MAHALLESİ  21527978  10 Aralık 2022   \n",
       "1563           AYDIN / NAZİLLİ / TURAN MAHALLESİ  21527559  10 Aralık 2022   \n",
       "1564  İSTANBUL / ESENYURT / SAADETDERE MAHALLESİ  21520586  09 Aralık 2022   \n",
       "1565         MUĞLA / BODRUM / MUMCULAR MAHALLESİ  21518741  08 Aralık 2022   \n",
       "1566      ANKARA / ETİMESGUT / BAĞLICA MAHALLESİ  20005220  08 Aralık 2022   \n",
       "\n",
       "           marka         seri              model   yil   kilometre vites_tipi  \\\n",
       "1562         BMW           X1  18i sDrive X Line  2016   42.000 km   Otomatik   \n",
       "1563       Volvo          S60     1.5 T3 Premium  2016  114.000 km   Otomatik   \n",
       "1564     Renault       Megane    1.4 Authentique  2007  242.500 km        Düz   \n",
       "1565  Land Rover  Range Rover          4.6 Vogue  2000  232.200 km   Otomatik   \n",
       "1566  Volkswagen       Passat    2.0 Comfortline  2005  249.000 km   Otomatik   \n",
       "\n",
       "        yakit_tipi    kasa_tipi      motor_hacmi    motor_gucu  \n",
       "1562        Benzin          SUV          1499 cc        136 hp  \n",
       "1563        Benzin        Sedan          1498 cc        152 hp  \n",
       "1564  LPG & Benzin  Hatchback/5          1390 cc         98 hp  \n",
       "1565  LPG & Benzin    Crossover          4553 cc        225 hp  \n",
       "1566        Benzin        Sedan  1801 - 2000 cm3  126 - 150 HP  "
      ]
     },
     "execution_count": 59,
     "metadata": {},
     "output_type": "execute_result"
    }
   ],
   "source": [
    "data.tail()"
   ]
  },
  {
   "cell_type": "code",
   "execution_count": 57,
   "id": "30fdd1bc-6982-4b12-b14f-aae90c6093c1",
   "metadata": {},
   "outputs": [
    {
     "data": {
      "text/plain": [
       "11 Aralık 2022    432\n",
       "08 Aralık 2022    378\n",
       "06 Aralık 2022    282\n",
       "07 Aralık 2022    235\n",
       "10 Aralık 2022    192\n",
       "09 Aralık 2022     48\n",
       "Name: ilan_tarihi, dtype: int64"
      ]
     },
     "execution_count": 57,
     "metadata": {},
     "output_type": "execute_result"
    }
   ],
   "source": [
    "data['ilan_tarihi'].value_counts()"
   ]
  },
  {
   "cell_type": "code",
   "execution_count": 58,
   "id": "c740205b-10a7-425d-8d7e-f48bee7b94e2",
   "metadata": {},
   "outputs": [
    {
     "data": {
      "text/plain": [
       "Volkswagen     190\n",
       "Renault        143\n",
       "Peugeot        143\n",
       "Opel           142\n",
       "Citroen        141\n",
       "Honda          141\n",
       "BMW             96\n",
       "Fiat            95\n",
       "Volvo           48\n",
       "Land Rover      48\n",
       "Skoda           48\n",
       "Smart           48\n",
       "Dacia           48\n",
       "Nissan          48\n",
       "New Holland     47\n",
       "Toyota          47\n",
       "Hyundai         47\n",
       "Audi            47\n",
       "Name: marka, dtype: int64"
      ]
     },
     "execution_count": 58,
     "metadata": {},
     "output_type": "execute_result"
    }
   ],
   "source": [
    "data['marka'].value_counts()"
   ]
  },
  {
   "cell_type": "code",
   "execution_count": 61,
   "id": "7203457b-34cc-4304-8486-bd6b1aeaab4c",
   "metadata": {},
   "outputs": [
    {
     "data": {
      "text/plain": [
       "2016                      191\n",
       "2017                      189\n",
       "2007                      142\n",
       "2015                      141\n",
       "2011                       96\n",
       "2020                       95\n",
       "2021                       95\n",
       "2012                       95\n",
       "2006                       48\n",
       "2014                       48\n",
       "2009                       48\n",
       "2000                       48\n",
       "2005                       48\n",
       "2004                       48\n",
       "Scooter / Maxi Scooter     47\n",
       "2003                       47\n",
       "110 hp                     47\n",
       "2013                       47\n",
       "2019                       47\n",
       "Name: yil, dtype: int64"
      ]
     },
     "execution_count": 61,
     "metadata": {},
     "output_type": "execute_result"
    }
   ],
   "source": [
    "data['yil'].value_counts()"
   ]
  },
  {
   "cell_type": "code",
   "execution_count": 82,
   "id": "9af56d6a-ff5e-40b3-aaf7-6fbab7ed2c20",
   "metadata": {},
   "outputs": [
    {
     "name": "stdout",
     "output_type": "stream",
     "text": [
      "16\n",
      "49\n",
      "82\n",
      "115\n",
      "148\n",
      "181\n",
      "214\n",
      "247\n",
      "280\n",
      "313\n",
      "346\n",
      "379\n",
      "412\n",
      "445\n",
      "478\n",
      "511\n",
      "544\n",
      "577\n",
      "610\n",
      "643\n",
      "676\n",
      "709\n",
      "742\n",
      "775\n",
      "808\n",
      "841\n",
      "874\n",
      "907\n",
      "940\n",
      "973\n",
      "1006\n",
      "1039\n",
      "1072\n",
      "1105\n",
      "1138\n",
      "1171\n",
      "1204\n",
      "1237\n",
      "1270\n",
      "1303\n",
      "1336\n",
      "1369\n",
      "1402\n",
      "1435\n",
      "1468\n",
      "1501\n",
      "1534\n"
     ]
    }
   ],
   "source": [
    "for x in data.index:\n",
    "  if data.loc[x, \"yil\"] == 'Scooter / Maxi Scooter':\n",
    "    print(x)\n",
    "    data.drop(x, inplace = True) "
   ]
  },
  {
   "cell_type": "code",
   "execution_count": 109,
   "id": "78340897-f8ca-4432-bc07-db00ed28d819",
   "metadata": {},
   "outputs": [
    {
     "data": {
      "text/plain": [
       "2016-01-01    191\n",
       "2017-01-01    142\n",
       "2015-01-01    141\n",
       "2011-01-01     96\n",
       "2020-01-01     95\n",
       "2007-01-01     95\n",
       "2021-01-01     95\n",
       "2012-01-01     95\n",
       "2006-01-01     48\n",
       "2009-01-01     48\n",
       "2014-01-01     48\n",
       "2000-01-01     48\n",
       "2005-01-01     48\n",
       "2004-01-01     48\n",
       "2003-01-01     47\n",
       "2013-01-01     47\n",
       "2019-01-01     47\n",
       "Name: yil, dtype: int64"
      ]
     },
     "execution_count": 109,
     "metadata": {},
     "output_type": "execute_result"
    }
   ],
   "source": [
    "data['yil'].value_counts()"
   ]
  },
  {
   "cell_type": "code",
   "execution_count": 108,
   "id": "73c15849-10b3-4138-a457-8f26698c73cf",
   "metadata": {},
   "outputs": [],
   "source": [
    "data['yil'] =  pd.to_datetime(data['yil'])"
   ]
  },
  {
   "cell_type": "code",
   "execution_count": 91,
   "id": "1664daf7-f0af-4d2e-b591-cbab7bea6e23",
   "metadata": {},
   "outputs": [
    {
     "data": {
      "text/plain": [
       "Otomatik         618\n",
       "Düz              570\n",
       "Yarı Otomatik    285\n",
       "Name: vites_tipi, dtype: int64"
      ]
     },
     "execution_count": 91,
     "metadata": {},
     "output_type": "execute_result"
    }
   ],
   "source": [
    "data['vites_tipi'].value_counts()"
   ]
  },
  {
   "cell_type": "code",
   "execution_count": 92,
   "id": "f1f98b1f-ecbe-4486-b488-e0cd30991b04",
   "metadata": {},
   "outputs": [],
   "source": [
    "for x in data.index:\n",
    "  if data.loc[x, \"vites_tipi\"] == '4x4':\n",
    "    print(x)\n",
    "    data.drop(x, inplace = True) "
   ]
  },
  {
   "cell_type": "code",
   "execution_count": 93,
   "id": "6b8e4a98-5a1a-4778-9b20-ec66c47a039d",
   "metadata": {},
   "outputs": [
    {
     "data": {
      "text/plain": [
       "Dizel           617\n",
       "Benzin          571\n",
       "LPG & Benzin    238\n",
       "Hibrit           47\n",
       "Name: yakit_tipi, dtype: int64"
      ]
     },
     "execution_count": 93,
     "metadata": {},
     "output_type": "execute_result"
    }
   ],
   "source": [
    "data['yakit_tipi'].value_counts()"
   ]
  },
  {
   "cell_type": "code",
   "execution_count": 94,
   "id": "a7ed5bda-22dc-445e-b510-b31d2e88985b",
   "metadata": {},
   "outputs": [
    {
     "data": {
      "text/plain": [
       "Sedan          569\n",
       "Hatchback/5    333\n",
       "Crossover      143\n",
       "SUV            143\n",
       "MPV             95\n",
       "Camlı Van       94\n",
       "Hard top        48\n",
       "Hatchback/3     48\n",
       "Name: kasa_tipi, dtype: int64"
      ]
     },
     "execution_count": 94,
     "metadata": {},
     "output_type": "execute_result"
    }
   ],
   "source": [
    "data['kasa_tipi'].value_counts()"
   ]
  },
  {
   "cell_type": "code",
   "execution_count": 95,
   "id": "892b2f84-2ac4-4807-b77d-e979434543e8",
   "metadata": {},
   "outputs": [
    {
     "data": {
      "text/plain": [
       "1598 cc            333\n",
       "1560 cc            142\n",
       "1368 cc             95\n",
       "1390 cc             95\n",
       "1498 cc             95\n",
       "1597 cc             94\n",
       "-                   94\n",
       "1364 cc             48\n",
       "1493 cc             48\n",
       "898 cc              48\n",
       "1499 cc             48\n",
       "1461 cc             48\n",
       "2488 cc             48\n",
       "4553 cc             48\n",
       "1801 - 2000 cm3     48\n",
       "1149 cc             47\n",
       "1199 cc             47\n",
       "1329 cc             47\n",
       "Name: motor_hacmi, dtype: int64"
      ]
     },
     "execution_count": 95,
     "metadata": {},
     "output_type": "execute_result"
    }
   ],
   "source": [
    "data['motor_hacmi'].value_counts()"
   ]
  },
  {
   "cell_type": "code",
   "execution_count": 97,
   "id": "86cdf9cb-88fd-42db-943a-a284a0525148",
   "metadata": {},
   "outputs": [
    {
     "data": {
      "text/plain": [
       "122 hp          143\n",
       "136 hp          143\n",
       "95 hp            96\n",
       "90 hp            96\n",
       "100 hp           95\n",
       "120 hp           95\n",
       "4+1              94\n",
       "75 hp            94\n",
       "126 - 150 HP     48\n",
       "225 hp           48\n",
       "98 hp            48\n",
       "152 hp           48\n",
       "133 hp           48\n",
       "105 hp           48\n",
       "125 hp           47\n",
       "99 hp            47\n",
       "140 hp           47\n",
       "180 hp           47\n",
       "93 hp            47\n",
       "160 hp           47\n",
       "150 hp           47\n",
       "Name: motor_gucu, dtype: int64"
      ]
     },
     "execution_count": 97,
     "metadata": {},
     "output_type": "execute_result"
    }
   ],
   "source": [
    "data['motor_gucu'].value_counts()"
   ]
  },
  {
   "cell_type": "code",
   "execution_count": 98,
   "id": "9df6ccda-d62f-4efe-b1e9-d17a0d2053f2",
   "metadata": {},
   "outputs": [
    {
     "name": "stdout",
     "output_type": "stream",
     "text": [
      "28\n",
      "30\n",
      "61\n",
      "63\n",
      "94\n",
      "96\n",
      "127\n",
      "129\n",
      "160\n",
      "162\n",
      "193\n",
      "195\n",
      "226\n",
      "228\n",
      "259\n",
      "261\n",
      "292\n",
      "294\n",
      "325\n",
      "327\n",
      "358\n",
      "360\n",
      "391\n",
      "393\n",
      "424\n",
      "426\n",
      "457\n",
      "459\n",
      "490\n",
      "492\n",
      "523\n",
      "525\n",
      "556\n",
      "558\n",
      "589\n",
      "591\n",
      "622\n",
      "624\n",
      "655\n",
      "657\n",
      "688\n",
      "690\n",
      "721\n",
      "723\n",
      "754\n",
      "756\n",
      "787\n",
      "789\n",
      "820\n",
      "822\n",
      "853\n",
      "855\n",
      "886\n",
      "888\n",
      "919\n",
      "921\n",
      "952\n",
      "954\n",
      "985\n",
      "987\n",
      "1018\n",
      "1020\n",
      "1051\n",
      "1053\n",
      "1084\n",
      "1086\n",
      "1117\n",
      "1119\n",
      "1150\n",
      "1152\n",
      "1183\n",
      "1185\n",
      "1216\n",
      "1218\n",
      "1249\n",
      "1251\n",
      "1282\n",
      "1284\n",
      "1315\n",
      "1317\n",
      "1348\n",
      "1350\n",
      "1381\n",
      "1383\n",
      "1414\n",
      "1416\n",
      "1447\n",
      "1449\n",
      "1480\n",
      "1482\n",
      "1513\n",
      "1515\n",
      "1546\n",
      "1548\n"
     ]
    }
   ],
   "source": [
    "for x in data.index:\n",
    "  if data.loc[x, \"motor_gucu\"] == '4+1':\n",
    "    print(x)\n",
    "    data.drop(x, inplace = True) "
   ]
  },
  {
   "cell_type": "code",
   "execution_count": 99,
   "id": "c66fa062-f4a3-4a26-b0f6-7c0f002b4d0e",
   "metadata": {},
   "outputs": [
    {
     "data": {
      "text/plain": [
       "136 hp          143\n",
       "122 hp          143\n",
       "95 hp            96\n",
       "90 hp            96\n",
       "100 hp           95\n",
       "120 hp           95\n",
       "75 hp            94\n",
       "98 hp            48\n",
       "126 - 150 HP     48\n",
       "225 hp           48\n",
       "152 hp           48\n",
       "133 hp           48\n",
       "105 hp           48\n",
       "125 hp           47\n",
       "99 hp            47\n",
       "140 hp           47\n",
       "180 hp           47\n",
       "93 hp            47\n",
       "160 hp           47\n",
       "150 hp           47\n",
       "Name: motor_gucu, dtype: int64"
      ]
     },
     "execution_count": 99,
     "metadata": {},
     "output_type": "execute_result"
    }
   ],
   "source": [
    "data['motor_gucu'].value_counts()"
   ]
  },
  {
   "cell_type": "code",
   "execution_count": 100,
   "id": "94d75a87-f5b8-46ae-9293-487e59df0ad8",
   "metadata": {},
   "outputs": [
    {
     "data": {
      "text/plain": [
       "<AxesSubplot:xlabel='fiyat', ylabel='marka'>"
      ]
     },
     "execution_count": 100,
     "metadata": {},
     "output_type": "execute_result"
    },
    {
     "data": {
      "image/png": "[encoded data removed]",
      "text/plain": [
       "<Figure size 640x480 with 1 Axes>"
      ]
     },
     "metadata": {},
     "output_type": "display_data"
    }
   ],
   "source": [
    "import seaborn as sns\n",
    "sns.set_style('whitegrid')\n",
    "sns.scatterplot()\n",
    "data.plot.scatter(x='fiyat', y='marka')"
   ]
  },
  {
   "cell_type": "code",
   "execution_count": 68,
   "id": "8020d741-7689-4faf-83d9-fb6493ce5ab8",
   "metadata": {},
   "outputs": [
    {
     "data": {
      "text/plain": [
       "'945.000 TL'"
      ]
     },
     "execution_count": 68,
     "metadata": {},
     "output_type": "execute_result"
    }
   ],
   "source": [
    "data['fiyat'].max()"
   ]
  },
  {
   "cell_type": "code",
   "execution_count": 69,
   "id": "e1a250de-1245-4379-b127-8fca4613c2f5",
   "metadata": {},
   "outputs": [
    {
     "data": {
      "text/plain": [
       "<AxesSubplot:xlabel='yakit_tipi', ylabel='motor_hacmi'>"
      ]
     },
     "execution_count": 69,
     "metadata": {},
     "output_type": "execute_result"
    },
    {
     "data": {
      "image/png": "[encoded data removed]",
      "text/plain": [
       "<Figure size 640x480 with 1 Axes>"
      ]
     },
     "metadata": {},
     "output_type": "display_data"
    }
   ],
   "source": [
    "sns.scatterplot(x='yakit_tipi', y='motor_hacmi', hue='marka', data=data)"
   ]
  },
  {
   "cell_type": "code",
   "execution_count": 110,
   "id": "fdc9959d-65ef-430c-8794-3f89f21123ab",
   "metadata": {},
   "outputs": [
    {
     "data": {
      "text/plain": [
       "<AxesSubplot:xlabel='yil', ylabel='Density'>"
      ]
     },
     "execution_count": 110,
     "metadata": {},
     "output_type": "execute_result"
    },
    {
     "data": {
      "image/png": "[encoded data removed]",
      "text/plain": [
       "<Figure size 640x480 with 1 Axes>"
      ]
     },
     "metadata": {},
     "output_type": "display_data"
    }
   ],
   "source": [
    "sns.kdeplot(data=data, x=\"yil\")"
   ]
  },
  {
   "cell_type": "raw",
   "id": "1b8dff26-4425-4f4e-a037-0ecdd004ae72",
   "metadata": {},
   "source": []
  }
 ],
 "metadata": {
  "kernelspec": {
   "display_name": "Python 3 (ipykernel)",
   "language": "python",
   "name": "python3"
  },
  "language_info": {
   "codemirror_mode": {
    "name": "ipython",
    "version": 3
   },
   "file_extension": ".py",
   "mimetype": "text/x-python",
   "name": "python",
   "nbconvert_exporter": "python",
   "pygments_lexer": "ipython3",
   "version": "3.10.8"
  }
 },
 "nbformat": 4,
 "nbformat_minor": 5
}
