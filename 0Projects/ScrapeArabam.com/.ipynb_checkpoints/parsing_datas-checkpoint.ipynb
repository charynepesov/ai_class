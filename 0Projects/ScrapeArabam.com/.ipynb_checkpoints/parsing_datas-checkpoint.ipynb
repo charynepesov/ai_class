{
 "cells": [
  {
   "cell_type": "markdown",
   "id": "27f3bf23-8008-438c-a691-557129f73cb2",
   "metadata": {},
   "source": [
    "# arabam.com dan arabalarin parsing i"
   ]
  },
  {
   "cell_type": "code",
   "execution_count": null,
   "id": "fcbbcf6b-916c-439e-a163-a983a17c958d",
   "metadata": {},
   "outputs": [],
   "source": [
    "import requests\n",
    "import re\n",
    "from bs4 import BeautifulSoup"
   ]
  },
  {
   "cell_type": "code",
   "execution_count": null,
   "id": "36df3625-9961-4e47-9d9c-d5b097004b42",
   "metadata": {},
   "outputs": [],
   "source": [
    "# ilan basligi-url\n",
    "arabalar = []\n",
    "#  Diğer traktör vb araç tiplerini almıyoruz ve her sayfada 50 araç göstersin istiyoruz. 02.12.2022 tarihinde 71.611 araç var. \n",
    "url = 'https://www.arabam.com/ikinci-el/otomobil?take=50'\n",
    "r = requests.get(url)"
   ]
  },
  {
   "cell_type": "code",
   "execution_count": null,
   "id": "b64ba23a-689b-408c-9bff-a26cc3dfdc76",
   "metadata": {},
   "outputs": [],
   "source": [
    "# arabam.com bizi blokluyor\n",
    "r.status_code"
   ]
  },
  {
   "cell_type": "code",
   "execution_count": null,
   "id": "2c2f0516-148f-4530-8193-900415ea9fb4",
   "metadata": {},
   "outputs": [],
   "source": [
    "# Tarayicimizin user agent ini veriyoruz\n",
    "headers = {\"User-Agent\" : \"Mozilla/5.0 (X11; Linux x86_64; rv:107.0) Gecko/20100101 Firefox/107.0\"}"
   ]
  },
  {
   "cell_type": "code",
   "execution_count": null,
   "id": "5ff190f4-14eb-49d2-86b4-90f34b5cdcf3",
   "metadata": {},
   "outputs": [],
   "source": [
    "r = requests.get(url, headers=headers)"
   ]
  },
  {
   "cell_type": "code",
   "execution_count": null,
   "id": "81484148-e67b-400d-ba27-1758f58f6a1d",
   "metadata": {},
   "outputs": [],
   "source": [
    "r.request.headers"
   ]
  },
  {
   "cell_type": "code",
   "execution_count": null,
   "id": "e650c35e-fad0-4343-adbd-6763608abb3b",
   "metadata": {},
   "outputs": [],
   "source": [
    "# Bu sefer http 200 kod numarasi dondu\n",
    "r.status_code"
   ]
  },
  {
   "cell_type": "code",
   "execution_count": null,
   "id": "8e6b26ec-8c40-4c65-83b6-4020458dcc99",
   "metadata": {},
   "outputs": [],
   "source": [
    "html_contents = r.text"
   ]
  },
  {
   "cell_type": "code",
   "execution_count": null,
   "id": "bd070f8c-288c-44e1-931c-30550c415a84",
   "metadata": {},
   "outputs": [],
   "source": [
    "html_soup = BeautifulSoup(html_contents, \"html.parser\")"
   ]
  },
  {
   "cell_type": "code",
   "execution_count": 1,
   "id": "d4471f36-4a5f-4506-9308-9fd265ebe326",
   "metadata": {},
   "outputs": [],
   "source": [
    "import csv\n",
    "def writeRowToCsv(dataRow):\n",
    "    with open('arabalar_data', 'w') as file:\n",
    "        writer = csv.writer(file)\n",
    "        writer.writerow(dataRow)\n"
   ]
  },
  {
   "cell_type": "code",
   "execution_count": null,
   "id": "05506ad8-c94e-42c1-8c67-c5213a37751e",
   "metadata": {},
   "outputs": [],
   "source": [
    "import requests\n",
    "from bs4 import BeautifulSoup\n",
    "\n",
    "\n",
    "\n",
    "\n",
    "    \n",
    "def getData():\n",
    "    sayfalar = []\n",
    "    url = 'https://www.arabam.com/ikinci-el/otomobil?take='\n",
    "    sayfa_nolar = range(1, 50)\n",
    "    for sayfa_no in sayfa_nolar:\n",
    "        url + sayfa_no\n",
    "        r = requests.get(url, headers=headers)\n",
    "        sayfalar.append(r.text)\n",
    "    return sayfalar\n",
    "\n",
    "\n",
    "def parseData(sayfalar):\n",
    "    arabalar = []\n",
    "    for sayfa in sayfalar:\n",
    "        html_soup = BeautifulSoup(sayfa, 'html.parser')\n",
    "        table_rows = table_body.find_all('tr', {'class': 'listing-list-item pr should-hover bg-white'})\n",
    "        for row in table_rows:\n",
    "            html_td = row.find('td', {'class': 'pr'})\n",
    "            link = html_td.div.a[href]\n",
    "            model = html_td.next_sibling.h3.div.string\n",
    "            advert_string = html_td.next_sibling\n",
    "            \n",
    "            year = html_td.div.a.string\n",
    "            price = html_td.next_sibling.div.a.string\n",
    "        "
   ]
  },
  {
   "cell_type": "code",
   "execution_count": null,
   "id": "ef1c0b24-57cd-4678-837a-3e8345117f07",
   "metadata": {},
   "outputs": [],
   "source": []
  },
  {
   "cell_type": "code",
   "execution_count": null,
   "id": "f42e2fc0-e4cd-42e1-953b-0c27f6fce642",
   "metadata": {},
   "outputs": [],
   "source": [
    "import requests\n",
    "from bs4 import BeautifulSoup\n",
    "\n",
    "\n",
    "# URL\n",
    "url = 'https://www.arabam.com/ikinci-el/otomobil?take=50'\n",
    "header = \"Mozilla/5.0 (X11; Linux x86_64) AppleWebKit/537.36 (KHTML, like Gecko) Chrome/108.0.0.0 Safari/537.36\"\n",
    "\n",
    "def getdata(url):\n",
    "    # Tarayicimizin user agent ini veriyoruz                                 \n",
    "    headers = {\"User-Agent\" : \"Mozilla/5.0 (X11; Linux x86_64; rv:107.0) Gecko/20100101 Firefox/107.0\"}\n",
    "    r = requests.get(url, headers=headers)\n",
    "    soup = BeautifulSoup(r.text, 'html.parser')\n",
    "    return soup\n",
    "\n",
    "def getNextPage(soup):\n",
    "    page = soup.find('ul', {'class': 'pagination'})\n",
    "    if not page.find('li', {'class': 'disabled-arrow'}):\n",
    "        url = 'https://www.arabam.com/' + str(page.find('li', {'class': 'arrowed'}).find('a')['href'])\n",
    "        return url\n",
    "    else:\n",
    "        return\n",
    "\n",
    "while True:\n",
    "    soup1 = getdata(url)\n",
    "    url = 'https://www.arabam.com/ikinci-el/otomobil?take=50&page=2'\n",
    "    soup2 = getdata(url)\n",
    "    url = getNextPage(soup2)\n",
    "    if not url:\n",
    "        break\n",
    "    print(url)"
   ]
  }
 ],
 "metadata": {
  "kernelspec": {
   "display_name": "Python 3 (ipykernel)",
   "language": "python",
   "name": "python3"
  },
  "language_info": {
   "codemirror_mode": {
    "name": "ipython",
    "version": 3
   },
   "file_extension": ".py",
   "mimetype": "text/x-python",
   "name": "python",
   "nbconvert_exporter": "python",
   "pygments_lexer": "ipython3",
   "version": "3.10.6"
  },
  "vscode": {
   "interpreter": {
    "hash": "916dbcbb3f70747c44a77c7bcd40155683ae19c65e1c03b4aa3499c5328201f1"
   }
  }
 },
 "nbformat": 4,
 "nbformat_minor": 5
}
