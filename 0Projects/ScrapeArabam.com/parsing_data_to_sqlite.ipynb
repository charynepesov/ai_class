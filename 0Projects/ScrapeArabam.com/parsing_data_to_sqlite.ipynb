{
 "cells": [
  {
   "cell_type": "code",
   "execution_count": 1,
   "metadata": {},
   "outputs": [],
   "source": [
    "import sqlite3\n",
    "import requests\n",
    "from bs4 import BeautifulSoup"
   ]
  },
  {
   "cell_type": "code",
   "execution_count": null,
   "metadata": {},
   "outputs": [],
   "source": [
    "def connToSql():\n",
    "  try:\n",
    "    conn = sqlite3.connect('cars_data.db')\n",
    "    query_create_table = '''CREATE TABLE car_datas (\n",
    "      id INTEGER PRIMARY KEY,\n",
    "      \n",
    "    );'''\n",
    "\n",
    "  except sqlite3.Error as error:\n",
    "    print(\"Error while connecting to sqlite.\")\n",
    "  finally:\n",
    "    if conn:\n",
    "      conn.close()\n",
    "      print(\"The sqlite connection is closed.\")"
   ]
  }
 ],
 "metadata": {
  "kernelspec": {
   "display_name": "yapay-zeka",
   "language": "python",
   "name": "python3"
  },
  "language_info": {
   "codemirror_mode": {
    "name": "ipython",
    "version": 3
   },
   "file_extension": ".py",
   "mimetype": "text/x-python",
   "name": "python",
   "nbconvert_exporter": "python",
   "pygments_lexer": "ipython3",
   "version": "3.10.8 (main, Nov  4 2022, 13:48:29) [GCC 11.2.0]"
  },
  "orig_nbformat": 4,
  "vscode": {
   "interpreter": {
    "hash": "d1871dbc0a54184609f52005a3f44b101182f46a941a665b7bed06840299de31"
   }
  }
 },
 "nbformat": 4,
 "nbformat_minor": 2
}
