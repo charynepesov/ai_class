{
 "cells": [
  {
   "cell_type": "code",
   "execution_count": 4,
   "id": "88758609-910a-44cb-9ac1-3a95b3d64870",
   "metadata": {},
   "outputs": [
    {
     "name": "stdin",
     "output_type": "stream",
     "text": [
      "Bugün dahil geriye doğru kaç günlük resmi gazete sayfasını scraping yapmak istiyorsunuz? Lütfen gün sayısı giriniz: 2\n"
     ]
    },
    {
     "name": "stdout",
     "output_type": "stream",
     "text": [
      "Sayfa başarıyla yüklendi\n",
      "Bir sonraki link: https://www.resmigazete.gov.tr/31.12.2022\n",
      "Sayfa başarıyla yüklendi\n",
      "Bir sonraki link: https://www.resmigazete.gov.tr/30.12.2022\n",
      "<class 'KeyError'>\n"
     ]
    }
   ],
   "source": [
    "import requests\n",
    "import re\n",
    "from bs4 import BeautifulSoup\n",
    "import csv\n",
    "\n",
    "# Tarayicimizin user agent ini veriyoruz\n",
    "headers = {\"User-Agent\" : \"Mozilla/5.0 (X11; Linux x86_64; rv:107.0) Gecko/20100101 Firefox/107.0\"}\n",
    "url = 'https://www.resmigazete.gov.tr'\n",
    "csvfile = open('resmigazete.csv', 'w', newline='', encoding='utf-8')\n",
    "csvwriter = csv.writer(csvfile)\n",
    "\n",
    "kac_gun = input(\"Bugün dahil geriye doğru kaç günlük resmi gazete sayfasını scraping yapmak istiyorsunuz? Lütfen gün sayısı giriniz:\")\n",
    "i = 1\n",
    "while i <= int(kac_gun):\n",
    "    i += 1\n",
    "    r = requests.get(url, headers=headers)\n",
    "    if r.status_code == 200:\n",
    "        print(\"Sayfa başarıyla yüklendi\")\n",
    "        html = r.text\n",
    "        soup = BeautifulSoup(html, 'html.parser')\n",
    "        html_content = soup.find('div', class_='html-content')\n",
    "        url = 'https://www.resmigazete.gov.tr' + soup.find(id='oncekiSonraki').a['href']\n",
    "        print(\"Bir sonraki link: \" + url)\n",
    "        \n",
    "        #DEGISKENLER#        \n",
    "        baslik = \"YOK\"\n",
    "        altbaslik = \"YOK\"\n",
    "        fihrist = \"YOK\"\n",
    "        fihrist_link = \"YOK\"\n",
    "        \n",
    "        #SAYFA ICINDEKI DIVLERI KONTROL EDIYORUZ VE VERILERI CEKIYORUZ#\n",
    "        tag = html_content.div\n",
    "        while True:\n",
    "            try:\n",
    "                if tag == \"\\n\" or type(tag) == \"str\":\n",
    "                    #BUTUN DIVLER BITTI\n",
    "                    break\n",
    "                elif tag['class'][0] == \"card-title\":\n",
    "                    baslik = tag.string\n",
    "                    #print(baslik)\n",
    "                    tag = tag.next_sibling\n",
    "                elif tag['class'][0] == \"html-subtitle\":\n",
    "                    altbaslik = tag.string\n",
    "                    #print(altbaslik)\n",
    "                    tag = tag.next_sibling\n",
    "                elif tag['class'][0] == \"fihrist-item\":\n",
    "                    fihrist = tag.string\n",
    "                    if tag.a:\n",
    "                        fihrist_link = tag.a['href']\n",
    "                    #print(baslik+\" \"+altbaslik+\" \"+fihrist+\" \"+fihrist_link)\n",
    "                    fihrist_bilgileri = [baslik, altbaslik, fihrist, fihrist_link]\n",
    "                    csvwriter.writerow(fihrist_bilgileri)\n",
    "                    tag = tag.next_sibling\n",
    "                elif tag.name == \"hr\":\n",
    "                    #HR DAN SONRA DIV GELEBILIR\n",
    "                    print(tag.name)\n",
    "                    tag = tag.next_sibling\n",
    "                else:\n",
    "                    #BILINMEYEN BIR DIV OLURSA\n",
    "                    print(tag)\n",
    "                    break\n",
    "            except KeyError:\n",
    "                print(KeyError)\n",
    "                break\n",
    "    else:\n",
    "        print(\"Sayfa yüklenemedi\")\n",
    "        break\n",
    "csvfile.close()"
   ]
  }
 ],
 "metadata": {
  "kernelspec": {
   "display_name": "Python 3 (ipykernel)",
   "language": "python",
   "name": "python3"
  },
  "language_info": {
   "codemirror_mode": {
    "name": "ipython",
    "version": 3
   },
   "file_extension": ".py",
   "mimetype": "text/x-python",
   "name": "python",
   "nbconvert_exporter": "python",
   "pygments_lexer": "ipython3",
   "version": "3.10.6"
  }
 },
 "nbformat": 4,
 "nbformat_minor": 5
}
