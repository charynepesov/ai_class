{
 "cells": [
  {
   "cell_type": "code",
   "execution_count": 85,
   "id": "fc006456-9a3d-41be-8c77-074394c35070",
   "metadata": {},
   "outputs": [],
   "source": [
    "import requests\n",
    "import re\n",
    "from bs4 import BeautifulSoup\n",
    "import csv"
   ]
  },
  {
   "cell_type": "code",
   "execution_count": 86,
   "id": "21734e33-ef0d-4431-b44b-293b1763eefb",
   "metadata": {},
   "outputs": [],
   "source": [
    "# Gerekli fonksiyonlari burada tanimladik\n",
    "\n",
    "# For writing only one data(must be a tuple) at a time \n",
    "def writeRowToCsv(fileName, dataOnTuple):\n",
    "  f = open(fileName, \"a\", newline=\"\")\n",
    "  writer = csv.writer(f)\n",
    "  writer.writerow(dataOnTuple)\n",
    "  f.close\n",
    "\n",
    "# For writing datas(must be a tuple)\n",
    "def writeRowsToCsv(fileName, datasOnTuple):\n",
    "  with open(fileName, 'a', newline='') as f:\n",
    "    writer = csv.writer(f)\n",
    "    writer.writerows(datasOnTuple)\n"
   ]
  },
  {
   "cell_type": "code",
   "execution_count": 91,
   "id": "2443c0fa-bbfa-4ee3-9c73-5b9f020f124c",
   "metadata": {},
   "outputs": [
    {
     "data": {
      "text/plain": [
       "200"
      ]
     },
     "execution_count": 91,
     "metadata": {},
     "output_type": "execute_result"
    }
   ],
   "source": [
    "url = 'https://www.resmigazete.gov.tr/31.12.2022'\n",
    "\n",
    "# Tarayicimizin user agent ini veriyoruz\n",
    "headers = {\"User-Agent\" : \"Mozilla/5.0 (X11; Linux x86_64; rv:107.0) Gecko/20100101 Firefox/107.0\"}\n",
    "r = requests.get(url, headers=headers)\n",
    "r.status_code"
   ]
  },
  {
   "cell_type": "code",
   "execution_count": 92,
   "id": "5200547d-2a40-4e14-9b7f-e51912ff0fd4",
   "metadata": {},
   "outputs": [],
   "source": [
    "html = r.text\n",
    "soup = BeautifulSoup(html, 'html.parser')"
   ]
  },
  {
   "cell_type": "code",
   "execution_count": 93,
   "id": "7a17d410-bb2a-4a6a-a471-1542a01e5ba7",
   "metadata": {},
   "outputs": [
    {
     "name": "stdout",
     "output_type": "stream",
     "text": [
      "<class 'bs4.element.Tag'>\n"
     ]
    },
    {
     "data": {
      "text/plain": [
       "'https://www.resmigazete.gov.tr/30.12.2022'"
      ]
     },
     "execution_count": 93,
     "metadata": {},
     "output_type": "execute_result"
    }
   ],
   "source": [
    "html_content = soup.find('div', class_='html-content')\n",
    "#print(html_content)\n",
    "print(type(html_content))\n",
    "bir_onceki_link = soup.find(id='oncekiSonraki').a['href']\n",
    "bir_onceki_link = 'https://www.resmigazete.gov.tr' + bir_onceki_link\n",
    "bir_onceki_link"
   ]
  },
  {
   "cell_type": "code",
   "execution_count": 94,
   "id": "03c7fa2f-3ab2-497b-9a21-94fb2790bd45",
   "metadata": {},
   "outputs": [
    {
     "data": {
      "text/plain": [
       "<div class=\"html-content\" id=\"html-content\">\n",
       "<div class=\"card-title html-title\" tabindex=\"0\"> YÜRÜTME VE İDARE BÖLÜMÜ </div><div class=\"html-subtitle\" tabindex=\"0\"> ATAMA KARARLARI </div><div class=\"fihrist-item mb-1\"><a data-modal=\"True\" href=\"https://www.resmigazete.gov.tr/eskiler/2022/12/20221231-12.pdf\">–– Cumhurbaşkanlığı Tarafından Yapılan Atamalar Hakkında Kararlar (Karar: 2022/695, 696, 697, 698, 699)</a></div><div class=\"html-subtitle\" tabindex=\"0\"> YÖNETMELİKLER </div><div class=\"fihrist-item mb-1\"><a data-modal=\"True\" href=\"https://www.resmigazete.gov.tr/eskiler/2022/12/20221231-1.pdf\">–– Ereğli Kömür Havzası Amelebirliği Biriktirme ve Yardımlaşma Sandığı Yönetmeliğinde Değişiklik Yapılmasına Dair Yönetmelik (Karar Sayısı: 6624)</a></div><div class=\"fihrist-item mb-1\"><a data-modal=\"True\" href=\"https://www.resmigazete.gov.tr/eskiler/2022/12/20221231-2.htm\">–– Planlı Alanlar İmar Yönetmeliğinde Değişiklik Yapılmasına Dair Yönetmelik</a></div><div class=\"fihrist-item mb-1\"><a data-modal=\"True\" href=\"https://www.resmigazete.gov.tr/eskiler/2022/12/20221231-3.htm\">–– İki veya Üç Tekerlekli Motorlu Araçların ve Dört Tekerlekli Motosikletlerin Tip Onayı ve Piyasa Gözetimi ve Denetimi Hakkında Yönetmelik (AB/168/2013)’te Değişiklik Yapılmasına Dair Yönetmelik</a></div><div class=\"html-subtitle\" tabindex=\"0\"> TEBLİĞLER </div><div class=\"fihrist-item mb-1\"><a data-modal=\"True\" href=\"https://www.resmigazete.gov.tr/eskiler/2022/12/20221231-4.htm\">–– Lisanslı Yediemin Depoları Yönetmeliği Ücret Tarifesi</a></div><div class=\"fihrist-item mb-1\"><a data-modal=\"True\" href=\"https://www.resmigazete.gov.tr/eskiler/2022/12/20221231-5.htm\">–– Çevresel Etki Değerlendirmesi Yeterlik Belgesi Tebliği</a></div><div class=\"fihrist-item mb-1\"><a data-modal=\"True\" href=\"https://www.resmigazete.gov.tr/eskiler/2022/12/20221231-6.htm\">–– 5627 Sayılı Enerji Verimliliği Kanununun 10 uncu Maddesine Göre 2023 Yılında Uygulanacak Olan İdari Para Cezalarına İlişkin Tebliğ (Sıra Numarası: 2023/2)</a></div><div class=\"fihrist-item mb-1\"><a data-modal=\"True\" href=\"https://www.resmigazete.gov.tr/eskiler/2022/12/20221231-7.htm\">–– Beşeri Tıbbi Ürünlerin Fiyatlandırılması Hakkında Tebliğde Değişiklik Yapılmasına Dair Tebliğ</a></div><div class=\"fihrist-item mb-1\"><a data-modal=\"True\" href=\"https://www.resmigazete.gov.tr/eskiler/2022/12/20221231-8.pdf\">–– Reeskont ve Avans İşlemlerinde Uygulanacak Faiz Oranlarının Tespiti</a></div><div class=\"fihrist-item mb-1\"><a data-modal=\"True\" href=\"https://www.resmigazete.gov.tr/eskiler/2022/12/20221231-9.htm\">–– 2920 Sayılı Sivil Havacılık Kanunu Uyarınca Verilecek İdari Para Cezalarına İlişkin Tebliğ (2023/1)</a></div><div class=\"fihrist-item mb-1\"><a data-modal=\"True\" href=\"https://www.resmigazete.gov.tr/eskiler/2022/12/20221231-10.htm\">–– Sivil Havacılık Genel Müdürlüğü Tarafından Verilecek İdari Para Cezaları Hakkında Yönetmelikte Yer Alan İdari Para Cezalarının Yeniden Değerlendirilmesine İlişkin Tebliğ (2023/2)</a></div><div class=\"card-title html-title\" tabindex=\"0\"> YARGI BÖLÜMÜ </div><div class=\"html-subtitle\" tabindex=\"0\"> YARGITAY KARARI </div><div class=\"fihrist-item mb-1\"><a data-modal=\"True\" href=\"https://www.resmigazete.gov.tr/eskiler/2022/12/20221231-11.pdf\">–– Yargıtay 9. Hukuk Dairesine Ait Karar</a></div><div class=\"card-title html-title\" tabindex=\"0\"> İLÂN BÖLÜMÜ </div><div class=\"fihrist-item mb-1\"><a data-modal=\"True\" href=\"https://www.resmigazete.gov.tr/ilanlar/eskiilanlar/2022/12/20221231-2.htm\">a - Yargı İlânları</a></div><div class=\"fihrist-item mb-1\"><a data-modal=\"True\" href=\"https://www.resmigazete.gov.tr/ilanlar/eskiilanlar/2022/12/20221231-3.htm\">b - Artırma, Eksiltme ve İhale İlânları</a></div><div class=\"fihrist-item mb-1\"><a data-modal=\"True\" href=\"https://www.resmigazete.gov.tr/ilanlar/eskiilanlar/2022/12/20221231-4.htm\">c - Çeşitli İlânlar</a></div><div class=\"fihrist-item mb-1\"><a data-modal=\"True\" href=\"https://www.resmigazete.gov.tr/ilanlar/eskiilanlar/2022/12/20221231-5.htm\">– T.C. Merkez Bankasınca Belirlenen Döviz Kurları ve Devlet İç Borçlanma Senetlerinin Günlük Değerleri</a></div><hr/><div class=\"fihrist-item mb-1\"><a data-modal=\"True\" href=\"/fihrist?tarih=2022-12-31&amp;mukerrer=1\">31/12/2022 tarihli ve 32060 mükerrer sayılı Resmî Gazete’de, 2023 Yılı Merkezi Yönetim Bütçe Kanunu yayımlanmıştır.</a></div><hr/><hr/><div class=\"fihrist-item mb-1\"><a data-modal=\"True\" href=\"/fihrist?tarih=2022-12-31&amp;mukerrer=2\">31/12/2022 tarihli ve 32060 2. mükerrer sayılı Resmî Gazete’de, 2021 Yılı Merkezi Yönetim Kesin Hesap Kanunu yayımlanmıştır.</a></div><hr/><hr/><div class=\"fihrist-item mb-1\"><a data-modal=\"True\" href=\"/fihrist?tarih=2022-12-31&amp;mukerrer=3\">31/12/2022 tarihli ve 32060 3. mükerrer sayılı Resmî Gazete’de, Cumhurbaşkanı Kararları ile Tebliğler yayımlanmıştır.</a></div><hr/><hr/><div class=\"fihrist-item mb-1\"><a data-modal=\"True\" href=\"/fihrist?tarih=2021-12-31&amp;mukerrer=4\">31/12/2022 tarihli ve 32060 4. mükerrer sayılı Resmî Gazete’de, Ürün Güvenliği ve Denetimi Tebliğleri yayımlanmıştır.</a></div><hr/><hr/><div class=\"fihrist-item mb-1\"><a data-modal=\"True\" href=\"/fihrist?tarih=2022-12-31&amp;mukerrer=5\">31/12/2022 tarihli ve 32060 5. mükerrer sayılı Resmî Gazete’de, Cumhurbaşkanı Kararı, Yönetmelikler ile Tebliğler yayımlanmıştır.</a></div><hr/><hr/>Resmî Gazete'nin kurumsal mobil uygulaması Android ve Apple marketlerde \"T.C. Resmî Gazete\" adıyla yerini almıştır.<hr/>\n",
       "</div>"
      ]
     },
     "execution_count": 94,
     "metadata": {},
     "output_type": "execute_result"
    }
   ],
   "source": [
    "html_content"
   ]
  },
  {
   "cell_type": "code",
   "execution_count": 97,
   "id": "0f2e52e5-27fb-45aa-a543-86490dc03d24",
   "metadata": {},
   "outputs": [
    {
     "data": {
      "text/plain": [
       "'hr'"
      ]
     },
     "execution_count": 97,
     "metadata": {},
     "output_type": "execute_result"
    }
   ],
   "source": [
    "# hr ve bos yazilari silmek lazim yoksa if eslestirmelerde problem oluyor\n",
    "hr = html_content.find('hr')\n",
    "hr.name"
   ]
  },
  {
   "cell_type": "code",
   "execution_count": 98,
   "id": "695ebbb7-3fd0-4114-b0d0-94d30d83cb60",
   "metadata": {},
   "outputs": [
    {
     "data": {
      "text/plain": [
       "str"
      ]
     },
     "execution_count": 98,
     "metadata": {},
     "output_type": "execute_result"
    }
   ],
   "source": [
    "type(\"string\")"
   ]
  },
  {
   "cell_type": "code",
   "execution_count": 83,
   "id": "d14045fb-b0b1-457c-8ade-4f5de027165f",
   "metadata": {},
   "outputs": [],
   "source": [
    "butun_bilgiler = []\n",
    "baslik = \"YOK\"\n",
    "altbaslik = \"YOK\"\n",
    "fihrist = \"YOK\"\n",
    "fihrist_link = \"YOK\"\n",
    "\n",
    "div = html_content.div\n",
    "#print(type(div))\n",
    "while True:\n",
    "    if div == \"\\n\":\n",
    "        break\n",
    "    elif div['class'][0] == \"card-title\":\n",
    "        baslik = div.string\n",
    "        #print(baslik)\n",
    "        div = div.next_sibling\n",
    "    elif div['class'][0] == \"html-subtitle\":\n",
    "        altbaslik = div.string\n",
    "        #print(altbaslik)\n",
    "        div = div.next_sibling\n",
    "    elif div['class'][0] == \"fihrist-item\":\n",
    "        fihrist = div.string\n",
    "        #print(fihrist)\n",
    "        butun_bilgiler.append(baslik)\n",
    "        butun_bilgiler.append(altbaslik)    \n",
    "        butun_bilgiler.append(fihrist)\n",
    "        if div.a:\n",
    "            fihrist_link = div.a['href']\n",
    "            butun_bilgiler.append(fihrist_link)\n",
    "        div = div.next_sibling\n",
    "        \n",
    "    else:\n",
    "        print(div)\n",
    "        break"
   ]
  },
  {
   "cell_type": "code",
   "execution_count": 84,
   "id": "dbfc03d3-fba1-40dc-8857-ac6b05cdbce2",
   "metadata": {},
   "outputs": [],
   "source": [
    "for i in butun_bilgiler:\n",
    "    print(i)"
   ]
  }
 ],
 "metadata": {
  "kernelspec": {
   "display_name": "Python 3 (ipykernel)",
   "language": "python",
   "name": "python3"
  },
  "language_info": {
   "codemirror_mode": {
    "name": "ipython",
    "version": 3
   },
   "file_extension": ".py",
   "mimetype": "text/x-python",
   "name": "python",
   "nbconvert_exporter": "python",
   "pygments_lexer": "ipython3",
   "version": "3.10.6"
  }
 },
 "nbformat": 4,
 "nbformat_minor": 5
}
