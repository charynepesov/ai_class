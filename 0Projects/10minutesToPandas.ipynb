{
 "cells": [
  {
   "cell_type": "code",
   "execution_count": 1,
   "id": "72444f2c-399f-4cd1-9094-15109f013ed9",
   "metadata": {},
   "outputs": [],
   "source": [
    "import numpy as np\n",
    "import pandas as pd"
   ]
  },
  {
   "cell_type": "markdown",
   "id": "03a47b38-5015-4f83-8ed0-22611f18f5ed",
   "metadata": {},
   "source": [
    "## Object creation"
   ]
  },
  {
   "cell_type": "code",
   "execution_count": 2,
   "id": "c7bcc689-6f22-4168-b084-02baae3a9634",
   "metadata": {},
   "outputs": [
    {
     "data": {
      "text/plain": [
       "0    1.0\n",
       "1    2.0\n",
       "2    3.0\n",
       "3    NaN\n",
       "4    6.0\n",
       "5    8.0\n",
       "dtype: float64"
      ]
     },
     "execution_count": 2,
     "metadata": {},
     "output_type": "execute_result"
    }
   ],
   "source": [
    "#Series\n",
    "s = pd.Series([1, 2, 3, np.nan, 6, 8])\n",
    "s"
   ]
  },
  {
   "cell_type": "markdown",
   "id": "a87b33f7-fc05-4c26-bafa-7444b4530b63",
   "metadata": {},
   "source": [
    "### DataFrame from numpy array"
   ]
  },
  {
   "cell_type": "code",
   "execution_count": 3,
   "id": "27c402a8-f4eb-41fb-8bfb-08af02ddff68",
   "metadata": {},
   "outputs": [],
   "source": [
    "dates = pd.date_range('20120830', periods=7)"
   ]
  },
  {
   "cell_type": "code",
   "execution_count": 4,
   "id": "233acc92-c7a2-4fa1-9804-080bf2e7f5ed",
   "metadata": {},
   "outputs": [
    {
     "data": {
      "text/plain": [
       "DatetimeIndex(['2012-08-30', '2012-08-31', '2012-09-01', '2012-09-02',\n",
       "               '2012-09-03', '2012-09-04', '2012-09-05'],\n",
       "              dtype='datetime64[ns]', freq='D')"
      ]
     },
     "execution_count": 4,
     "metadata": {},
     "output_type": "execute_result"
    }
   ],
   "source": [
    "dates"
   ]
  },
  {
   "cell_type": "code",
   "execution_count": 5,
   "id": "62978976-6844-4328-85f5-61ea850cde5a",
   "metadata": {},
   "outputs": [
    {
     "data": {
      "text/html": [
       "<div>\n",
       "<style scoped>\n",
       "    .dataframe tbody tr th:only-of-type {\n",
       "        vertical-align: middle;\n",
       "    }\n",
       "\n",
       "    .dataframe tbody tr th {\n",
       "        vertical-align: top;\n",
       "    }\n",
       "\n",
       "    .dataframe thead th {\n",
       "        text-align: right;\n",
       "    }\n",
       "</style>\n",
       "<table border=\"1\" class=\"dataframe\">\n",
       "  <thead>\n",
       "    <tr style=\"text-align: right;\">\n",
       "      <th></th>\n",
       "      <th>A</th>\n",
       "      <th>B</th>\n",
       "      <th>C</th>\n",
       "      <th>D</th>\n",
       "    </tr>\n",
       "  </thead>\n",
       "  <tbody>\n",
       "    <tr>\n",
       "      <th>2012-08-30</th>\n",
       "      <td>0.244408</td>\n",
       "      <td>-0.215245</td>\n",
       "      <td>0.197102</td>\n",
       "      <td>0.833892</td>\n",
       "    </tr>\n",
       "    <tr>\n",
       "      <th>2012-08-31</th>\n",
       "      <td>-2.271624</td>\n",
       "      <td>-0.427152</td>\n",
       "      <td>1.008710</td>\n",
       "      <td>-0.066478</td>\n",
       "    </tr>\n",
       "    <tr>\n",
       "      <th>2012-09-01</th>\n",
       "      <td>-0.919489</td>\n",
       "      <td>0.477583</td>\n",
       "      <td>0.313800</td>\n",
       "      <td>-0.305103</td>\n",
       "    </tr>\n",
       "    <tr>\n",
       "      <th>2012-09-02</th>\n",
       "      <td>-0.496799</td>\n",
       "      <td>-0.910658</td>\n",
       "      <td>-0.399775</td>\n",
       "      <td>-0.290959</td>\n",
       "    </tr>\n",
       "    <tr>\n",
       "      <th>2012-09-03</th>\n",
       "      <td>-1.831434</td>\n",
       "      <td>-0.339916</td>\n",
       "      <td>-0.104089</td>\n",
       "      <td>1.161046</td>\n",
       "    </tr>\n",
       "    <tr>\n",
       "      <th>2012-09-04</th>\n",
       "      <td>0.420831</td>\n",
       "      <td>2.133300</td>\n",
       "      <td>0.231224</td>\n",
       "      <td>-0.384533</td>\n",
       "    </tr>\n",
       "    <tr>\n",
       "      <th>2012-09-05</th>\n",
       "      <td>0.013250</td>\n",
       "      <td>1.011428</td>\n",
       "      <td>0.556429</td>\n",
       "      <td>-0.696156</td>\n",
       "    </tr>\n",
       "  </tbody>\n",
       "</table>\n",
       "</div>"
      ],
      "text/plain": [
       "                   A         B         C         D\n",
       "2012-08-30  0.244408 -0.215245  0.197102  0.833892\n",
       "2012-08-31 -2.271624 -0.427152  1.008710 -0.066478\n",
       "2012-09-01 -0.919489  0.477583  0.313800 -0.305103\n",
       "2012-09-02 -0.496799 -0.910658 -0.399775 -0.290959\n",
       "2012-09-03 -1.831434 -0.339916 -0.104089  1.161046\n",
       "2012-09-04  0.420831  2.133300  0.231224 -0.384533\n",
       "2012-09-05  0.013250  1.011428  0.556429 -0.696156"
      ]
     },
     "execution_count": 5,
     "metadata": {},
     "output_type": "execute_result"
    }
   ],
   "source": [
    "df = pd.DataFrame(np.random.randn(7, 4), index=dates, columns=list(\"ABCD\"))\n",
    "df"
   ]
  },
  {
   "cell_type": "markdown",
   "id": "e2144721-6928-4f64-9169-fef54e6ee6ed",
   "metadata": {},
   "source": [
    "## Viewing data"
   ]
  },
  {
   "cell_type": "code",
   "execution_count": 6,
   "id": "43e8638d-c0fd-4bc5-8076-748ddbaf8179",
   "metadata": {},
   "outputs": [
    {
     "data": {
      "text/html": [
       "<div>\n",
       "<style scoped>\n",
       "    .dataframe tbody tr th:only-of-type {\n",
       "        vertical-align: middle;\n",
       "    }\n",
       "\n",
       "    .dataframe tbody tr th {\n",
       "        vertical-align: top;\n",
       "    }\n",
       "\n",
       "    .dataframe thead th {\n",
       "        text-align: right;\n",
       "    }\n",
       "</style>\n",
       "<table border=\"1\" class=\"dataframe\">\n",
       "  <thead>\n",
       "    <tr style=\"text-align: right;\">\n",
       "      <th></th>\n",
       "      <th>A</th>\n",
       "      <th>B</th>\n",
       "      <th>C</th>\n",
       "      <th>D</th>\n",
       "    </tr>\n",
       "  </thead>\n",
       "  <tbody>\n",
       "    <tr>\n",
       "      <th>2012-08-30</th>\n",
       "      <td>0.244408</td>\n",
       "      <td>-0.215245</td>\n",
       "      <td>0.197102</td>\n",
       "      <td>0.833892</td>\n",
       "    </tr>\n",
       "    <tr>\n",
       "      <th>2012-08-31</th>\n",
       "      <td>-2.271624</td>\n",
       "      <td>-0.427152</td>\n",
       "      <td>1.008710</td>\n",
       "      <td>-0.066478</td>\n",
       "    </tr>\n",
       "    <tr>\n",
       "      <th>2012-09-01</th>\n",
       "      <td>-0.919489</td>\n",
       "      <td>0.477583</td>\n",
       "      <td>0.313800</td>\n",
       "      <td>-0.305103</td>\n",
       "    </tr>\n",
       "    <tr>\n",
       "      <th>2012-09-02</th>\n",
       "      <td>-0.496799</td>\n",
       "      <td>-0.910658</td>\n",
       "      <td>-0.399775</td>\n",
       "      <td>-0.290959</td>\n",
       "    </tr>\n",
       "    <tr>\n",
       "      <th>2012-09-03</th>\n",
       "      <td>-1.831434</td>\n",
       "      <td>-0.339916</td>\n",
       "      <td>-0.104089</td>\n",
       "      <td>1.161046</td>\n",
       "    </tr>\n",
       "  </tbody>\n",
       "</table>\n",
       "</div>"
      ],
      "text/plain": [
       "                   A         B         C         D\n",
       "2012-08-30  0.244408 -0.215245  0.197102  0.833892\n",
       "2012-08-31 -2.271624 -0.427152  1.008710 -0.066478\n",
       "2012-09-01 -0.919489  0.477583  0.313800 -0.305103\n",
       "2012-09-02 -0.496799 -0.910658 -0.399775 -0.290959\n",
       "2012-09-03 -1.831434 -0.339916 -0.104089  1.161046"
      ]
     },
     "execution_count": 6,
     "metadata": {},
     "output_type": "execute_result"
    }
   ],
   "source": [
    "df.head()"
   ]
  },
  {
   "cell_type": "code",
   "execution_count": 7,
   "id": "987d1c4f-7491-4f9c-b47a-bd4db64e3b22",
   "metadata": {},
   "outputs": [
    {
     "data": {
      "text/html": [
       "<div>\n",
       "<style scoped>\n",
       "    .dataframe tbody tr th:only-of-type {\n",
       "        vertical-align: middle;\n",
       "    }\n",
       "\n",
       "    .dataframe tbody tr th {\n",
       "        vertical-align: top;\n",
       "    }\n",
       "\n",
       "    .dataframe thead th {\n",
       "        text-align: right;\n",
       "    }\n",
       "</style>\n",
       "<table border=\"1\" class=\"dataframe\">\n",
       "  <thead>\n",
       "    <tr style=\"text-align: right;\">\n",
       "      <th></th>\n",
       "      <th>A</th>\n",
       "      <th>B</th>\n",
       "      <th>C</th>\n",
       "      <th>D</th>\n",
       "    </tr>\n",
       "  </thead>\n",
       "  <tbody>\n",
       "    <tr>\n",
       "      <th>2012-09-03</th>\n",
       "      <td>-1.831434</td>\n",
       "      <td>-0.339916</td>\n",
       "      <td>-0.104089</td>\n",
       "      <td>1.161046</td>\n",
       "    </tr>\n",
       "    <tr>\n",
       "      <th>2012-09-04</th>\n",
       "      <td>0.420831</td>\n",
       "      <td>2.133300</td>\n",
       "      <td>0.231224</td>\n",
       "      <td>-0.384533</td>\n",
       "    </tr>\n",
       "    <tr>\n",
       "      <th>2012-09-05</th>\n",
       "      <td>0.013250</td>\n",
       "      <td>1.011428</td>\n",
       "      <td>0.556429</td>\n",
       "      <td>-0.696156</td>\n",
       "    </tr>\n",
       "  </tbody>\n",
       "</table>\n",
       "</div>"
      ],
      "text/plain": [
       "                   A         B         C         D\n",
       "2012-09-03 -1.831434 -0.339916 -0.104089  1.161046\n",
       "2012-09-04  0.420831  2.133300  0.231224 -0.384533\n",
       "2012-09-05  0.013250  1.011428  0.556429 -0.696156"
      ]
     },
     "execution_count": 7,
     "metadata": {},
     "output_type": "execute_result"
    }
   ],
   "source": [
    "df.tail(3)"
   ]
  },
  {
   "cell_type": "code",
   "execution_count": 8,
   "id": "858ce413-a3b9-436e-83c3-766828b50c4e",
   "metadata": {},
   "outputs": [
    {
     "data": {
      "text/plain": [
       "DatetimeIndex(['2012-08-30', '2012-08-31', '2012-09-01', '2012-09-02',\n",
       "               '2012-09-03', '2012-09-04', '2012-09-05'],\n",
       "              dtype='datetime64[ns]', freq='D')"
      ]
     },
     "execution_count": 8,
     "metadata": {},
     "output_type": "execute_result"
    }
   ],
   "source": [
    "df.index"
   ]
  },
  {
   "cell_type": "code",
   "execution_count": 9,
   "id": "2694e4e1-4245-4c68-bf28-69b0e5f69e5e",
   "metadata": {},
   "outputs": [
    {
     "data": {
      "text/plain": [
       "Index(['A', 'B', 'C', 'D'], dtype='object')"
      ]
     },
     "execution_count": 9,
     "metadata": {},
     "output_type": "execute_result"
    }
   ],
   "source": [
    "df.columns"
   ]
  },
  {
   "cell_type": "code",
   "execution_count": 10,
   "id": "c95836fc-ecae-4a0e-9962-0df03caaa985",
   "metadata": {},
   "outputs": [
    {
     "data": {
      "text/plain": [
       "array([[ 0.24440754, -0.21524546,  0.19710176,  0.83389188],\n",
       "       [-2.27162422, -0.42715168,  1.00870988, -0.06647802],\n",
       "       [-0.91948938,  0.47758343,  0.31379995, -0.30510297],\n",
       "       [-0.49679937, -0.91065796, -0.39977525, -0.29095947],\n",
       "       [-1.83143365, -0.33991562, -0.10408949,  1.16104558],\n",
       "       [ 0.4208309 ,  2.13330006,  0.2312238 , -0.38453303],\n",
       "       [ 0.0132501 ,  1.01142789,  0.55642865, -0.696156  ]])"
      ]
     },
     "execution_count": 10,
     "metadata": {},
     "output_type": "execute_result"
    }
   ],
   "source": [
    "df.to_numpy()"
   ]
  },
  {
   "cell_type": "code",
   "execution_count": 11,
   "id": "f92c3efa-bc27-4b73-846c-3a4246eadc7e",
   "metadata": {},
   "outputs": [
    {
     "data": {
      "text/html": [
       "<div>\n",
       "<style scoped>\n",
       "    .dataframe tbody tr th:only-of-type {\n",
       "        vertical-align: middle;\n",
       "    }\n",
       "\n",
       "    .dataframe tbody tr th {\n",
       "        vertical-align: top;\n",
       "    }\n",
       "\n",
       "    .dataframe thead th {\n",
       "        text-align: right;\n",
       "    }\n",
       "</style>\n",
       "<table border=\"1\" class=\"dataframe\">\n",
       "  <thead>\n",
       "    <tr style=\"text-align: right;\">\n",
       "      <th></th>\n",
       "      <th>A</th>\n",
       "      <th>B</th>\n",
       "      <th>C</th>\n",
       "      <th>D</th>\n",
       "    </tr>\n",
       "  </thead>\n",
       "  <tbody>\n",
       "    <tr>\n",
       "      <th>count</th>\n",
       "      <td>7.000000</td>\n",
       "      <td>7.000000</td>\n",
       "      <td>7.000000</td>\n",
       "      <td>7.000000</td>\n",
       "    </tr>\n",
       "    <tr>\n",
       "      <th>mean</th>\n",
       "      <td>-0.691551</td>\n",
       "      <td>0.247049</td>\n",
       "      <td>0.257628</td>\n",
       "      <td>0.035958</td>\n",
       "    </tr>\n",
       "    <tr>\n",
       "      <th>std</th>\n",
       "      <td>1.040513</td>\n",
       "      <td>1.044704</td>\n",
       "      <td>0.451653</td>\n",
       "      <td>0.689083</td>\n",
       "    </tr>\n",
       "    <tr>\n",
       "      <th>min</th>\n",
       "      <td>-2.271624</td>\n",
       "      <td>-0.910658</td>\n",
       "      <td>-0.399775</td>\n",
       "      <td>-0.696156</td>\n",
       "    </tr>\n",
       "    <tr>\n",
       "      <th>25%</th>\n",
       "      <td>-1.375462</td>\n",
       "      <td>-0.383534</td>\n",
       "      <td>0.046506</td>\n",
       "      <td>-0.344818</td>\n",
       "    </tr>\n",
       "    <tr>\n",
       "      <th>50%</th>\n",
       "      <td>-0.496799</td>\n",
       "      <td>-0.215245</td>\n",
       "      <td>0.231224</td>\n",
       "      <td>-0.290959</td>\n",
       "    </tr>\n",
       "    <tr>\n",
       "      <th>75%</th>\n",
       "      <td>0.128829</td>\n",
       "      <td>0.744506</td>\n",
       "      <td>0.435114</td>\n",
       "      <td>0.383707</td>\n",
       "    </tr>\n",
       "    <tr>\n",
       "      <th>max</th>\n",
       "      <td>0.420831</td>\n",
       "      <td>2.133300</td>\n",
       "      <td>1.008710</td>\n",
       "      <td>1.161046</td>\n",
       "    </tr>\n",
       "  </tbody>\n",
       "</table>\n",
       "</div>"
      ],
      "text/plain": [
       "              A         B         C         D\n",
       "count  7.000000  7.000000  7.000000  7.000000\n",
       "mean  -0.691551  0.247049  0.257628  0.035958\n",
       "std    1.040513  1.044704  0.451653  0.689083\n",
       "min   -2.271624 -0.910658 -0.399775 -0.696156\n",
       "25%   -1.375462 -0.383534  0.046506 -0.344818\n",
       "50%   -0.496799 -0.215245  0.231224 -0.290959\n",
       "75%    0.128829  0.744506  0.435114  0.383707\n",
       "max    0.420831  2.133300  1.008710  1.161046"
      ]
     },
     "execution_count": 11,
     "metadata": {},
     "output_type": "execute_result"
    }
   ],
   "source": [
    "df.describe()"
   ]
  },
  {
   "cell_type": "code",
   "execution_count": 12,
   "id": "77445472",
   "metadata": {},
   "outputs": [
    {
     "data": {
      "text/html": [
       "<div>\n",
       "<style scoped>\n",
       "    .dataframe tbody tr th:only-of-type {\n",
       "        vertical-align: middle;\n",
       "    }\n",
       "\n",
       "    .dataframe tbody tr th {\n",
       "        vertical-align: top;\n",
       "    }\n",
       "\n",
       "    .dataframe thead th {\n",
       "        text-align: right;\n",
       "    }\n",
       "</style>\n",
       "<table border=\"1\" class=\"dataframe\">\n",
       "  <thead>\n",
       "    <tr style=\"text-align: right;\">\n",
       "      <th></th>\n",
       "      <th>2012-08-30</th>\n",
       "      <th>2012-08-31</th>\n",
       "      <th>2012-09-01</th>\n",
       "      <th>2012-09-02</th>\n",
       "      <th>2012-09-03</th>\n",
       "      <th>2012-09-04</th>\n",
       "      <th>2012-09-05</th>\n",
       "    </tr>\n",
       "  </thead>\n",
       "  <tbody>\n",
       "    <tr>\n",
       "      <th>A</th>\n",
       "      <td>0.244408</td>\n",
       "      <td>-2.271624</td>\n",
       "      <td>-0.919489</td>\n",
       "      <td>-0.496799</td>\n",
       "      <td>-1.831434</td>\n",
       "      <td>0.420831</td>\n",
       "      <td>0.013250</td>\n",
       "    </tr>\n",
       "    <tr>\n",
       "      <th>B</th>\n",
       "      <td>-0.215245</td>\n",
       "      <td>-0.427152</td>\n",
       "      <td>0.477583</td>\n",
       "      <td>-0.910658</td>\n",
       "      <td>-0.339916</td>\n",
       "      <td>2.133300</td>\n",
       "      <td>1.011428</td>\n",
       "    </tr>\n",
       "    <tr>\n",
       "      <th>C</th>\n",
       "      <td>0.197102</td>\n",
       "      <td>1.008710</td>\n",
       "      <td>0.313800</td>\n",
       "      <td>-0.399775</td>\n",
       "      <td>-0.104089</td>\n",
       "      <td>0.231224</td>\n",
       "      <td>0.556429</td>\n",
       "    </tr>\n",
       "    <tr>\n",
       "      <th>D</th>\n",
       "      <td>0.833892</td>\n",
       "      <td>-0.066478</td>\n",
       "      <td>-0.305103</td>\n",
       "      <td>-0.290959</td>\n",
       "      <td>1.161046</td>\n",
       "      <td>-0.384533</td>\n",
       "      <td>-0.696156</td>\n",
       "    </tr>\n",
       "  </tbody>\n",
       "</table>\n",
       "</div>"
      ],
      "text/plain": [
       "   2012-08-30  2012-08-31  2012-09-01  2012-09-02  2012-09-03  2012-09-04  \\\n",
       "A    0.244408   -2.271624   -0.919489   -0.496799   -1.831434    0.420831   \n",
       "B   -0.215245   -0.427152    0.477583   -0.910658   -0.339916    2.133300   \n",
       "C    0.197102    1.008710    0.313800   -0.399775   -0.104089    0.231224   \n",
       "D    0.833892   -0.066478   -0.305103   -0.290959    1.161046   -0.384533   \n",
       "\n",
       "   2012-09-05  \n",
       "A    0.013250  \n",
       "B    1.011428  \n",
       "C    0.556429  \n",
       "D   -0.696156  "
      ]
     },
     "execution_count": 12,
     "metadata": {},
     "output_type": "execute_result"
    }
   ],
   "source": [
    "df.T"
   ]
  },
  {
   "cell_type": "code",
   "execution_count": 13,
   "id": "d88ced1d",
   "metadata": {},
   "outputs": [
    {
     "data": {
      "text/html": [
       "<div>\n",
       "<style scoped>\n",
       "    .dataframe tbody tr th:only-of-type {\n",
       "        vertical-align: middle;\n",
       "    }\n",
       "\n",
       "    .dataframe tbody tr th {\n",
       "        vertical-align: top;\n",
       "    }\n",
       "\n",
       "    .dataframe thead th {\n",
       "        text-align: right;\n",
       "    }\n",
       "</style>\n",
       "<table border=\"1\" class=\"dataframe\">\n",
       "  <thead>\n",
       "    <tr style=\"text-align: right;\">\n",
       "      <th></th>\n",
       "      <th>A</th>\n",
       "      <th>B</th>\n",
       "      <th>C</th>\n",
       "      <th>D</th>\n",
       "    </tr>\n",
       "  </thead>\n",
       "  <tbody>\n",
       "    <tr>\n",
       "      <th>2012-08-30</th>\n",
       "      <td>0.244408</td>\n",
       "      <td>-0.215245</td>\n",
       "      <td>0.197102</td>\n",
       "      <td>0.833892</td>\n",
       "    </tr>\n",
       "    <tr>\n",
       "      <th>2012-08-31</th>\n",
       "      <td>-2.271624</td>\n",
       "      <td>-0.427152</td>\n",
       "      <td>1.008710</td>\n",
       "      <td>-0.066478</td>\n",
       "    </tr>\n",
       "    <tr>\n",
       "      <th>2012-09-01</th>\n",
       "      <td>-0.919489</td>\n",
       "      <td>0.477583</td>\n",
       "      <td>0.313800</td>\n",
       "      <td>-0.305103</td>\n",
       "    </tr>\n",
       "    <tr>\n",
       "      <th>2012-09-02</th>\n",
       "      <td>-0.496799</td>\n",
       "      <td>-0.910658</td>\n",
       "      <td>-0.399775</td>\n",
       "      <td>-0.290959</td>\n",
       "    </tr>\n",
       "    <tr>\n",
       "      <th>2012-09-03</th>\n",
       "      <td>-1.831434</td>\n",
       "      <td>-0.339916</td>\n",
       "      <td>-0.104089</td>\n",
       "      <td>1.161046</td>\n",
       "    </tr>\n",
       "    <tr>\n",
       "      <th>2012-09-04</th>\n",
       "      <td>0.420831</td>\n",
       "      <td>2.133300</td>\n",
       "      <td>0.231224</td>\n",
       "      <td>-0.384533</td>\n",
       "    </tr>\n",
       "    <tr>\n",
       "      <th>2012-09-05</th>\n",
       "      <td>0.013250</td>\n",
       "      <td>1.011428</td>\n",
       "      <td>0.556429</td>\n",
       "      <td>-0.696156</td>\n",
       "    </tr>\n",
       "  </tbody>\n",
       "</table>\n",
       "</div>"
      ],
      "text/plain": [
       "                   A         B         C         D\n",
       "2012-08-30  0.244408 -0.215245  0.197102  0.833892\n",
       "2012-08-31 -2.271624 -0.427152  1.008710 -0.066478\n",
       "2012-09-01 -0.919489  0.477583  0.313800 -0.305103\n",
       "2012-09-02 -0.496799 -0.910658 -0.399775 -0.290959\n",
       "2012-09-03 -1.831434 -0.339916 -0.104089  1.161046\n",
       "2012-09-04  0.420831  2.133300  0.231224 -0.384533\n",
       "2012-09-05  0.013250  1.011428  0.556429 -0.696156"
      ]
     },
     "execution_count": 13,
     "metadata": {},
     "output_type": "execute_result"
    }
   ],
   "source": [
    "df.sort_index()"
   ]
  },
  {
   "cell_type": "code",
   "execution_count": 18,
   "id": "6c10d4f0",
   "metadata": {},
   "outputs": [
    {
     "data": {
      "text/html": [
       "<div>\n",
       "<style scoped>\n",
       "    .dataframe tbody tr th:only-of-type {\n",
       "        vertical-align: middle;\n",
       "    }\n",
       "\n",
       "    .dataframe tbody tr th {\n",
       "        vertical-align: top;\n",
       "    }\n",
       "\n",
       "    .dataframe thead th {\n",
       "        text-align: right;\n",
       "    }\n",
       "</style>\n",
       "<table border=\"1\" class=\"dataframe\">\n",
       "  <thead>\n",
       "    <tr style=\"text-align: right;\">\n",
       "      <th></th>\n",
       "      <th>A</th>\n",
       "      <th>B</th>\n",
       "      <th>C</th>\n",
       "      <th>D</th>\n",
       "    </tr>\n",
       "  </thead>\n",
       "  <tbody>\n",
       "    <tr>\n",
       "      <th>2012-09-02</th>\n",
       "      <td>-0.496799</td>\n",
       "      <td>-0.910658</td>\n",
       "      <td>-0.399775</td>\n",
       "      <td>-0.290959</td>\n",
       "    </tr>\n",
       "    <tr>\n",
       "      <th>2012-08-31</th>\n",
       "      <td>-2.271624</td>\n",
       "      <td>-0.427152</td>\n",
       "      <td>1.008710</td>\n",
       "      <td>-0.066478</td>\n",
       "    </tr>\n",
       "    <tr>\n",
       "      <th>2012-09-03</th>\n",
       "      <td>-1.831434</td>\n",
       "      <td>-0.339916</td>\n",
       "      <td>-0.104089</td>\n",
       "      <td>1.161046</td>\n",
       "    </tr>\n",
       "    <tr>\n",
       "      <th>2012-08-30</th>\n",
       "      <td>0.244408</td>\n",
       "      <td>-0.215245</td>\n",
       "      <td>0.197102</td>\n",
       "      <td>0.833892</td>\n",
       "    </tr>\n",
       "    <tr>\n",
       "      <th>2012-09-01</th>\n",
       "      <td>-0.919489</td>\n",
       "      <td>0.477583</td>\n",
       "      <td>0.313800</td>\n",
       "      <td>-0.305103</td>\n",
       "    </tr>\n",
       "    <tr>\n",
       "      <th>2012-09-05</th>\n",
       "      <td>0.013250</td>\n",
       "      <td>1.011428</td>\n",
       "      <td>0.556429</td>\n",
       "      <td>-0.696156</td>\n",
       "    </tr>\n",
       "    <tr>\n",
       "      <th>2012-09-04</th>\n",
       "      <td>0.420831</td>\n",
       "      <td>2.133300</td>\n",
       "      <td>0.231224</td>\n",
       "      <td>-0.384533</td>\n",
       "    </tr>\n",
       "  </tbody>\n",
       "</table>\n",
       "</div>"
      ],
      "text/plain": [
       "                   A         B         C         D\n",
       "2012-09-02 -0.496799 -0.910658 -0.399775 -0.290959\n",
       "2012-08-31 -2.271624 -0.427152  1.008710 -0.066478\n",
       "2012-09-03 -1.831434 -0.339916 -0.104089  1.161046\n",
       "2012-08-30  0.244408 -0.215245  0.197102  0.833892\n",
       "2012-09-01 -0.919489  0.477583  0.313800 -0.305103\n",
       "2012-09-05  0.013250  1.011428  0.556429 -0.696156\n",
       "2012-09-04  0.420831  2.133300  0.231224 -0.384533"
      ]
     },
     "execution_count": 18,
     "metadata": {},
     "output_type": "execute_result"
    }
   ],
   "source": [
    "df.sort_values(by='B')"
   ]
  },
  {
   "cell_type": "markdown",
   "id": "45e8be5e",
   "metadata": {},
   "source": [
    "## Selection"
   ]
  },
  {
   "cell_type": "markdown",
   "id": "d475e1ea",
   "metadata": {},
   "source": [
    "### Getting"
   ]
  },
  {
   "cell_type": "code",
   "execution_count": 20,
   "id": "2c189ff8",
   "metadata": {},
   "outputs": [
    {
     "data": {
      "text/plain": [
       "2012-08-30    0.244408\n",
       "2012-08-31   -2.271624\n",
       "2012-09-01   -0.919489\n",
       "2012-09-02   -0.496799\n",
       "2012-09-03   -1.831434\n",
       "2012-09-04    0.420831\n",
       "2012-09-05    0.013250\n",
       "Freq: D, Name: A, dtype: float64"
      ]
     },
     "execution_count": 20,
     "metadata": {},
     "output_type": "execute_result"
    }
   ],
   "source": [
    "df['A']"
   ]
  },
  {
   "cell_type": "code",
   "execution_count": 21,
   "id": "e9fe22be",
   "metadata": {},
   "outputs": [
    {
     "data": {
      "text/html": [
       "<div>\n",
       "<style scoped>\n",
       "    .dataframe tbody tr th:only-of-type {\n",
       "        vertical-align: middle;\n",
       "    }\n",
       "\n",
       "    .dataframe tbody tr th {\n",
       "        vertical-align: top;\n",
       "    }\n",
       "\n",
       "    .dataframe thead th {\n",
       "        text-align: right;\n",
       "    }\n",
       "</style>\n",
       "<table border=\"1\" class=\"dataframe\">\n",
       "  <thead>\n",
       "    <tr style=\"text-align: right;\">\n",
       "      <th></th>\n",
       "      <th>A</th>\n",
       "      <th>B</th>\n",
       "      <th>C</th>\n",
       "      <th>D</th>\n",
       "    </tr>\n",
       "  </thead>\n",
       "  <tbody>\n",
       "    <tr>\n",
       "      <th>2012-08-30</th>\n",
       "      <td>0.244408</td>\n",
       "      <td>-0.215245</td>\n",
       "      <td>0.197102</td>\n",
       "      <td>0.833892</td>\n",
       "    </tr>\n",
       "    <tr>\n",
       "      <th>2012-08-31</th>\n",
       "      <td>-2.271624</td>\n",
       "      <td>-0.427152</td>\n",
       "      <td>1.008710</td>\n",
       "      <td>-0.066478</td>\n",
       "    </tr>\n",
       "    <tr>\n",
       "      <th>2012-09-01</th>\n",
       "      <td>-0.919489</td>\n",
       "      <td>0.477583</td>\n",
       "      <td>0.313800</td>\n",
       "      <td>-0.305103</td>\n",
       "    </tr>\n",
       "    <tr>\n",
       "      <th>2012-09-02</th>\n",
       "      <td>-0.496799</td>\n",
       "      <td>-0.910658</td>\n",
       "      <td>-0.399775</td>\n",
       "      <td>-0.290959</td>\n",
       "    </tr>\n",
       "  </tbody>\n",
       "</table>\n",
       "</div>"
      ],
      "text/plain": [
       "                   A         B         C         D\n",
       "2012-08-30  0.244408 -0.215245  0.197102  0.833892\n",
       "2012-08-31 -2.271624 -0.427152  1.008710 -0.066478\n",
       "2012-09-01 -0.919489  0.477583  0.313800 -0.305103\n",
       "2012-09-02 -0.496799 -0.910658 -0.399775 -0.290959"
      ]
     },
     "execution_count": 21,
     "metadata": {},
     "output_type": "execute_result"
    }
   ],
   "source": [
    "df['20120830':'20120902']"
   ]
  },
  {
   "cell_type": "markdown",
   "id": "656f47d6",
   "metadata": {},
   "source": [
    "### Selection by label"
   ]
  },
  {
   "cell_type": "code",
   "execution_count": 22,
   "id": "c09d117d",
   "metadata": {},
   "outputs": [
    {
     "data": {
      "text/plain": [
       "A    0.244408\n",
       "B   -0.215245\n",
       "C    0.197102\n",
       "D    0.833892\n",
       "Name: 2012-08-30 00:00:00, dtype: float64"
      ]
     },
     "execution_count": 22,
     "metadata": {},
     "output_type": "execute_result"
    }
   ],
   "source": [
    "df.loc[dates[0]]"
   ]
  },
  {
   "cell_type": "code",
   "execution_count": 23,
   "id": "38a946d6",
   "metadata": {},
   "outputs": [
    {
     "data": {
      "text/html": [
       "<div>\n",
       "<style scoped>\n",
       "    .dataframe tbody tr th:only-of-type {\n",
       "        vertical-align: middle;\n",
       "    }\n",
       "\n",
       "    .dataframe tbody tr th {\n",
       "        vertical-align: top;\n",
       "    }\n",
       "\n",
       "    .dataframe thead th {\n",
       "        text-align: right;\n",
       "    }\n",
       "</style>\n",
       "<table border=\"1\" class=\"dataframe\">\n",
       "  <thead>\n",
       "    <tr style=\"text-align: right;\">\n",
       "      <th></th>\n",
       "      <th>A</th>\n",
       "      <th>B</th>\n",
       "    </tr>\n",
       "  </thead>\n",
       "  <tbody>\n",
       "    <tr>\n",
       "      <th>2012-08-30</th>\n",
       "      <td>0.244408</td>\n",
       "      <td>-0.215245</td>\n",
       "    </tr>\n",
       "    <tr>\n",
       "      <th>2012-08-31</th>\n",
       "      <td>-2.271624</td>\n",
       "      <td>-0.427152</td>\n",
       "    </tr>\n",
       "    <tr>\n",
       "      <th>2012-09-01</th>\n",
       "      <td>-0.919489</td>\n",
       "      <td>0.477583</td>\n",
       "    </tr>\n",
       "    <tr>\n",
       "      <th>2012-09-02</th>\n",
       "      <td>-0.496799</td>\n",
       "      <td>-0.910658</td>\n",
       "    </tr>\n",
       "    <tr>\n",
       "      <th>2012-09-03</th>\n",
       "      <td>-1.831434</td>\n",
       "      <td>-0.339916</td>\n",
       "    </tr>\n",
       "    <tr>\n",
       "      <th>2012-09-04</th>\n",
       "      <td>0.420831</td>\n",
       "      <td>2.133300</td>\n",
       "    </tr>\n",
       "    <tr>\n",
       "      <th>2012-09-05</th>\n",
       "      <td>0.013250</td>\n",
       "      <td>1.011428</td>\n",
       "    </tr>\n",
       "  </tbody>\n",
       "</table>\n",
       "</div>"
      ],
      "text/plain": [
       "                   A         B\n",
       "2012-08-30  0.244408 -0.215245\n",
       "2012-08-31 -2.271624 -0.427152\n",
       "2012-09-01 -0.919489  0.477583\n",
       "2012-09-02 -0.496799 -0.910658\n",
       "2012-09-03 -1.831434 -0.339916\n",
       "2012-09-04  0.420831  2.133300\n",
       "2012-09-05  0.013250  1.011428"
      ]
     },
     "execution_count": 23,
     "metadata": {},
     "output_type": "execute_result"
    }
   ],
   "source": [
    "df.loc[:, ['A', 'B']]"
   ]
  },
  {
   "cell_type": "code",
   "execution_count": 24,
   "id": "02fd11fe",
   "metadata": {},
   "outputs": [
    {
     "data": {
      "text/html": [
       "<div>\n",
       "<style scoped>\n",
       "    .dataframe tbody tr th:only-of-type {\n",
       "        vertical-align: middle;\n",
       "    }\n",
       "\n",
       "    .dataframe tbody tr th {\n",
       "        vertical-align: top;\n",
       "    }\n",
       "\n",
       "    .dataframe thead th {\n",
       "        text-align: right;\n",
       "    }\n",
       "</style>\n",
       "<table border=\"1\" class=\"dataframe\">\n",
       "  <thead>\n",
       "    <tr style=\"text-align: right;\">\n",
       "      <th></th>\n",
       "      <th>A</th>\n",
       "      <th>B</th>\n",
       "    </tr>\n",
       "  </thead>\n",
       "  <tbody>\n",
       "    <tr>\n",
       "      <th>2012-08-30</th>\n",
       "      <td>0.244408</td>\n",
       "      <td>-0.215245</td>\n",
       "    </tr>\n",
       "    <tr>\n",
       "      <th>2012-08-31</th>\n",
       "      <td>-2.271624</td>\n",
       "      <td>-0.427152</td>\n",
       "    </tr>\n",
       "    <tr>\n",
       "      <th>2012-09-01</th>\n",
       "      <td>-0.919489</td>\n",
       "      <td>0.477583</td>\n",
       "    </tr>\n",
       "    <tr>\n",
       "      <th>2012-09-02</th>\n",
       "      <td>-0.496799</td>\n",
       "      <td>-0.910658</td>\n",
       "    </tr>\n",
       "    <tr>\n",
       "      <th>2012-09-03</th>\n",
       "      <td>-1.831434</td>\n",
       "      <td>-0.339916</td>\n",
       "    </tr>\n",
       "  </tbody>\n",
       "</table>\n",
       "</div>"
      ],
      "text/plain": [
       "                   A         B\n",
       "2012-08-30  0.244408 -0.215245\n",
       "2012-08-31 -2.271624 -0.427152\n",
       "2012-09-01 -0.919489  0.477583\n",
       "2012-09-02 -0.496799 -0.910658\n",
       "2012-09-03 -1.831434 -0.339916"
      ]
     },
     "execution_count": 24,
     "metadata": {},
     "output_type": "execute_result"
    }
   ],
   "source": [
    "df.loc[\"20120830\":\"20120903\", [\"A\", \"B\"]]"
   ]
  },
  {
   "cell_type": "code",
   "execution_count": 25,
   "id": "d450cbf8",
   "metadata": {},
   "outputs": [
    {
     "data": {
      "text/plain": [
       "0.24440754054021702"
      ]
     },
     "execution_count": 25,
     "metadata": {},
     "output_type": "execute_result"
    }
   ],
   "source": [
    "df.loc[dates[0], \"A\"]"
   ]
  },
  {
   "cell_type": "code",
   "execution_count": 26,
   "id": "593a5384",
   "metadata": {},
   "outputs": [
    {
     "data": {
      "text/plain": [
       "0.24440754054021702"
      ]
     },
     "execution_count": 26,
     "metadata": {},
     "output_type": "execute_result"
    }
   ],
   "source": [
    "df.at[dates[0], \"A\"]"
   ]
  },
  {
   "cell_type": "code",
   "execution_count": 27,
   "id": "b3297906",
   "metadata": {},
   "outputs": [
    {
     "data": {
      "text/plain": [
       "A   -0.496799\n",
       "B   -0.910658\n",
       "C   -0.399775\n",
       "D   -0.290959\n",
       "Name: 2012-09-02 00:00:00, dtype: float64"
      ]
     },
     "execution_count": 27,
     "metadata": {},
     "output_type": "execute_result"
    }
   ],
   "source": [
    "df.iloc[3]"
   ]
  },
  {
   "cell_type": "code",
   "execution_count": 28,
   "id": "fd759e68",
   "metadata": {},
   "outputs": [
    {
     "data": {
      "text/html": [
       "<div>\n",
       "<style scoped>\n",
       "    .dataframe tbody tr th:only-of-type {\n",
       "        vertical-align: middle;\n",
       "    }\n",
       "\n",
       "    .dataframe tbody tr th {\n",
       "        vertical-align: top;\n",
       "    }\n",
       "\n",
       "    .dataframe thead th {\n",
       "        text-align: right;\n",
       "    }\n",
       "</style>\n",
       "<table border=\"1\" class=\"dataframe\">\n",
       "  <thead>\n",
       "    <tr style=\"text-align: right;\">\n",
       "      <th></th>\n",
       "      <th>A</th>\n",
       "      <th>B</th>\n",
       "    </tr>\n",
       "  </thead>\n",
       "  <tbody>\n",
       "    <tr>\n",
       "      <th>2012-09-02</th>\n",
       "      <td>-0.496799</td>\n",
       "      <td>-0.910658</td>\n",
       "    </tr>\n",
       "    <tr>\n",
       "      <th>2012-09-03</th>\n",
       "      <td>-1.831434</td>\n",
       "      <td>-0.339916</td>\n",
       "    </tr>\n",
       "  </tbody>\n",
       "</table>\n",
       "</div>"
      ],
      "text/plain": [
       "                   A         B\n",
       "2012-09-02 -0.496799 -0.910658\n",
       "2012-09-03 -1.831434 -0.339916"
      ]
     },
     "execution_count": 28,
     "metadata": {},
     "output_type": "execute_result"
    }
   ],
   "source": [
    "df.iloc[3:5, 0:2]"
   ]
  },
  {
   "cell_type": "code",
   "execution_count": 29,
   "id": "1212a2f4",
   "metadata": {},
   "outputs": [
    {
     "data": {
      "text/html": [
       "<div>\n",
       "<style scoped>\n",
       "    .dataframe tbody tr th:only-of-type {\n",
       "        vertical-align: middle;\n",
       "    }\n",
       "\n",
       "    .dataframe tbody tr th {\n",
       "        vertical-align: top;\n",
       "    }\n",
       "\n",
       "    .dataframe thead th {\n",
       "        text-align: right;\n",
       "    }\n",
       "</style>\n",
       "<table border=\"1\" class=\"dataframe\">\n",
       "  <thead>\n",
       "    <tr style=\"text-align: right;\">\n",
       "      <th></th>\n",
       "      <th>A</th>\n",
       "      <th>C</th>\n",
       "    </tr>\n",
       "  </thead>\n",
       "  <tbody>\n",
       "    <tr>\n",
       "      <th>2012-08-31</th>\n",
       "      <td>-2.271624</td>\n",
       "      <td>1.008710</td>\n",
       "    </tr>\n",
       "    <tr>\n",
       "      <th>2012-09-01</th>\n",
       "      <td>-0.919489</td>\n",
       "      <td>0.313800</td>\n",
       "    </tr>\n",
       "    <tr>\n",
       "      <th>2012-09-03</th>\n",
       "      <td>-1.831434</td>\n",
       "      <td>-0.104089</td>\n",
       "    </tr>\n",
       "  </tbody>\n",
       "</table>\n",
       "</div>"
      ],
      "text/plain": [
       "                   A         C\n",
       "2012-08-31 -2.271624  1.008710\n",
       "2012-09-01 -0.919489  0.313800\n",
       "2012-09-03 -1.831434 -0.104089"
      ]
     },
     "execution_count": 29,
     "metadata": {},
     "output_type": "execute_result"
    }
   ],
   "source": [
    "df.iloc[[1, 2, 4], [0, 2]]"
   ]
  },
  {
   "cell_type": "code",
   "execution_count": 30,
   "id": "12adc04a",
   "metadata": {},
   "outputs": [
    {
     "data": {
      "text/html": [
       "<div>\n",
       "<style scoped>\n",
       "    .dataframe tbody tr th:only-of-type {\n",
       "        vertical-align: middle;\n",
       "    }\n",
       "\n",
       "    .dataframe tbody tr th {\n",
       "        vertical-align: top;\n",
       "    }\n",
       "\n",
       "    .dataframe thead th {\n",
       "        text-align: right;\n",
       "    }\n",
       "</style>\n",
       "<table border=\"1\" class=\"dataframe\">\n",
       "  <thead>\n",
       "    <tr style=\"text-align: right;\">\n",
       "      <th></th>\n",
       "      <th>A</th>\n",
       "      <th>B</th>\n",
       "      <th>C</th>\n",
       "      <th>D</th>\n",
       "    </tr>\n",
       "  </thead>\n",
       "  <tbody>\n",
       "    <tr>\n",
       "      <th>2012-08-31</th>\n",
       "      <td>-2.271624</td>\n",
       "      <td>-0.427152</td>\n",
       "      <td>1.00871</td>\n",
       "      <td>-0.066478</td>\n",
       "    </tr>\n",
       "    <tr>\n",
       "      <th>2012-09-01</th>\n",
       "      <td>-0.919489</td>\n",
       "      <td>0.477583</td>\n",
       "      <td>0.31380</td>\n",
       "      <td>-0.305103</td>\n",
       "    </tr>\n",
       "  </tbody>\n",
       "</table>\n",
       "</div>"
      ],
      "text/plain": [
       "                   A         B        C         D\n",
       "2012-08-31 -2.271624 -0.427152  1.00871 -0.066478\n",
       "2012-09-01 -0.919489  0.477583  0.31380 -0.305103"
      ]
     },
     "execution_count": 30,
     "metadata": {},
     "output_type": "execute_result"
    }
   ],
   "source": [
    "df.iloc[1:3, :]"
   ]
  },
  {
   "cell_type": "code",
   "execution_count": 31,
   "id": "a0baec7c",
   "metadata": {},
   "outputs": [
    {
     "data": {
      "text/html": [
       "<div>\n",
       "<style scoped>\n",
       "    .dataframe tbody tr th:only-of-type {\n",
       "        vertical-align: middle;\n",
       "    }\n",
       "\n",
       "    .dataframe tbody tr th {\n",
       "        vertical-align: top;\n",
       "    }\n",
       "\n",
       "    .dataframe thead th {\n",
       "        text-align: right;\n",
       "    }\n",
       "</style>\n",
       "<table border=\"1\" class=\"dataframe\">\n",
       "  <thead>\n",
       "    <tr style=\"text-align: right;\">\n",
       "      <th></th>\n",
       "      <th>B</th>\n",
       "      <th>C</th>\n",
       "    </tr>\n",
       "  </thead>\n",
       "  <tbody>\n",
       "    <tr>\n",
       "      <th>2012-08-30</th>\n",
       "      <td>-0.215245</td>\n",
       "      <td>0.197102</td>\n",
       "    </tr>\n",
       "    <tr>\n",
       "      <th>2012-08-31</th>\n",
       "      <td>-0.427152</td>\n",
       "      <td>1.008710</td>\n",
       "    </tr>\n",
       "    <tr>\n",
       "      <th>2012-09-01</th>\n",
       "      <td>0.477583</td>\n",
       "      <td>0.313800</td>\n",
       "    </tr>\n",
       "    <tr>\n",
       "      <th>2012-09-02</th>\n",
       "      <td>-0.910658</td>\n",
       "      <td>-0.399775</td>\n",
       "    </tr>\n",
       "    <tr>\n",
       "      <th>2012-09-03</th>\n",
       "      <td>-0.339916</td>\n",
       "      <td>-0.104089</td>\n",
       "    </tr>\n",
       "    <tr>\n",
       "      <th>2012-09-04</th>\n",
       "      <td>2.133300</td>\n",
       "      <td>0.231224</td>\n",
       "    </tr>\n",
       "    <tr>\n",
       "      <th>2012-09-05</th>\n",
       "      <td>1.011428</td>\n",
       "      <td>0.556429</td>\n",
       "    </tr>\n",
       "  </tbody>\n",
       "</table>\n",
       "</div>"
      ],
      "text/plain": [
       "                   B         C\n",
       "2012-08-30 -0.215245  0.197102\n",
       "2012-08-31 -0.427152  1.008710\n",
       "2012-09-01  0.477583  0.313800\n",
       "2012-09-02 -0.910658 -0.399775\n",
       "2012-09-03 -0.339916 -0.104089\n",
       "2012-09-04  2.133300  0.231224\n",
       "2012-09-05  1.011428  0.556429"
      ]
     },
     "execution_count": 31,
     "metadata": {},
     "output_type": "execute_result"
    }
   ],
   "source": [
    "df.iloc[:, 1:3]"
   ]
  },
  {
   "cell_type": "code",
   "execution_count": 32,
   "id": "8109a092",
   "metadata": {},
   "outputs": [
    {
     "data": {
      "text/plain": [
       "-0.4271516823993775"
      ]
     },
     "execution_count": 32,
     "metadata": {},
     "output_type": "execute_result"
    }
   ],
   "source": [
    "df.iloc[1, 1]"
   ]
  },
  {
   "cell_type": "code",
   "execution_count": 33,
   "id": "2dcb6a46",
   "metadata": {},
   "outputs": [
    {
     "data": {
      "text/plain": [
       "-0.4271516823993775"
      ]
     },
     "execution_count": 33,
     "metadata": {},
     "output_type": "execute_result"
    }
   ],
   "source": [
    "df.iat[1, 1]"
   ]
  },
  {
   "cell_type": "markdown",
   "id": "13c68bbe",
   "metadata": {},
   "source": [
    "### Boolean indexing"
   ]
  },
  {
   "cell_type": "code",
   "execution_count": 34,
   "id": "2de7b483",
   "metadata": {},
   "outputs": [
    {
     "data": {
      "text/html": [
       "<div>\n",
       "<style scoped>\n",
       "    .dataframe tbody tr th:only-of-type {\n",
       "        vertical-align: middle;\n",
       "    }\n",
       "\n",
       "    .dataframe tbody tr th {\n",
       "        vertical-align: top;\n",
       "    }\n",
       "\n",
       "    .dataframe thead th {\n",
       "        text-align: right;\n",
       "    }\n",
       "</style>\n",
       "<table border=\"1\" class=\"dataframe\">\n",
       "  <thead>\n",
       "    <tr style=\"text-align: right;\">\n",
       "      <th></th>\n",
       "      <th>A</th>\n",
       "      <th>B</th>\n",
       "      <th>C</th>\n",
       "      <th>D</th>\n",
       "    </tr>\n",
       "  </thead>\n",
       "  <tbody>\n",
       "    <tr>\n",
       "      <th>2012-08-30</th>\n",
       "      <td>0.244408</td>\n",
       "      <td>-0.215245</td>\n",
       "      <td>0.197102</td>\n",
       "      <td>0.833892</td>\n",
       "    </tr>\n",
       "    <tr>\n",
       "      <th>2012-09-04</th>\n",
       "      <td>0.420831</td>\n",
       "      <td>2.133300</td>\n",
       "      <td>0.231224</td>\n",
       "      <td>-0.384533</td>\n",
       "    </tr>\n",
       "    <tr>\n",
       "      <th>2012-09-05</th>\n",
       "      <td>0.013250</td>\n",
       "      <td>1.011428</td>\n",
       "      <td>0.556429</td>\n",
       "      <td>-0.696156</td>\n",
       "    </tr>\n",
       "  </tbody>\n",
       "</table>\n",
       "</div>"
      ],
      "text/plain": [
       "                   A         B         C         D\n",
       "2012-08-30  0.244408 -0.215245  0.197102  0.833892\n",
       "2012-09-04  0.420831  2.133300  0.231224 -0.384533\n",
       "2012-09-05  0.013250  1.011428  0.556429 -0.696156"
      ]
     },
     "execution_count": 34,
     "metadata": {},
     "output_type": "execute_result"
    }
   ],
   "source": [
    "df[df[\"A\"] > 0]"
   ]
  },
  {
   "cell_type": "code",
   "execution_count": 35,
   "id": "b1003095",
   "metadata": {},
   "outputs": [
    {
     "data": {
      "text/html": [
       "<div>\n",
       "<style scoped>\n",
       "    .dataframe tbody tr th:only-of-type {\n",
       "        vertical-align: middle;\n",
       "    }\n",
       "\n",
       "    .dataframe tbody tr th {\n",
       "        vertical-align: top;\n",
       "    }\n",
       "\n",
       "    .dataframe thead th {\n",
       "        text-align: right;\n",
       "    }\n",
       "</style>\n",
       "<table border=\"1\" class=\"dataframe\">\n",
       "  <thead>\n",
       "    <tr style=\"text-align: right;\">\n",
       "      <th></th>\n",
       "      <th>A</th>\n",
       "      <th>B</th>\n",
       "      <th>C</th>\n",
       "      <th>D</th>\n",
       "    </tr>\n",
       "  </thead>\n",
       "  <tbody>\n",
       "    <tr>\n",
       "      <th>2012-08-30</th>\n",
       "      <td>0.244408</td>\n",
       "      <td>NaN</td>\n",
       "      <td>0.197102</td>\n",
       "      <td>0.833892</td>\n",
       "    </tr>\n",
       "    <tr>\n",
       "      <th>2012-08-31</th>\n",
       "      <td>NaN</td>\n",
       "      <td>NaN</td>\n",
       "      <td>1.008710</td>\n",
       "      <td>NaN</td>\n",
       "    </tr>\n",
       "    <tr>\n",
       "      <th>2012-09-01</th>\n",
       "      <td>NaN</td>\n",
       "      <td>0.477583</td>\n",
       "      <td>0.313800</td>\n",
       "      <td>NaN</td>\n",
       "    </tr>\n",
       "    <tr>\n",
       "      <th>2012-09-02</th>\n",
       "      <td>NaN</td>\n",
       "      <td>NaN</td>\n",
       "      <td>NaN</td>\n",
       "      <td>NaN</td>\n",
       "    </tr>\n",
       "    <tr>\n",
       "      <th>2012-09-03</th>\n",
       "      <td>NaN</td>\n",
       "      <td>NaN</td>\n",
       "      <td>NaN</td>\n",
       "      <td>1.161046</td>\n",
       "    </tr>\n",
       "    <tr>\n",
       "      <th>2012-09-04</th>\n",
       "      <td>0.420831</td>\n",
       "      <td>2.133300</td>\n",
       "      <td>0.231224</td>\n",
       "      <td>NaN</td>\n",
       "    </tr>\n",
       "    <tr>\n",
       "      <th>2012-09-05</th>\n",
       "      <td>0.013250</td>\n",
       "      <td>1.011428</td>\n",
       "      <td>0.556429</td>\n",
       "      <td>NaN</td>\n",
       "    </tr>\n",
       "  </tbody>\n",
       "</table>\n",
       "</div>"
      ],
      "text/plain": [
       "                   A         B         C         D\n",
       "2012-08-30  0.244408       NaN  0.197102  0.833892\n",
       "2012-08-31       NaN       NaN  1.008710       NaN\n",
       "2012-09-01       NaN  0.477583  0.313800       NaN\n",
       "2012-09-02       NaN       NaN       NaN       NaN\n",
       "2012-09-03       NaN       NaN       NaN  1.161046\n",
       "2012-09-04  0.420831  2.133300  0.231224       NaN\n",
       "2012-09-05  0.013250  1.011428  0.556429       NaN"
      ]
     },
     "execution_count": 35,
     "metadata": {},
     "output_type": "execute_result"
    }
   ],
   "source": [
    "df[df > 0]"
   ]
  },
  {
   "cell_type": "code",
   "execution_count": 37,
   "id": "7fbaa7ba",
   "metadata": {},
   "outputs": [
    {
     "data": {
      "text/html": [
       "<div>\n",
       "<style scoped>\n",
       "    .dataframe tbody tr th:only-of-type {\n",
       "        vertical-align: middle;\n",
       "    }\n",
       "\n",
       "    .dataframe tbody tr th {\n",
       "        vertical-align: top;\n",
       "    }\n",
       "\n",
       "    .dataframe thead th {\n",
       "        text-align: right;\n",
       "    }\n",
       "</style>\n",
       "<table border=\"1\" class=\"dataframe\">\n",
       "  <thead>\n",
       "    <tr style=\"text-align: right;\">\n",
       "      <th></th>\n",
       "      <th>A</th>\n",
       "      <th>B</th>\n",
       "      <th>C</th>\n",
       "      <th>D</th>\n",
       "      <th>E</th>\n",
       "    </tr>\n",
       "  </thead>\n",
       "  <tbody>\n",
       "    <tr>\n",
       "      <th>2012-08-30</th>\n",
       "      <td>0.244408</td>\n",
       "      <td>-0.215245</td>\n",
       "      <td>0.197102</td>\n",
       "      <td>0.833892</td>\n",
       "      <td>one</td>\n",
       "    </tr>\n",
       "    <tr>\n",
       "      <th>2012-08-31</th>\n",
       "      <td>-2.271624</td>\n",
       "      <td>-0.427152</td>\n",
       "      <td>1.008710</td>\n",
       "      <td>-0.066478</td>\n",
       "      <td>one</td>\n",
       "    </tr>\n",
       "    <tr>\n",
       "      <th>2012-09-01</th>\n",
       "      <td>-0.919489</td>\n",
       "      <td>0.477583</td>\n",
       "      <td>0.313800</td>\n",
       "      <td>-0.305103</td>\n",
       "      <td>two</td>\n",
       "    </tr>\n",
       "    <tr>\n",
       "      <th>2012-09-02</th>\n",
       "      <td>-0.496799</td>\n",
       "      <td>-0.910658</td>\n",
       "      <td>-0.399775</td>\n",
       "      <td>-0.290959</td>\n",
       "      <td>three</td>\n",
       "    </tr>\n",
       "    <tr>\n",
       "      <th>2012-09-03</th>\n",
       "      <td>-1.831434</td>\n",
       "      <td>-0.339916</td>\n",
       "      <td>-0.104089</td>\n",
       "      <td>1.161046</td>\n",
       "      <td>four</td>\n",
       "    </tr>\n",
       "    <tr>\n",
       "      <th>2012-09-04</th>\n",
       "      <td>0.420831</td>\n",
       "      <td>2.133300</td>\n",
       "      <td>0.231224</td>\n",
       "      <td>-0.384533</td>\n",
       "      <td>three</td>\n",
       "    </tr>\n",
       "    <tr>\n",
       "      <th>2012-09-05</th>\n",
       "      <td>0.013250</td>\n",
       "      <td>1.011428</td>\n",
       "      <td>0.556429</td>\n",
       "      <td>-0.696156</td>\n",
       "      <td>five</td>\n",
       "    </tr>\n",
       "  </tbody>\n",
       "</table>\n",
       "</div>"
      ],
      "text/plain": [
       "                   A         B         C         D      E\n",
       "2012-08-30  0.244408 -0.215245  0.197102  0.833892    one\n",
       "2012-08-31 -2.271624 -0.427152  1.008710 -0.066478    one\n",
       "2012-09-01 -0.919489  0.477583  0.313800 -0.305103    two\n",
       "2012-09-02 -0.496799 -0.910658 -0.399775 -0.290959  three\n",
       "2012-09-03 -1.831434 -0.339916 -0.104089  1.161046   four\n",
       "2012-09-04  0.420831  2.133300  0.231224 -0.384533  three\n",
       "2012-09-05  0.013250  1.011428  0.556429 -0.696156   five"
      ]
     },
     "execution_count": 37,
     "metadata": {},
     "output_type": "execute_result"
    }
   ],
   "source": [
    "df2 = df.copy()\n",
    "df2[\"E\"] = [\"one\", \"one\", \"two\", \"three\", \"four\", \"three\", \"five\"]\n",
    "df2"
   ]
  },
  {
   "cell_type": "code",
   "execution_count": null,
   "id": "5de56321",
   "metadata": {},
   "outputs": [],
   "source": []
  }
 ],
 "metadata": {
  "kernelspec": {
   "display_name": "Python 3.10.6 ('yapay-zeka')",
   "language": "python",
   "name": "python3"
  },
  "language_info": {
   "codemirror_mode": {
    "name": "ipython",
    "version": 3
   },
   "file_extension": ".py",
   "mimetype": "text/x-python",
   "name": "python",
   "nbconvert_exporter": "python",
   "pygments_lexer": "ipython3",
   "version": "3.10.6"
  },
  "vscode": {
   "interpreter": {
    "hash": "cde0fa413f7aa9ce0ca27784465e8f07228a1dd45a982b995d47747ffaa10e65"
   }
  }
 },
 "nbformat": 4,
 "nbformat_minor": 5
}
