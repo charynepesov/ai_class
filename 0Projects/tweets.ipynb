{
 "cells": [
  {
   "cell_type": "code",
   "execution_count": 1,
   "id": "a50c4472-de3a-40ab-aba8-8c8a89d838cb",
   "metadata": {},
   "outputs": [],
   "source": [
    "import snscrape.modules.twitter as sntwitter\n",
    "import pandas as pd"
   ]
  },
  {
   "cell_type": "code",
   "execution_count": 2,
   "id": "b83514b3-bde3-4c41-9ee2-5bacb9ed6ef1",
   "metadata": {},
   "outputs": [
    {
     "name": "stdout",
     "output_type": "stream",
     "text": [
      "                        Date            User  \\\n",
      "0  2022-10-10 09:46:31+00:00       harunalci   \n",
      "1  2022-10-10 08:26:04+00:00     AdaklLisesi   \n",
      "2  2022-10-09 20:01:23+00:00         odnelod   \n",
      "3  2022-10-09 19:21:21+00:00     oktay_tanhu   \n",
      "4  2022-10-09 18:09:49+00:00   SincanAkParti   \n",
      "..                       ...             ...   \n",
      "95 2022-10-04 03:24:08+00:00       haberfama   \n",
      "96 2022-10-04 03:23:39+00:00     NeHaberscom   \n",
      "97 2022-10-04 03:13:03+00:00         idrak34   \n",
      "98 2022-10-03 22:15:27+00:00    fuckeveryuni   \n",
      "99 2022-10-03 19:08:26+00:00  ahievrankampus   \n",
      "\n",
      "                                                Tweet  \n",
      "0   @Muhafazakr3 Diken batıp kanatıyor ama. Kanayı...  \n",
      "1   Merve PALAOĞLU öğretmenimiz, Felsefe ve Düşünc...  \n",
      "2             @simdibulbakim ahi evran at eğitmenliği  \n",
      "3   @Coboo5 @AralKarabuduncu Babası Er-Tuğrul, Ahî...  \n",
      "4   Sincan’ımızın her metre karesinde ayak izlerim...  \n",
      "..                                                ...  \n",
      "95  Ahi Evran Üniversitesi, ihaleye adını yanlış y...  \n",
      "96  Ahi Evran Üniversitesi, ihaleye adını yanlış y...  \n",
      "97  #Gündem Ahi Evran Üniversitesi, ihaleye adını ...  \n",
      "98          🖕Fuck Ahi Evran Üniversitesi in Turkey 🇹🇷  \n",
      "99  İLKOKULDA\\n-hemen koşarak gidip en önde oturma...  \n",
      "\n",
      "[100 rows x 3 columns]\n"
     ]
    }
   ],
   "source": [
    "query = \"Ahi Evran\"\n",
    "tweets = []\n",
    "limit = 100\n",
    "\n",
    "for tweet in sntwitter.TwitterSearchScraper(query).get_items():\n",
    "    #print(vars(tweet))\n",
    "    #break\n",
    "    if len(tweets) == limit:\n",
    "        break\n",
    "    else:\n",
    "        tweets.append([tweet.date, tweet.user.username, tweet.content])\n",
    "        \n",
    "df = pd.DataFrame(tweets, columns=['Date', 'User', 'Tweet'])\n",
    "print(df)"
   ]
  }
 ],
 "metadata": {
  "kernelspec": {
   "display_name": "Python 3 (ipykernel)",
   "language": "python",
   "name": "python3"
  },
  "language_info": {
   "codemirror_mode": {
    "name": "ipython",
    "version": 3
   },
   "file_extension": ".py",
   "mimetype": "text/x-python",
   "name": "python",
   "nbconvert_exporter": "python",
   "pygments_lexer": "ipython3",
   "version": "3.10.6"
  }
 },
 "nbformat": 4,
 "nbformat_minor": 5
}
