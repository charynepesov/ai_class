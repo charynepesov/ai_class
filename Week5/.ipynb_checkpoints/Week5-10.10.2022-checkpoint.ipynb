{
 "cells": [
  {
   "cell_type": "markdown",
   "id": "c1c3e3b4-a39d-45de-9257-3aaa0c6380c5",
   "metadata": {},
   "source": [
    "# Web Scraping"
   ]
  },
  {
   "cell_type": "code",
   "execution_count": 1,
   "id": "a5872251-a075-497b-86f6-a963b9c2e147",
   "metadata": {},
   "outputs": [],
   "source": [
    "import requests\n",
    "from bs4 import BeautifulSoup\n",
    "import pandas as pd"
   ]
  },
  {
   "cell_type": "code",
   "execution_count": 2,
   "id": "96374850-c4c1-4dce-bf53-b56fdfbca492",
   "metadata": {},
   "outputs": [],
   "source": [
    "url = 'https://www.arabam.com/'\n",
    "response = requests.get(url, headers = {'User-agent': 'your bot 0.1'})"
   ]
  },
  {
   "cell_type": "code",
   "execution_count": 3,
   "id": "add6036d-1a23-409d-98e2-65aa8e5a7aa8",
   "metadata": {},
   "outputs": [],
   "source": [
    "#response.text"
   ]
  },
  {
   "cell_type": "code",
   "execution_count": 4,
   "id": "c03bba3d-2888-434c-a8e6-4034181042e6",
   "metadata": {},
   "outputs": [],
   "source": [
    "soup = BeautifulSoup(response.text, 'html.parser')"
   ]
  },
  {
   "cell_type": "code",
   "execution_count": 5,
   "id": "a9acc1c9-a735-4a45-899c-c03cc9d0bf95",
   "metadata": {},
   "outputs": [],
   "source": [
    "soup.beautify"
   ]
  },
  {
   "cell_type": "code",
   "execution_count": 6,
   "id": "fc87256f-5a44-4ad7-a9a7-1af339ec6f6e",
   "metadata": {},
   "outputs": [],
   "source": [
    "container = soup.findAll('div', {'class':'showcase row'})"
   ]
  },
  {
   "cell_type": "code",
   "execution_count": 7,
   "id": "ac153ece-a1b8-4b1e-9ac7-03dbd58bf3ed",
   "metadata": {},
   "outputs": [],
   "source": [
    "fiyat = soup.findAll('div', {'class':'price'})\n",
    "sehir = soup.findAll('div', {'class':'model-city'})\n",
    "yil = soup.findAll('div', {'class':'model-year'})\n",
    "model = soup.findAll('div', {'class':'model-name'})"
   ]
  },
  {
   "cell_type": "code",
   "execution_count": 8,
   "id": "0d41cbe4-f80f-403a-b9df-37eec3855bcf",
   "metadata": {},
   "outputs": [],
   "source": [
    "f=[]\n",
    "s=[]\n",
    "y=[]\n",
    "m=[]\n",
    "columns = ['model', 'sehir', 'yil', 'fiyat']\n",
    "for (m1, s1, y1, f1) in zip(model, sehir, yil, fiyat):\n",
    "    m.append(m1.text)\n",
    "    s.append(s1.text)\n",
    "    y.append(y1.text)\n",
    "    f.append(f1.text)"
   ]
  },
  {
   "cell_type": "code",
   "execution_count": 9,
   "id": "bd98625e-ad1b-4efd-857d-52c83f5a3804",
   "metadata": {},
   "outputs": [
    {
     "data": {
      "text/html": [
       "<div>\n",
       "<style scoped>\n",
       "    .dataframe tbody tr th:only-of-type {\n",
       "        vertical-align: middle;\n",
       "    }\n",
       "\n",
       "    .dataframe tbody tr th {\n",
       "        vertical-align: top;\n",
       "    }\n",
       "\n",
       "    .dataframe thead th {\n",
       "        text-align: right;\n",
       "    }\n",
       "</style>\n",
       "<table border=\"1\" class=\"dataframe\">\n",
       "  <thead>\n",
       "    <tr style=\"text-align: right;\">\n",
       "      <th></th>\n",
       "      <th>Model</th>\n",
       "      <th>Sehir</th>\n",
       "      <th>Yil</th>\n",
       "      <th>Fiyat</th>\n",
       "    </tr>\n",
       "  </thead>\n",
       "  <tbody>\n",
       "  </tbody>\n",
       "</table>\n",
       "</div>"
      ],
      "text/plain": [
       "Empty DataFrame\n",
       "Columns: [Model, Sehir, Yil, Fiyat]\n",
       "Index: []"
      ]
     },
     "execution_count": 9,
     "metadata": {},
     "output_type": "execute_result"
    }
   ],
   "source": [
    "d = {'Model':m, 'Sehir':s, 'Yil':y, 'Fiyat':f}\n",
    "pd.DataFrame(d)"
   ]
  },
  {
   "cell_type": "code",
   "execution_count": 10,
   "id": "1ac59cc3-4258-4269-b27d-47aa1d5b94c8",
   "metadata": {},
   "outputs": [
    {
     "data": {
      "text/html": [
       "<div>\n",
       "<style scoped>\n",
       "    .dataframe tbody tr th:only-of-type {\n",
       "        vertical-align: middle;\n",
       "    }\n",
       "\n",
       "    .dataframe tbody tr th {\n",
       "        vertical-align: top;\n",
       "    }\n",
       "\n",
       "    .dataframe thead th {\n",
       "        text-align: right;\n",
       "    }\n",
       "</style>\n",
       "<table border=\"1\" class=\"dataframe\">\n",
       "  <thead>\n",
       "    <tr style=\"text-align: right;\">\n",
       "      <th></th>\n",
       "      <th>0</th>\n",
       "    </tr>\n",
       "  </thead>\n",
       "  <tbody>\n",
       "    <tr>\n",
       "      <th>0</th>\n",
       "      <td>requests</td>\n",
       "    </tr>\n",
       "  </tbody>\n",
       "</table>\n",
       "</div>"
      ],
      "text/plain": [
       "          0\n",
       "0  requests"
      ]
     },
     "execution_count": 10,
     "metadata": {},
     "output_type": "execute_result"
    }
   ],
   "source": [
    "df = pd.read_clipboard(header=None)\n",
    "df"
   ]
  },
  {
   "cell_type": "code",
   "execution_count": 11,
   "id": "87c267ac-c8fd-4386-bc58-4382446a1b69",
   "metadata": {},
   "outputs": [],
   "source": [
    "df.to_csv('send your name to mars.csv')"
   ]
  }
 ],
 "metadata": {
  "kernelspec": {
   "display_name": "Python 3 (ipykernel)",
   "language": "python",
   "name": "python3"
  },
  "language_info": {
   "codemirror_mode": {
    "name": "ipython",
    "version": 3
   },
   "file_extension": ".py",
   "mimetype": "text/x-python",
   "name": "python",
   "nbconvert_exporter": "python",
   "pygments_lexer": "ipython3",
   "version": "3.10.6"
  }
 },
 "nbformat": 4,
 "nbformat_minor": 5
}
