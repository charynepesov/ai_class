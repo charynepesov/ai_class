{
 "cells": [
  {
   "cell_type": "code",
   "execution_count": 1,
   "id": "304bb6cd-1595-46cc-af0c-61f3239d8c99",
   "metadata": {},
   "outputs": [],
   "source": [
    "import numpy as np\n",
    "import pandas as pd\n",
    "import matplotlib.pyplot as plt"
   ]
  },
  {
   "cell_type": "code",
   "execution_count": 2,
   "id": "64407738-827a-451b-acb7-4e11c8625937",
   "metadata": {},
   "outputs": [
    {
     "name": "stdout",
     "output_type": "stream",
     "text": [
      "\u001b[33mWARNING: Retrying (Retry(total=4, connect=None, read=None, redirect=None, status=None)) after connection broken by 'NewConnectionError('<pip._vendor.urllib3.connection.HTTPSConnection object at 0x7f4d81c6fdc0>: Failed to establish a new connection: [Errno -2] Name or service not known')': /simple/twython/\u001b[0m\u001b[33m\n",
      "\u001b[0m\u001b[33mWARNING: Retrying (Retry(total=3, connect=None, read=None, redirect=None, status=None)) after connection broken by 'NewConnectionError('<pip._vendor.urllib3.connection.HTTPSConnection object at 0x7f4d81a94130>: Failed to establish a new connection: [Errno -2] Name or service not known')': /simple/twython/\u001b[0m\u001b[33m\n",
      "\u001b[0m\u001b[33mWARNING: Retrying (Retry(total=2, connect=None, read=None, redirect=None, status=None)) after connection broken by 'NewConnectionError('<pip._vendor.urllib3.connection.HTTPSConnection object at 0x7f4d81a943d0>: Failed to establish a new connection: [Errno -2] Name or service not known')': /simple/twython/\u001b[0m\u001b[33m\n",
      "\u001b[0m\u001b[33mWARNING: Retrying (Retry(total=1, connect=None, read=None, redirect=None, status=None)) after connection broken by 'NewConnectionError('<pip._vendor.urllib3.connection.HTTPSConnection object at 0x7f4d81a94580>: Failed to establish a new connection: [Errno -2] Name or service not known')': /simple/twython/\u001b[0m\u001b[33m\n",
      "\u001b[0m\u001b[33mWARNING: Retrying (Retry(total=0, connect=None, read=None, redirect=None, status=None)) after connection broken by 'NewConnectionError('<pip._vendor.urllib3.connection.HTTPSConnection object at 0x7f4d81a94730>: Failed to establish a new connection: [Errno -2] Name or service not known')': /simple/twython/\u001b[0m\u001b[33m\n",
      "\u001b[0m\u001b[31mERROR: Could not find a version that satisfies the requirement Twython (from versions: none)\u001b[0m\u001b[31m\n",
      "\u001b[0m\u001b[31mERROR: No matching distribution found for Twython\u001b[0m\u001b[31m\n",
      "\u001b[0mNote: you may need to restart the kernel to use updated packages.\n"
     ]
    }
   ],
   "source": [
    "#pip install Twython"
   ]
  },
  {
   "cell_type": "code",
   "execution_count": null,
   "id": "dd1c53dd-62ce-48d9-9216-f6c48265b78f",
   "metadata": {},
   "outputs": [],
   "source": [
    "from twython import Twython\n",
    "\n",
    "CONSUMER_KEY = '0pJRCT1emkOcrtxH171MN4NSA'\n",
    "CONSUMER_SECRET = 'IS4Gxcx1aQ1c5h'\n",
    "\n",
    "twitter = Twython(CONSUMER_KEY, CONSUMER_SECRET)"
   ]
  },
  {
   "cell_type": "code",
   "execution_count": null,
   "id": "a9f020e9-1448-4e28-be75-54c6fd53c73c",
   "metadata": {},
   "outputs": [],
   "source": [
    "twitter"
   ]
  },
  {
   "cell_type": "code",
   "execution_count": null,
   "id": "fcdddac4-8251-48d8-bda8-0db1b03b46ec",
   "metadata": {},
   "outputs": [],
   "source": [
    "dir(Twython)"
   ]
  },
  {
   "cell_type": "code",
   "execution_count": null,
   "id": "bb08a6a8-8ca1-4073-94e1-0659d1d78e04",
   "metadata": {},
   "outputs": [],
   "source": [
    "help(Twython).search"
   ]
  },
  {
   "cell_type": "code",
   "execution_count": null,
   "id": "44994db2-bd91-4285-bd03-96cf7a60b070",
   "metadata": {},
   "outputs": [],
   "source": [
    "results=twitter.search(q='data science', count=20)\n",
    "type(results)"
   ]
  },
  {
   "cell_type": "code",
   "execution_count": null,
   "id": "c6e4e523-aac9-47b0-ba2f-ba24bb2c6a9a",
   "metadata": {},
   "outputs": [],
   "source": [
    "results"
   ]
  },
  {
   "cell_type": "code",
   "execution_count": null,
   "id": "b3f795c4-6110-4439-afa5-a8890b594526",
   "metadata": {},
   "outputs": [],
   "source": [
    "all_items=results['statuses']"
   ]
  },
  {
   "cell_type": "code",
   "execution_count": null,
   "id": "9d9d2f72-5cdf-41a3-bcd4-df768be40abb",
   "metadata": {},
   "outputs": [],
   "source": [
    "pd.set_option('max_columns', 100)"
   ]
  },
  {
   "cell_type": "code",
   "execution_count": null,
   "id": "519ffe56-4220-4d51-a86e-83ccd8af67e5",
   "metadata": {},
   "outputs": [],
   "source": [
    "tweet_df = pd.DataFrame(all_items)\n",
    "tweet_df.head()"
   ]
  },
  {
   "cell_type": "code",
   "execution_count": null,
   "id": "d02efdc8-502a-43c0-8180-871eff3931c7",
   "metadata": {},
   "outputs": [],
   "source": [
    "tweet_user = pd.DataFrame([d['user'] for d in results['statuses']])\n",
    "tweet_user.head()"
   ]
  },
  {
   "cell_type": "code",
   "execution_count": null,
   "id": "70745d3d-aeb5-454b-ac2c-4e1f07f17ba9",
   "metadata": {},
   "outputs": [],
   "source": [
    "twitter_df = tweet_df.merge(tweet_user, left_index=True, right_index=True)"
   ]
  },
  {
   "cell_type": "markdown",
   "id": "2ce8930b-1b1f-47b6-bb3f-1408212d7c31",
   "metadata": {},
   "source": [
    "## Finding locations of most tweets"
   ]
  },
  {
   "cell_type": "code",
   "execution_count": null,
   "id": "3b7d3fb1-28a9-4cd5-a274-bfab433ece9a",
   "metadata": {},
   "outputs": [],
   "source": [
    "twitter_df.head()"
   ]
  },
  {
   "cell_type": "code",
   "execution_count": null,
   "id": "7894f87a-d0de-4eb6-bfd1-a42851c49076",
   "metadata": {},
   "outputs": [],
   "source": [
    "twitter_df.shape"
   ]
  },
  {
   "cell_type": "code",
   "execution_count": null,
   "id": "7193cdd8-f13c-4dae-80a8-46befdff0d94",
   "metadata": {},
   "outputs": [],
   "source": [
    "twitter_df.location.value_counts().plot(kind='bar', figsize=(10,6))"
   ]
  },
  {
   "cell_type": "markdown",
   "id": "7a33d3dc-b8d3-4985-ac55-0d42423ff37c",
   "metadata": {},
   "source": [
    "## Pulling 100 tweets with search term 'data science'"
   ]
  },
  {
   "cell_type": "code",
   "execution_count": null,
   "id": "2c96b650-dec2-4e5b-a2db-75a58b29b28b",
   "metadata": {},
   "outputs": [],
   "source": [
    "user_screenname = []\n",
    "user_location = []\n",
    "user_name = []\n",
    "user_tz = []\n",
    "user_text = []\n",
    "tweet_tm = []"
   ]
  },
  {
   "cell_type": "code",
   "execution_count": null,
   "id": "6926642b-ba10-45bc-9cc7-2d348fa17b6b",
   "metadata": {},
   "outputs": [],
   "source": [
    "for status in twitter.search(q='data science', result_type='popular', lang='en', count=20)['statuses']:\n",
    "    user = status['user']['screen_name']\n",
    "    text = status['text']\n",
    "    tm = status['created_at']\n",
    "    loc = status['user']['location']\n",
    "    nm = status['user']['name']\n",
    "    tz = status['user']['time_zone']\n",
    "    \n",
    "print()\n",
    "print(user, '--', loc, '--', nm, '--', tm, ':', text)\n",
    "print()\n",
    "\n",
    "user_screenname.append(user)\n",
    "user_location.append(user_location)\n",
    "user_name.append(nm)\n",
    "user_tz.append(tz)\n",
    "tweet_text.append(text)\n",
    "tweet_tm.append(tm)\n"
   ]
  },
  {
   "cell_type": "markdown",
   "id": "115e7cf5-4a8c-4f66-9e96-e10fde26ad92",
   "metadata": {},
   "source": [
    "## Placing tweets into a table"
   ]
  },
  {
   "cell_type": "code",
   "execution_count": null,
   "id": "262c40a9-d93f-42c5-b40c-71e2e200bf19",
   "metadata": {},
   "outputs": [],
   "source": [
    "text = twitter_df[['created_at_x', 'text']]\n",
    "test.head()"
   ]
  },
  {
   "cell_type": "code",
   "execution_count": null,
   "id": "2bd97d51-b77d-4c07-9cf1-9387b346057d",
   "metadata": {},
   "outputs": [],
   "source": [
    "#test.to_scv('twitter.csv')"
   ]
  },
  {
   "cell_type": "code",
   "execution_count": null,
   "id": "aec8eac1-a7fd-4cdd-b7ec-d848b864f4be",
   "metadata": {},
   "outputs": [],
   "source": [
    "test.drop('created_at_x', axis=1, inplace=True)\n",
    "test.rename(columns={'text': 'sentimentText'}, inplace)\n",
    "test.index.names=['ItemID']\n",
    "test.head()"
   ]
  },
  {
   "cell_type": "markdown",
   "id": "f4b87624-a6dd-4086-ac6b-9ca874e9a395",
   "metadata": {},
   "source": [
    "## Exploring Test Data"
   ]
  },
  {
   "cell_type": "code",
   "execution_count": null,
   "id": "8dbf912e-4abf-4fde-86e7-6501fdf97537",
   "metadata": {},
   "outputs": [],
   "source": [
    "test.info()"
   ]
  }
 ],
 "metadata": {
  "kernelspec": {
   "display_name": "Python 3 (ipykernel)",
   "language": "python",
   "name": "python3"
  },
  "language_info": {
   "codemirror_mode": {
    "name": "ipython",
    "version": 3
   },
   "file_extension": ".py",
   "mimetype": "text/x-python",
   "name": "python",
   "nbconvert_exporter": "python",
   "pygments_lexer": "ipython3",
   "version": "3.10.8"
  }
 },
 "nbformat": 4,
 "nbformat_minor": 5
}
